{
 "cells": [
  {
   "cell_type": "code",
   "execution_count": 1,
   "metadata": {},
   "outputs": [],
   "source": [
    "import numpy as np\n",
    "import matplotlib.pyplot as plt\n",
    "%matplotlib inline"
   ]
  },
  {
   "cell_type": "code",
   "execution_count": 13,
   "metadata": {},
   "outputs": [
    {
     "data": {
      "text/plain": [
       "(array([  1.,   0.,   1.,   0.,   0.,   0.,   0.,   1.,   0.,   0.,   0.,\n",
       "          1.,   1.,   1.,   4.,   2.,   0.,   0.,   2.,   2.,   1.,   5.,\n",
       "          2.,   2.,   4.,   6.,   1.,   6.,   6.,   7.,   8.,   9.,  15.,\n",
       "         17.,  17.,  18.,  14.,  22.,  25.,  40.,  23.,  44.,  33.,  39.,\n",
       "         54.,  55.,  53.,  54.,  73.,  97.,  83.,  97.,  94., 120., 123.,\n",
       "        137., 137., 144., 173., 188., 187., 191., 223., 231., 234., 285.,\n",
       "        297., 321., 294., 325., 309., 349., 340., 344., 371., 357., 355.,\n",
       "        341., 271., 312., 293., 276., 267., 212., 200., 160., 108., 109.,\n",
       "         99.,  75.,  63.,  46.,  28.,  20.,  19.,   6.,  13.,   5.,   1.,\n",
       "          1.]),\n",
       " array([0.53073825, 0.53700222, 0.5432662 , 0.54953017, 0.55579414,\n",
       "        0.56205812, 0.56832209, 0.57458606, 0.58085004, 0.58711401,\n",
       "        0.59337799, 0.59964196, 0.60590593, 0.61216991, 0.61843388,\n",
       "        0.62469785, 0.63096183, 0.6372258 , 0.64348978, 0.64975375,\n",
       "        0.65601772, 0.6622817 , 0.66854567, 0.67480965, 0.68107362,\n",
       "        0.68733759, 0.69360157, 0.69986554, 0.70612951, 0.71239349,\n",
       "        0.71865746, 0.72492144, 0.73118541, 0.73744938, 0.74371336,\n",
       "        0.74997733, 0.7562413 , 0.76250528, 0.76876925, 0.77503323,\n",
       "        0.7812972 , 0.78756117, 0.79382515, 0.80008912, 0.8063531 ,\n",
       "        0.81261707, 0.81888104, 0.82514502, 0.83140899, 0.83767296,\n",
       "        0.84393694, 0.85020091, 0.85646489, 0.86272886, 0.86899283,\n",
       "        0.87525681, 0.88152078, 0.88778476, 0.89404873, 0.9003127 ,\n",
       "        0.90657668, 0.91284065, 0.91910462, 0.9253686 , 0.93163257,\n",
       "        0.93789655, 0.94416052, 0.95042449, 0.95668847, 0.96295244,\n",
       "        0.96921641, 0.97548039, 0.98174436, 0.98800834, 0.99427231,\n",
       "        1.00053628, 1.00680026, 1.01306423, 1.01932821, 1.02559218,\n",
       "        1.03185615, 1.03812013, 1.0443841 , 1.05064807, 1.05691205,\n",
       "        1.06317602, 1.06944   , 1.07570397, 1.08196794, 1.08823192,\n",
       "        1.09449589, 1.10075986, 1.10702384, 1.11328781, 1.11955179,\n",
       "        1.12581576, 1.13207973, 1.13834371, 1.14460768, 1.15087166,\n",
       "        1.15713563]),\n",
       " <a list of 100 Patch objects>)"
      ]
     },
     "execution_count": 13,
     "metadata": {},
     "output_type": "execute_result"
    },
    {
     "data": {
      "image/png": "[encoded data removed]",
      "text/plain": [
       "<Figure size 432x288 with 1 Axes>"
      ]
     },
     "metadata": {
      "needs_background": "light"
     },
     "output_type": "display_data"
    }
   ],
   "source": [
    "plt.hist(np.random.weibull(15, 10000), bins=100)"
   ]
  },
  {
   "cell_type": "code",
   "execution_count": 27,
   "metadata": {},
   "outputs": [],
   "source": [
    "x = np.array([np.linspace(0, 10, 100), np.linspace(10, 20, 100)])"
   ]
  },
  {
   "cell_type": "code",
   "execution_count": 32,
   "metadata": {},
   "outputs": [
    {
     "data": {
      "text/plain": [
       "array([[ 0.        , 10.        ],\n",
       "       [ 0.1010101 , 10.1010101 ],\n",
       "       [ 0.2020202 , 10.2020202 ],\n",
       "       [ 0.3030303 , 10.3030303 ],\n",
       "       [ 0.4040404 , 10.4040404 ],\n",
       "       [ 0.50505051, 10.50505051],\n",
       "       [ 0.60606061, 10.60606061],\n",
       "       [ 0.70707071, 10.70707071],\n",
       "       [ 0.80808081, 10.80808081],\n",
       "       [ 0.90909091, 10.90909091],\n",
       "       [ 1.01010101, 11.01010101],\n",
       "       [ 1.11111111, 11.11111111],\n",
       "       [ 1.21212121, 11.21212121],\n",
       "       [ 1.31313131, 11.31313131],\n",
       "       [ 1.41414141, 11.41414141],\n",
       "       [ 1.51515152, 11.51515152],\n",
       "       [ 1.61616162, 11.61616162],\n",
       "       [ 1.71717172, 11.71717172],\n",
       "       [ 1.81818182, 11.81818182],\n",
       "       [ 1.91919192, 11.91919192],\n",
       "       [ 2.02020202, 12.02020202],\n",
       "       [ 2.12121212, 12.12121212],\n",
       "       [ 2.22222222, 12.22222222],\n",
       "       [ 2.32323232, 12.32323232],\n",
       "       [ 2.42424242, 12.42424242],\n",
       "       [ 2.52525253, 12.52525253],\n",
       "       [ 2.62626263, 12.62626263],\n",
       "       [ 2.72727273, 12.72727273],\n",
       "       [ 2.82828283, 12.82828283],\n",
       "       [ 2.92929293, 12.92929293],\n",
       "       [ 3.03030303, 13.03030303],\n",
       "       [ 3.13131313, 13.13131313],\n",
       "       [ 3.23232323, 13.23232323],\n",
       "       [ 3.33333333, 13.33333333],\n",
       "       [ 3.43434343, 13.43434343],\n",
       "       [ 3.53535354, 13.53535354],\n",
       "       [ 3.63636364, 13.63636364],\n",
       "       [ 3.73737374, 13.73737374],\n",
       "       [ 3.83838384, 13.83838384],\n",
       "       [ 3.93939394, 13.93939394],\n",
       "       [ 4.04040404, 14.04040404],\n",
       "       [ 4.14141414, 14.14141414],\n",
       "       [ 4.24242424, 14.24242424],\n",
       "       [ 4.34343434, 14.34343434],\n",
       "       [ 4.44444444, 14.44444444],\n",
       "       [ 4.54545455, 14.54545455],\n",
       "       [ 4.64646465, 14.64646465],\n",
       "       [ 4.74747475, 14.74747475],\n",
       "       [ 4.84848485, 14.84848485],\n",
       "       [ 4.94949495, 14.94949495],\n",
       "       [ 5.05050505, 15.05050505],\n",
       "       [ 5.15151515, 15.15151515],\n",
       "       [ 5.25252525, 15.25252525],\n",
       "       [ 5.35353535, 15.35353535],\n",
       "       [ 5.45454545, 15.45454545],\n",
       "       [ 5.55555556, 15.55555556],\n",
       "       [ 5.65656566, 15.65656566],\n",
       "       [ 5.75757576, 15.75757576],\n",
       "       [ 5.85858586, 15.85858586],\n",
       "       [ 5.95959596, 15.95959596],\n",
       "       [ 6.06060606, 16.06060606],\n",
       "       [ 6.16161616, 16.16161616],\n",
       "       [ 6.26262626, 16.26262626],\n",
       "       [ 6.36363636, 16.36363636],\n",
       "       [ 6.46464646, 16.46464646],\n",
       "       [ 6.56565657, 16.56565657],\n",
       "       [ 6.66666667, 16.66666667],\n",
       "       [ 6.76767677, 16.76767677],\n",
       "       [ 6.86868687, 16.86868687],\n",
       "       [ 6.96969697, 16.96969697],\n",
       "       [ 7.07070707, 17.07070707],\n",
       "       [ 7.17171717, 17.17171717],\n",
       "       [ 7.27272727, 17.27272727],\n",
       "       [ 7.37373737, 17.37373737],\n",
       "       [ 7.47474747, 17.47474747],\n",
       "       [ 7.57575758, 17.57575758],\n",
       "       [ 7.67676768, 17.67676768],\n",
       "       [ 7.77777778, 17.77777778],\n",
       "       [ 7.87878788, 17.87878788],\n",
       "       [ 7.97979798, 17.97979798],\n",
       "       [ 8.08080808, 18.08080808],\n",
       "       [ 8.18181818, 18.18181818],\n",
       "       [ 8.28282828, 18.28282828],\n",
       "       [ 8.38383838, 18.38383838],\n",
       "       [ 8.48484848, 18.48484848],\n",
       "       [ 8.58585859, 18.58585859],\n",
       "       [ 8.68686869, 18.68686869],\n",
       "       [ 8.78787879, 18.78787879],\n",
       "       [ 8.88888889, 18.88888889],\n",
       "       [ 8.98989899, 18.98989899],\n",
       "       [ 9.09090909, 19.09090909],\n",
       "       [ 9.19191919, 19.19191919],\n",
       "       [ 9.29292929, 19.29292929],\n",
       "       [ 9.39393939, 19.39393939],\n",
       "       [ 9.49494949, 19.49494949],\n",
       "       [ 9.5959596 , 19.5959596 ],\n",
       "       [ 9.6969697 , 19.6969697 ],\n",
       "       [ 9.7979798 , 19.7979798 ],\n",
       "       [ 9.8989899 , 19.8989899 ],\n",
       "       [10.        , 20.        ]])"
      ]
     },
     "execution_count": 32,
     "metadata": {},
     "output_type": "execute_result"
    }
   ],
   "source": [
    "x.T"
   ]
  },
  {
   "cell_type": "code",
   "execution_count": 30,
   "metadata": {},
   "outputs": [
    {
     "data": {
      "text/plain": [
       "(2, 100)"
      ]
     },
     "execution_count": 30,
     "metadata": {},
     "output_type": "execute_result"
    }
   ],
   "source": [
    "x.shape"
   ]
  },
  {
   "cell_type": "code",
   "execution_count": null,
   "metadata": {},
   "outputs": [],
   "source": []
  }
 ],
 "metadata": {
  "kernelspec": {
   "display_name": "Python 3",
   "language": "python",
   "name": "python3"
  },
  "language_info": {
   "codemirror_mode": {
    "name": "ipython",
    "version": 3
   },
   "file_extension": ".py",
   "mimetype": "text/x-python",
   "name": "python",
   "nbconvert_exporter": "python",
   "pygments_lexer": "ipython3",
   "version": "3.7.4"
  }
 },
 "nbformat": 4,
 "nbformat_minor": 2
}
