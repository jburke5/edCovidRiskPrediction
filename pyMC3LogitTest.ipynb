{
 "cells": [
  {
   "cell_type": "code",
   "execution_count": 102,
   "metadata": {},
   "outputs": [],
   "source": [
    "import pandas as pd\n",
    "import numpy as np\n",
    "import matplotlib.pyplot as plt\n",
    "%matplotlib inline"
   ]
  },
  {
   "cell_type": "code",
   "execution_count": 91,
   "metadata": {},
   "outputs": [],
   "source": [
    "rawData = pd.read_csv('LAB orders Details for potential COVID19 Mar 01-24 2020.csv')"
   ]
  },
  {
   "cell_type": "code",
   "execution_count": 92,
   "metadata": {},
   "outputs": [
    {
     "data": {
      "text/plain": [
       "Index(['COVID19_PATIENT', 'DX_NAME', 'ISOLATION', 'PATIENT_LIST', 'PAT_CLASS',\n",
       "       'COMPONENT_BASE_NAME', 'PAT_MRN_ID', 'PAT_ID', 'HSP_ACCOUNT_ID',\n",
       "       'PAT_ENC_CSN_ID', 'ORDER_ID', 'DESCRIPTION', 'COMPONENT_ID',\n",
       "       'ORDER_INST', 'RESULT_TIME', 'RESULT_LINE', 'COMPONENT_NAME',\n",
       "       'ORD_VALUE', 'REFERENCE_LOW', 'REFERENCE_HIGH', 'RESULT_FLAG',\n",
       "       'ABNORMAL_YN', 'PAT_AGE_AT_ENC', 'ENC_TYPE', 'CONTACT_DATE',\n",
       "       'APPT_TIME', 'HOSP_ADMSN_TIME', 'HOSP_DISCHRG_TIME', 'ADMIT_TYPE',\n",
       "       'ORDER_TYPE_C', 'ORDER_STATUS_C', 'RESULTS_CMT'],\n",
       "      dtype='object')"
      ]
     },
     "execution_count": 92,
     "metadata": {},
     "output_type": "execute_result"
    }
   ],
   "source": [
    "rawData.columns"
   ]
  },
  {
   "cell_type": "code",
   "execution_count": 93,
   "metadata": {},
   "outputs": [
    {
     "name": "stdout",
     "output_type": "stream",
     "text": [
      "33790\n",
      "15351\n"
     ]
    }
   ],
   "source": [
    "rawData = rawData[['PAT_MRN_ID', 'ADMIT_TYPE', 'COMPONENT_NAME', 'ORD_VALUE', 'PAT_AGE_AT_ENC', 'RESULT_TIME']]\n",
    "rawData.replace('C-REACTIVE PROTEIN SCREEN', value='crp', inplace=True)\n",
    "rawData.replace('FERRITIN', value='ferritin', inplace=True)\n",
    "rawData.replace('D-DIMER (SOFT)', value='dDimer', inplace=True)\n",
    "rawData.sort_values(by=['PAT_MRN_ID', 'COMPONENT_NAME', 'RESULT_TIME'], ascending=True, axis='index', inplace=True)\n",
    "print(len(rawData))\n",
    "rawData.drop_duplicates(subset=['PAT_MRN_ID','COMPONENT_NAME' ],keep='first', inplace=True)\n",
    "print(len(rawData))"
   ]
  },
  {
   "cell_type": "code",
   "execution_count": 94,
   "metadata": {},
   "outputs": [],
   "source": [
    "rawData = rawData.loc[rawData.COMPONENT_NAME.isin(['crp', 'ferritin', 'dDimer'])]\n"
   ]
  },
  {
   "cell_type": "code",
   "execution_count": 95,
   "metadata": {},
   "outputs": [],
   "source": [
    "wide = rawData.pivot(index='PAT_MRN_ID', columns='COMPONENT_NAME', values='ORD_VALUE')"
   ]
  },
  {
   "cell_type": "code",
   "execution_count": 145,
   "metadata": {},
   "outputs": [],
   "source": [
    "ages = rawData.groupby('PAT_MRN_ID').first().rename(columns={'PAT_AGE_AT_ENC':'age'})\n",
    "cleanedData = pd.concat([wide,ages],1)\n",
    "cleanedData.crp.replace('<0.2', 0.1, inplace=True)\n",
    "cleanedData.dDimer.replace('<0.17', 0.1, inplace=True)\n",
    "cleanedData.dDimer.replace('>35.00', 40, inplace=True)\n",
    "cleanedData.ferritin.replace('>16500.0', 1650, inplace=True)\n",
    "cleanedData.ferritin.replace('>1650.0', 1650, inplace=True)\n",
    "\n",
    "cleanedData.crp = cleanedData.crp.astype('float')\n",
    "cleanedData.dDimer = cleanedData.dDimer.astype('float')\n",
    "cleanedData.ferritin = cleanedData.ferritin.astype('float')"
   ]
  },
  {
   "cell_type": "code",
   "execution_count": 146,
   "metadata": {},
   "outputs": [
    {
     "data": {
      "text/html": [
       "<div>\n",
       "<style scoped>\n",
       "    .dataframe tbody tr th:only-of-type {\n",
       "        vertical-align: middle;\n",
       "    }\n",
       "\n",
       "    .dataframe tbody tr th {\n",
       "        vertical-align: top;\n",
       "    }\n",
       "\n",
       "    .dataframe thead th {\n",
       "        text-align: right;\n",
       "    }\n",
       "</style>\n",
       "<table border=\"1\" class=\"dataframe\">\n",
       "  <thead>\n",
       "    <tr style=\"text-align: right;\">\n",
       "      <th></th>\n",
       "      <th>crp</th>\n",
       "      <th>dDimer</th>\n",
       "      <th>ferritin</th>\n",
       "      <th>ADMIT_TYPE</th>\n",
       "      <th>COMPONENT_NAME</th>\n",
       "      <th>ORD_VALUE</th>\n",
       "      <th>age</th>\n",
       "      <th>RESULT_TIME</th>\n",
       "    </tr>\n",
       "    <tr>\n",
       "      <th>PAT_MRN_ID</th>\n",
       "      <th></th>\n",
       "      <th></th>\n",
       "      <th></th>\n",
       "      <th></th>\n",
       "      <th></th>\n",
       "      <th></th>\n",
       "      <th></th>\n",
       "      <th></th>\n",
       "    </tr>\n",
       "  </thead>\n",
       "  <tbody>\n",
       "    <tr>\n",
       "      <td>250077</td>\n",
       "      <td>0.1</td>\n",
       "      <td>3.93</td>\n",
       "      <td>148.2</td>\n",
       "      <td>Emergent</td>\n",
       "      <td>crp</td>\n",
       "      <td>&lt;0.2</td>\n",
       "      <td>92</td>\n",
       "      <td>2020-03-20 05:54</td>\n",
       "    </tr>\n",
       "    <tr>\n",
       "      <td>331259</td>\n",
       "      <td>1.9</td>\n",
       "      <td>NaN</td>\n",
       "      <td>NaN</td>\n",
       "      <td>Emergent</td>\n",
       "      <td>crp</td>\n",
       "      <td>1.9</td>\n",
       "      <td>83</td>\n",
       "      <td>2020-03-08 22:15</td>\n",
       "    </tr>\n",
       "    <tr>\n",
       "      <td>409157</td>\n",
       "      <td>3.3</td>\n",
       "      <td>NaN</td>\n",
       "      <td>NaN</td>\n",
       "      <td>Emergent</td>\n",
       "      <td>crp</td>\n",
       "      <td>3.3</td>\n",
       "      <td>71</td>\n",
       "      <td>2020-03-03 09:13</td>\n",
       "    </tr>\n",
       "    <tr>\n",
       "      <td>437190</td>\n",
       "      <td>9.6</td>\n",
       "      <td>NaN</td>\n",
       "      <td>NaN</td>\n",
       "      <td>Emergent</td>\n",
       "      <td>crp</td>\n",
       "      <td>9.6</td>\n",
       "      <td>66</td>\n",
       "      <td>2020-03-11 16:10</td>\n",
       "    </tr>\n",
       "    <tr>\n",
       "      <td>4426988</td>\n",
       "      <td>NaN</td>\n",
       "      <td>0.91</td>\n",
       "      <td>NaN</td>\n",
       "      <td>Emergent</td>\n",
       "      <td>dDimer</td>\n",
       "      <td>0.91</td>\n",
       "      <td>80</td>\n",
       "      <td>2020-03-03 06:16</td>\n",
       "    </tr>\n",
       "    <tr>\n",
       "      <td>...</td>\n",
       "      <td>...</td>\n",
       "      <td>...</td>\n",
       "      <td>...</td>\n",
       "      <td>...</td>\n",
       "      <td>...</td>\n",
       "      <td>...</td>\n",
       "      <td>...</td>\n",
       "      <td>...</td>\n",
       "    </tr>\n",
       "    <tr>\n",
       "      <td>101236288</td>\n",
       "      <td>3.6</td>\n",
       "      <td>NaN</td>\n",
       "      <td>NaN</td>\n",
       "      <td>Emergent</td>\n",
       "      <td>crp</td>\n",
       "      <td>3.6</td>\n",
       "      <td>14</td>\n",
       "      <td>2020-03-23 23:53</td>\n",
       "    </tr>\n",
       "    <tr>\n",
       "      <td>101236739</td>\n",
       "      <td>8.4</td>\n",
       "      <td>0.87</td>\n",
       "      <td>1222.7</td>\n",
       "      <td>Emergent</td>\n",
       "      <td>crp</td>\n",
       "      <td>8.4</td>\n",
       "      <td>37</td>\n",
       "      <td>2020-03-24 12:08</td>\n",
       "    </tr>\n",
       "    <tr>\n",
       "      <td>101236809</td>\n",
       "      <td>NaN</td>\n",
       "      <td>0.62</td>\n",
       "      <td>86.4</td>\n",
       "      <td>Emergent</td>\n",
       "      <td>dDimer</td>\n",
       "      <td>0.62</td>\n",
       "      <td>78</td>\n",
       "      <td>2020-03-24 13:44</td>\n",
       "    </tr>\n",
       "    <tr>\n",
       "      <td>101236818</td>\n",
       "      <td>47.0</td>\n",
       "      <td>5.14</td>\n",
       "      <td>3285.7</td>\n",
       "      <td>Urgent</td>\n",
       "      <td>crp</td>\n",
       "      <td>47.0</td>\n",
       "      <td>33</td>\n",
       "      <td>2020-03-24 18:38</td>\n",
       "    </tr>\n",
       "    <tr>\n",
       "      <td>101236955</td>\n",
       "      <td>11.6</td>\n",
       "      <td>NaN</td>\n",
       "      <td>NaN</td>\n",
       "      <td>Emergent</td>\n",
       "      <td>crp</td>\n",
       "      <td>11.6</td>\n",
       "      <td>65</td>\n",
       "      <td>2020-03-24 19:04</td>\n",
       "    </tr>\n",
       "  </tbody>\n",
       "</table>\n",
       "<p>1034 rows × 8 columns</p>\n",
       "</div>"
      ],
      "text/plain": [
       "             crp  dDimer  ferritin ADMIT_TYPE COMPONENT_NAME ORD_VALUE  age  \\\n",
       "PAT_MRN_ID                                                                    \n",
       "250077       0.1    3.93     148.2   Emergent            crp      <0.2   92   \n",
       "331259       1.9     NaN       NaN   Emergent            crp       1.9   83   \n",
       "409157       3.3     NaN       NaN   Emergent            crp       3.3   71   \n",
       "437190       9.6     NaN       NaN   Emergent            crp       9.6   66   \n",
       "4426988      NaN    0.91       NaN   Emergent         dDimer      0.91   80   \n",
       "...          ...     ...       ...        ...            ...       ...  ...   \n",
       "101236288    3.6     NaN       NaN   Emergent            crp       3.6   14   \n",
       "101236739    8.4    0.87    1222.7   Emergent            crp       8.4   37   \n",
       "101236809    NaN    0.62      86.4   Emergent         dDimer      0.62   78   \n",
       "101236818   47.0    5.14    3285.7     Urgent            crp      47.0   33   \n",
       "101236955   11.6     NaN       NaN   Emergent            crp      11.6   65   \n",
       "\n",
       "                 RESULT_TIME  \n",
       "PAT_MRN_ID                    \n",
       "250077      2020-03-20 05:54  \n",
       "331259      2020-03-08 22:15  \n",
       "409157      2020-03-03 09:13  \n",
       "437190      2020-03-11 16:10  \n",
       "4426988     2020-03-03 06:16  \n",
       "...                      ...  \n",
       "101236288   2020-03-23 23:53  \n",
       "101236739   2020-03-24 12:08  \n",
       "101236809   2020-03-24 13:44  \n",
       "101236818   2020-03-24 18:38  \n",
       "101236955   2020-03-24 19:04  \n",
       "\n",
       "[1034 rows x 8 columns]"
      ]
     },
     "execution_count": 146,
     "metadata": {},
     "output_type": "execute_result"
    }
   ],
   "source": [
    "cleanedData"
   ]
  },
  {
   "cell_type": "code",
   "execution_count": 171,
   "metadata": {},
   "outputs": [],
   "source": [
    "import scipy.special as scipySpecial\n",
    "simData = cleanedData\n",
    "\n",
    "# need to do some imputation here...will start with something simple...\n",
    "simData['crp'].fillna(simData.crp.mean(), inplace=True)\n",
    "simData['dDimer'].fillna(simData.dDimer.mean(), inplace=True)\n",
    "simData['ferritin'].fillna(simData.ferritin.mean(), inplace=True)\n",
    "\n",
    "\n",
    "simData['linPredictor'] = (cleanedData.crp-cleanedData.crp.mean())*1.2+(cleanedData.dDimer-cleanedData.dDimer.mean())*2+(cleanedData.age-cleanedData.age.mean())/10*4 + np.random.normal(10)\n",
    "simData['linPredictorCentered'] = simData.linPredictor - simData.linPredictor.mean()\n",
    "\n",
    "simData['probDead'] = scipySpecial.expit(simData.linPredictorCentered)\n",
    "simData['dead'] = simData.probDead > 0.9\n",
    "simData = simData[['crp', 'dDimer', 'ferritin', 'age', 'dead']]"
   ]
  },
  {
   "cell_type": "code",
   "execution_count": 172,
   "metadata": {},
   "outputs": [
    {
     "data": {
      "text/plain": [
       "False    590\n",
       "True     444\n",
       "Name: dead, dtype: int64"
      ]
     },
     "execution_count": 172,
     "metadata": {},
     "output_type": "execute_result"
    }
   ],
   "source": [
    "simData.dead.value_counts()"
   ]
  },
  {
   "cell_type": "code",
   "execution_count": 173,
   "metadata": {},
   "outputs": [
    {
     "data": {
      "text/html": [
       "<div>\n",
       "<style scoped>\n",
       "    .dataframe tbody tr th:only-of-type {\n",
       "        vertical-align: middle;\n",
       "    }\n",
       "\n",
       "    .dataframe tbody tr th {\n",
       "        vertical-align: top;\n",
       "    }\n",
       "\n",
       "    .dataframe thead th {\n",
       "        text-align: right;\n",
       "    }\n",
       "</style>\n",
       "<table border=\"1\" class=\"dataframe\">\n",
       "  <thead>\n",
       "    <tr style=\"text-align: right;\">\n",
       "      <th></th>\n",
       "      <th>crp</th>\n",
       "      <th>dDimer</th>\n",
       "      <th>ferritin</th>\n",
       "      <th>age</th>\n",
       "      <th>dead</th>\n",
       "    </tr>\n",
       "    <tr>\n",
       "      <th>PAT_MRN_ID</th>\n",
       "      <th></th>\n",
       "      <th></th>\n",
       "      <th></th>\n",
       "      <th></th>\n",
       "      <th></th>\n",
       "    </tr>\n",
       "  </thead>\n",
       "  <tbody>\n",
       "    <tr>\n",
       "      <td>250077</td>\n",
       "      <td>0.100000</td>\n",
       "      <td>3.930000</td>\n",
       "      <td>148.200000</td>\n",
       "      <td>92</td>\n",
       "      <td>True</td>\n",
       "    </tr>\n",
       "    <tr>\n",
       "      <td>331259</td>\n",
       "      <td>1.900000</td>\n",
       "      <td>2.941451</td>\n",
       "      <td>937.886154</td>\n",
       "      <td>83</td>\n",
       "      <td>True</td>\n",
       "    </tr>\n",
       "    <tr>\n",
       "      <td>409157</td>\n",
       "      <td>3.300000</td>\n",
       "      <td>2.941451</td>\n",
       "      <td>937.886154</td>\n",
       "      <td>71</td>\n",
       "      <td>True</td>\n",
       "    </tr>\n",
       "    <tr>\n",
       "      <td>437190</td>\n",
       "      <td>9.600000</td>\n",
       "      <td>2.941451</td>\n",
       "      <td>937.886154</td>\n",
       "      <td>66</td>\n",
       "      <td>True</td>\n",
       "    </tr>\n",
       "    <tr>\n",
       "      <td>4426988</td>\n",
       "      <td>5.178652</td>\n",
       "      <td>0.910000</td>\n",
       "      <td>937.886154</td>\n",
       "      <td>80</td>\n",
       "      <td>True</td>\n",
       "    </tr>\n",
       "    <tr>\n",
       "      <td>...</td>\n",
       "      <td>...</td>\n",
       "      <td>...</td>\n",
       "      <td>...</td>\n",
       "      <td>...</td>\n",
       "      <td>...</td>\n",
       "    </tr>\n",
       "    <tr>\n",
       "      <td>101236288</td>\n",
       "      <td>3.600000</td>\n",
       "      <td>2.941451</td>\n",
       "      <td>937.886154</td>\n",
       "      <td>14</td>\n",
       "      <td>False</td>\n",
       "    </tr>\n",
       "    <tr>\n",
       "      <td>101236739</td>\n",
       "      <td>8.400000</td>\n",
       "      <td>0.870000</td>\n",
       "      <td>1222.700000</td>\n",
       "      <td>37</td>\n",
       "      <td>False</td>\n",
       "    </tr>\n",
       "    <tr>\n",
       "      <td>101236809</td>\n",
       "      <td>5.178652</td>\n",
       "      <td>0.620000</td>\n",
       "      <td>86.400000</td>\n",
       "      <td>78</td>\n",
       "      <td>True</td>\n",
       "    </tr>\n",
       "    <tr>\n",
       "      <td>101236818</td>\n",
       "      <td>47.000000</td>\n",
       "      <td>5.140000</td>\n",
       "      <td>3285.700000</td>\n",
       "      <td>33</td>\n",
       "      <td>True</td>\n",
       "    </tr>\n",
       "    <tr>\n",
       "      <td>101236955</td>\n",
       "      <td>11.600000</td>\n",
       "      <td>2.941451</td>\n",
       "      <td>937.886154</td>\n",
       "      <td>65</td>\n",
       "      <td>True</td>\n",
       "    </tr>\n",
       "  </tbody>\n",
       "</table>\n",
       "<p>1034 rows × 5 columns</p>\n",
       "</div>"
      ],
      "text/plain": [
       "                  crp    dDimer     ferritin  age   dead\n",
       "PAT_MRN_ID                                              \n",
       "250077       0.100000  3.930000   148.200000   92   True\n",
       "331259       1.900000  2.941451   937.886154   83   True\n",
       "409157       3.300000  2.941451   937.886154   71   True\n",
       "437190       9.600000  2.941451   937.886154   66   True\n",
       "4426988      5.178652  0.910000   937.886154   80   True\n",
       "...               ...       ...          ...  ...    ...\n",
       "101236288    3.600000  2.941451   937.886154   14  False\n",
       "101236739    8.400000  0.870000  1222.700000   37  False\n",
       "101236809    5.178652  0.620000    86.400000   78   True\n",
       "101236818   47.000000  5.140000  3285.700000   33   True\n",
       "101236955   11.600000  2.941451   937.886154   65   True\n",
       "\n",
       "[1034 rows x 5 columns]"
      ]
     },
     "execution_count": 173,
     "metadata": {},
     "output_type": "execute_result"
    }
   ],
   "source": [
    "simData"
   ]
  },
  {
   "cell_type": "code",
   "execution_count": 174,
   "metadata": {},
   "outputs": [
    {
     "name": "stderr",
     "output_type": "stream",
     "text": [
      "Auto-assigning NUTS sampler...\n",
      "Initializing NUTS using jitter+adapt_diag...\n",
      "Multiprocess sampling (4 chains in 4 jobs)\n",
      "NUTS: [betaAge, betaDDimer, betaFerritin, betaCRP, alpha]\n",
      "Sampling 4 chains, 9 divergences: 100%|██████████| 8000/8000 [00:18<00:00, 429.60draws/s]\n",
      "There were 6 divergences after tuning. Increase `target_accept` or reparameterize.\n",
      "There were 2 divergences after tuning. Increase `target_accept` or reparameterize.\n",
      "There was 1 divergence after tuning. Increase `target_accept` or reparameterize.\n",
      "The number of effective samples is smaller than 25% for some parameters.\n"
     ]
    }
   ],
   "source": [
    "import pymc3 as pm\n",
    "\n",
    "dead = simData['dead']\n",
    "crp = simData.crp - simData.crp.mean()\n",
    "ferritin = simData.ferritin - simData.ferritin.mean()\n",
    "dDimer = simData.dDimer - simData.dDimer.mean()\n",
    "age = simData.age - simData.age.mean()\n",
    "\n",
    "\n",
    "with pm.Model() as model_simple:\n",
    "    alpha = pm.Normal('alpha', mu=0, sd=10)\n",
    "    betaCRP = pm.Normal('betaCRP', mu=0, sd=10)\n",
    "    betaFerritin = pm.Normal('betaFerritin', mu=0, sd=10)\n",
    "    betaDDimer = pm.Normal('betaDDimer', mu=0, sd=10)\n",
    "    betaAge = pm.Normal('betaAge', mu=0, sd=10)\n",
    "\n",
    "    \n",
    "    mu = alpha + betaCRP * crp + betaDDimer * dDimer + betaAge * age + betaFerritin*ferritin   \n",
    "    θ = pm.Deterministic('θ', pm.math.sigmoid(mu))\n",
    "    \n",
    "    y_1 = pm.Bernoulli('y_1', p=θ, observed=dead)\n",
    "\n",
    "    trace_simple = pm.sample(1000, tune=1000)"
   ]
  },
  {
   "cell_type": "code",
   "execution_count": 175,
   "metadata": {},
   "outputs": [
    {
     "data": {
      "text/plain": [
       "count    4000.000000\n",
       "mean       10.431563\n",
       "std         2.211953\n",
       "min         4.934773\n",
       "25%         8.768431\n",
       "50%        10.245079\n",
       "75%        11.862011\n",
       "max        19.733901\n",
       "dtype: float64"
      ]
     },
     "execution_count": 175,
     "metadata": {},
     "output_type": "execute_result"
    }
   ],
   "source": [
    "pd.Series(trace_simple['betaCRP']).describe()"
   ]
  },
  {
   "cell_type": "code",
   "execution_count": 176,
   "metadata": {},
   "outputs": [
    {
     "data": {
      "text/plain": [
       "count    4000.000000\n",
       "mean        3.483784\n",
       "std         0.738420\n",
       "min         1.671489\n",
       "25%         2.931102\n",
       "50%         3.417458\n",
       "75%         3.955217\n",
       "max         6.543090\n",
       "dtype: float64"
      ]
     },
     "execution_count": 176,
     "metadata": {},
     "output_type": "execute_result"
    }
   ],
   "source": [
    "pd.Series(trace_simple['betaAge']).describe()"
   ]
  },
  {
   "cell_type": "code",
   "execution_count": 177,
   "metadata": {},
   "outputs": [
    {
     "data": {
      "text/plain": [
       "count    4000.000000\n",
       "mean       17.956865\n",
       "std         3.753537\n",
       "min         8.797515\n",
       "25%        15.168058\n",
       "50%        17.586538\n",
       "75%        20.380438\n",
       "max        34.265024\n",
       "dtype: float64"
      ]
     },
     "execution_count": 177,
     "metadata": {},
     "output_type": "execute_result"
    }
   ],
   "source": [
    "pd.Series(trace_simple['betaDDimer']).describe()"
   ]
  },
  {
   "cell_type": "code",
   "execution_count": 178,
   "metadata": {},
   "outputs": [
    {
     "data": {
      "text/plain": [
       "count    4000.000000\n",
       "mean        0.000098\n",
       "std         0.000583\n",
       "min        -0.001266\n",
       "25%        -0.000379\n",
       "50%         0.000032\n",
       "75%         0.000489\n",
       "max         0.002235\n",
       "dtype: float64"
      ]
     },
     "execution_count": 178,
     "metadata": {},
     "output_type": "execute_result"
    }
   ],
   "source": [
    "pd.Series(trace_simple['betaFerritin']).describe()"
   ]
  }
 ],
 "metadata": {
  "kernelspec": {
   "display_name": "Python 3",
   "language": "python",
   "name": "python3"
  },
  "language_info": {
   "codemirror_mode": {
    "name": "ipython",
    "version": 3
   },
   "file_extension": ".py",
   "mimetype": "text/x-python",
   "name": "python",
   "nbconvert_exporter": "python",
   "pygments_lexer": "ipython3",
   "version": "3.7.4"
  }
 },
 "nbformat": 4,
 "nbformat_minor": 2
}
