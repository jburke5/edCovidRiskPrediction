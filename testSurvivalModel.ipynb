{
 "cells": [
  {
   "cell_type": "code",
   "execution_count": 4,
   "metadata": {},
   "outputs": [],
   "source": [
    "import pandas as pd\n",
    "import numpy as np\n",
    "\n",
    "import matplotlib.pyplot as plt\n",
    "import arviz as az\n",
    "from sklearn.metrics import accuracy_score, f1_score, roc_auc_score\n",
    "from DataManagement import loadFiles, impute, calcSofa\n",
    "\n",
    "\n",
    "%matplotlib inline"
   ]
  },
  {
   "cell_type": "code",
   "execution_count": 2,
   "metadata": {},
   "outputs": [
    {
     "name": "stderr",
     "output_type": "stream",
     "text": [
      "/Users/burke/opt/anaconda3/lib/python3.7/site-packages/pandas/io/stata.py:370: UserWarning: Encountered %tC format. Leaving in Stata Internal Format.\n",
      "  warnings.warn(\"Encountered %tC format. Leaving in Stata \" \"Internal Format.\")\n",
      "/Users/burke/opt/anaconda3/lib/python3.7/site-packages/statsmodels/imputation/mice.py:979: RuntimeWarning: covariance is not positive-semidefinite.\n",
      "  self.params[vname] = np.random.multivariate_normal(mean=mu, cov=cov)\n"
     ]
    }
   ],
   "source": [
    "caseAbstractions, rawData = loadFiles()\n",
    "cleanedData, imputedData = impute(rawData)\n",
    "cleanedData = calcSofa(cleanedData)"
   ]
  },
  {
   "cell_type": "code",
   "execution_count": 3,
   "metadata": {},
   "outputs": [],
   "source": [
    "factorsWithPriors = ['age', 'female', 'sofa', 'lymph']\n",
    "factorsWithoutPriors =  ['crp', 'dDimer', 'ferritin', 'hsTrop', 'hgb', 'lac', 'ldh', 'albumin', 'hr', 'rr', 'temp', 'hypertension', 'diabetes',\n",
    "       'asthma', 'copd', 'chronic_lung', 'home_o2', 'osa', 'immunocompromised']\n",
    "missCols = [col for col in cleanedData.columns if \"Missing\" in col]\n",
    "outcomes = ['icu', 'primaryOutcome', 'lastTime']\n",
    "\n",
    "allCols = factorsWithPriors.copy()\n",
    "allCols.extend(factorsWithoutPriors)\n",
    "allCols.extend(missCols)\n",
    "allPredictors = allCols.copy()\n",
    "allCols.extend(outcomes)\n",
    "\n",
    "\n",
    "modelData = cleanedData[allCols]"
   ]
  },
  {
   "cell_type": "code",
   "execution_count": 4,
   "metadata": {},
   "outputs": [],
   "source": [
    "import pymc3 as pm\n",
    "from theano import shared, tensor as tt"
   ]
  },
  {
   "cell_type": "code",
   "execution_count": 5,
   "metadata": {},
   "outputs": [],
   "source": [
    "def getBetaNameForLab(lab):\n",
    "    return 'beta' + lab.capitalize()"
   ]
  },
  {
   "cell_type": "code",
   "execution_count": 6,
   "metadata": {},
   "outputs": [
    {
     "name": "stderr",
     "output_type": "stream",
     "text": [
      "/Users/burke/opt/anaconda3/lib/python3.7/site-packages/pandas/core/indexing.py:376: SettingWithCopyWarning: \n",
      "A value is trying to be set on a copy of a slice from a DataFrame.\n",
      "Try using .loc[row_indexer,col_indexer] = value instead\n",
      "\n",
      "See the caveats in the documentation: http://pandas.pydata.org/pandas-docs/stable/user_guide/indexing.html#returning-a-view-versus-a-copy\n",
      "  self.obj[key] = _infer_fill_value(value)\n",
      "/Users/burke/opt/anaconda3/lib/python3.7/site-packages/pandas/core/indexing.py:494: SettingWithCopyWarning: \n",
      "A value is trying to be set on a copy of a slice from a DataFrame.\n",
      "Try using .loc[row_indexer,col_indexer] = value instead\n",
      "\n",
      "See the caveats in the documentation: http://pandas.pydata.org/pandas-docs/stable/user_guide/indexing.html#returning-a-view-versus-a-copy\n",
      "  self.obj[item] = s\n"
     ]
    }
   ],
   "source": [
    "modelData.loc[:,'time'] = np.log(modelData.lastTime)\n",
    "modelData.loc[:,'timeStandardized'] = (modelData.time - modelData.time.mean()) / modelData.time.std()\n",
    "#modelData.loc[modelData.primaryOutcome, 'outcome'] = modelData.primaryOutcome\n",
    "#modelData.loc[((modelData.lastTime >= 30) & (~modelData.primaryOutcome)), 'outcome'] = False\n",
    "modelData.loc[:,'censored'] = ~modelData.primaryOutcome"
   ]
  },
  {
   "cell_type": "code",
   "execution_count": 353,
   "metadata": {},
   "outputs": [
    {
     "name": "stderr",
     "output_type": "stream",
     "text": [
      "/Users/burke/opt/anaconda3/lib/python3.7/site-packages/theano/tensor/subtensor.py:2197: FutureWarning: Using a non-tuple sequence for multidimensional indexing is deprecated; use `arr[tuple(seq)]` instead of `arr[seq]`. In the future this will be interpreted as an array index, `arr[np.array(seq)]`, which will result either in an error or a different result.\n",
      "  rval = inputs[0].__getitem__(inputs[1:])\n",
      "Auto-assigning NUTS sampler...\n",
      "Initializing NUTS using adapt_diag...\n"
     ]
    },
    {
     "ename": "KeyboardInterrupt",
     "evalue": "",
     "output_type": "error",
     "traceback": [
      "\u001b[0;31m---------------------------------------------------------------------------\u001b[0m",
      "\u001b[0;31mKeyboardInterrupt\u001b[0m                         Traceback (most recent call last)",
      "\u001b[0;32m<ipython-input-353-8a3426eb92d4>\u001b[0m in \u001b[0;36m<module>\u001b[0;34m\u001b[0m\n\u001b[1;32m     42\u001b[0m     \u001b[0my_cens\u001b[0m \u001b[0;34m=\u001b[0m \u001b[0mpm\u001b[0m\u001b[0;34m.\u001b[0m\u001b[0mPotential\u001b[0m\u001b[0;34m(\u001b[0m\u001b[0;34m'y_cens'\u001b[0m\u001b[0;34m,\u001b[0m \u001b[0mweibull_lccdf\u001b[0m\u001b[0;34m(\u001b[0m\u001b[0mtime\u001b[0m\u001b[0;34m[\u001b[0m\u001b[0mcensored\u001b[0m\u001b[0;34m]\u001b[0m\u001b[0;34m,\u001b[0m \u001b[0malpha\u001b[0m\u001b[0;34m,\u001b[0m \u001b[0mtt\u001b[0m\u001b[0;34m.\u001b[0m\u001b[0mexp\u001b[0m\u001b[0;34m(\u001b[0m\u001b[0mmu\u001b[0m\u001b[0;34m[\u001b[0m\u001b[0mcensored\u001b[0m\u001b[0;34m]\u001b[0m\u001b[0;34m/\u001b[0m\u001b[0malpha\u001b[0m\u001b[0;34m)\u001b[0m\u001b[0;34m)\u001b[0m\u001b[0;34m)\u001b[0m\u001b[0;34m\u001b[0m\u001b[0;34m\u001b[0m\u001b[0m\n\u001b[1;32m     43\u001b[0m \u001b[0;34m\u001b[0m\u001b[0m\n\u001b[0;32m---> 44\u001b[0;31m     \u001b[0mtraceTimeToEventSimpleWeibull\u001b[0m \u001b[0;34m=\u001b[0m \u001b[0mpm\u001b[0m\u001b[0;34m.\u001b[0m\u001b[0msample\u001b[0m\u001b[0;34m(\u001b[0m\u001b[0;36m1000\u001b[0m\u001b[0;34m,\u001b[0m \u001b[0mtune\u001b[0m\u001b[0;34m=\u001b[0m\u001b[0;36m1000\u001b[0m\u001b[0;34m,\u001b[0m \u001b[0mchains\u001b[0m\u001b[0;34m=\u001b[0m\u001b[0;36m4\u001b[0m\u001b[0;34m,\u001b[0m \u001b[0mcores\u001b[0m\u001b[0;34m=\u001b[0m\u001b[0;36m1\u001b[0m\u001b[0;34m,\u001b[0m \u001b[0minit\u001b[0m\u001b[0;34m=\u001b[0m\u001b[0;34m'adapt_diag'\u001b[0m\u001b[0;34m)\u001b[0m\u001b[0;34m\u001b[0m\u001b[0;34m\u001b[0m\u001b[0m\n\u001b[0m",
      "\u001b[0;32m~/opt/anaconda3/lib/python3.7/site-packages/pymc3/sampling.py\u001b[0m in \u001b[0;36msample\u001b[0;34m(draws, step, init, n_init, start, trace, chain_idx, chains, cores, tune, progressbar, model, random_seed, discard_tuned_samples, compute_convergence_checks, **kwargs)\u001b[0m\n\u001b[1;32m    420\u001b[0m                 \u001b[0mrandom_seed\u001b[0m\u001b[0;34m=\u001b[0m\u001b[0mrandom_seed\u001b[0m\u001b[0;34m,\u001b[0m\u001b[0;34m\u001b[0m\u001b[0;34m\u001b[0m\u001b[0m\n\u001b[1;32m    421\u001b[0m                 \u001b[0mprogressbar\u001b[0m\u001b[0;34m=\u001b[0m\u001b[0mprogressbar\u001b[0m\u001b[0;34m,\u001b[0m\u001b[0;34m\u001b[0m\u001b[0;34m\u001b[0m\u001b[0m\n\u001b[0;32m--> 422\u001b[0;31m                 \u001b[0;34m**\u001b[0m\u001b[0mkwargs\u001b[0m\u001b[0;34m\u001b[0m\u001b[0;34m\u001b[0m\u001b[0m\n\u001b[0m\u001b[1;32m    423\u001b[0m             )\n\u001b[1;32m    424\u001b[0m             \u001b[0;32mif\u001b[0m \u001b[0mstart\u001b[0m \u001b[0;32mis\u001b[0m \u001b[0;32mNone\u001b[0m\u001b[0;34m:\u001b[0m\u001b[0;34m\u001b[0m\u001b[0;34m\u001b[0m\u001b[0m\n",
      "\u001b[0;32m~/opt/anaconda3/lib/python3.7/site-packages/pymc3/sampling.py\u001b[0m in \u001b[0;36minit_nuts\u001b[0;34m(init, chains, n_init, model, random_seed, progressbar, **kwargs)\u001b[0m\n\u001b[1;32m   1687\u001b[0m         \u001b[0;32mraise\u001b[0m \u001b[0mValueError\u001b[0m\u001b[0;34m(\u001b[0m\u001b[0;34m\"Unknown initializer: {}.\"\u001b[0m\u001b[0;34m.\u001b[0m\u001b[0mformat\u001b[0m\u001b[0;34m(\u001b[0m\u001b[0minit\u001b[0m\u001b[0;34m)\u001b[0m\u001b[0;34m)\u001b[0m\u001b[0;34m\u001b[0m\u001b[0;34m\u001b[0m\u001b[0m\n\u001b[1;32m   1688\u001b[0m \u001b[0;34m\u001b[0m\u001b[0m\n\u001b[0;32m-> 1689\u001b[0;31m     \u001b[0mstep\u001b[0m \u001b[0;34m=\u001b[0m \u001b[0mpm\u001b[0m\u001b[0;34m.\u001b[0m\u001b[0mNUTS\u001b[0m\u001b[0;34m(\u001b[0m\u001b[0mpotential\u001b[0m\u001b[0;34m=\u001b[0m\u001b[0mpotential\u001b[0m\u001b[0;34m,\u001b[0m \u001b[0mmodel\u001b[0m\u001b[0;34m=\u001b[0m\u001b[0mmodel\u001b[0m\u001b[0;34m,\u001b[0m \u001b[0;34m**\u001b[0m\u001b[0mkwargs\u001b[0m\u001b[0;34m)\u001b[0m\u001b[0;34m\u001b[0m\u001b[0;34m\u001b[0m\u001b[0m\n\u001b[0m\u001b[1;32m   1690\u001b[0m \u001b[0;34m\u001b[0m\u001b[0m\n\u001b[1;32m   1691\u001b[0m     \u001b[0;32mreturn\u001b[0m \u001b[0mstart\u001b[0m\u001b[0;34m,\u001b[0m \u001b[0mstep\u001b[0m\u001b[0;34m\u001b[0m\u001b[0;34m\u001b[0m\u001b[0m\n",
      "\u001b[0;32m~/opt/anaconda3/lib/python3.7/site-packages/pymc3/step_methods/hmc/nuts.py\u001b[0m in \u001b[0;36m__init__\u001b[0;34m(self, vars, max_treedepth, early_max_treedepth, **kwargs)\u001b[0m\n\u001b[1;32m    146\u001b[0m         \u001b[0;31m`\u001b[0m\u001b[0mpm\u001b[0m\u001b[0;34m.\u001b[0m\u001b[0msample\u001b[0m\u001b[0;31m`\u001b[0m \u001b[0mto\u001b[0m \u001b[0mthe\u001b[0m \u001b[0mdesired\u001b[0m \u001b[0mnumber\u001b[0m \u001b[0mof\u001b[0m \u001b[0mtuning\u001b[0m \u001b[0msteps\u001b[0m\u001b[0;34m.\u001b[0m\u001b[0;34m\u001b[0m\u001b[0;34m\u001b[0m\u001b[0m\n\u001b[1;32m    147\u001b[0m         \"\"\"\n\u001b[0;32m--> 148\u001b[0;31m         \u001b[0msuper\u001b[0m\u001b[0;34m(\u001b[0m\u001b[0;34m)\u001b[0m\u001b[0;34m.\u001b[0m\u001b[0m__init__\u001b[0m\u001b[0;34m(\u001b[0m\u001b[0mvars\u001b[0m\u001b[0;34m,\u001b[0m \u001b[0;34m**\u001b[0m\u001b[0mkwargs\u001b[0m\u001b[0;34m)\u001b[0m\u001b[0;34m\u001b[0m\u001b[0;34m\u001b[0m\u001b[0m\n\u001b[0m\u001b[1;32m    149\u001b[0m \u001b[0;34m\u001b[0m\u001b[0m\n\u001b[1;32m    150\u001b[0m         \u001b[0mself\u001b[0m\u001b[0;34m.\u001b[0m\u001b[0mmax_treedepth\u001b[0m \u001b[0;34m=\u001b[0m \u001b[0mmax_treedepth\u001b[0m\u001b[0;34m\u001b[0m\u001b[0;34m\u001b[0m\u001b[0m\n",
      "\u001b[0;32m~/opt/anaconda3/lib/python3.7/site-packages/pymc3/step_methods/hmc/base_hmc.py\u001b[0m in \u001b[0;36m__init__\u001b[0;34m(self, vars, scaling, step_scale, is_cov, model, blocked, potential, dtype, Emax, target_accept, gamma, k, t0, adapt_step_size, step_rand, **theano_kwargs)\u001b[0m\n\u001b[1;32m     70\u001b[0m         \u001b[0mvars\u001b[0m \u001b[0;34m=\u001b[0m \u001b[0minputvars\u001b[0m\u001b[0;34m(\u001b[0m\u001b[0mvars\u001b[0m\u001b[0;34m)\u001b[0m\u001b[0;34m\u001b[0m\u001b[0;34m\u001b[0m\u001b[0m\n\u001b[1;32m     71\u001b[0m \u001b[0;34m\u001b[0m\u001b[0m\n\u001b[0;32m---> 72\u001b[0;31m         \u001b[0msuper\u001b[0m\u001b[0;34m(\u001b[0m\u001b[0;34m)\u001b[0m\u001b[0;34m.\u001b[0m\u001b[0m__init__\u001b[0m\u001b[0;34m(\u001b[0m\u001b[0mvars\u001b[0m\u001b[0;34m,\u001b[0m \u001b[0mblocked\u001b[0m\u001b[0;34m=\u001b[0m\u001b[0mblocked\u001b[0m\u001b[0;34m,\u001b[0m \u001b[0mmodel\u001b[0m\u001b[0;34m=\u001b[0m\u001b[0mmodel\u001b[0m\u001b[0;34m,\u001b[0m \u001b[0mdtype\u001b[0m\u001b[0;34m=\u001b[0m\u001b[0mdtype\u001b[0m\u001b[0;34m,\u001b[0m \u001b[0;34m**\u001b[0m\u001b[0mtheano_kwargs\u001b[0m\u001b[0;34m)\u001b[0m\u001b[0;34m\u001b[0m\u001b[0;34m\u001b[0m\u001b[0m\n\u001b[0m\u001b[1;32m     73\u001b[0m \u001b[0;34m\u001b[0m\u001b[0m\n\u001b[1;32m     74\u001b[0m         \u001b[0mself\u001b[0m\u001b[0;34m.\u001b[0m\u001b[0madapt_step_size\u001b[0m \u001b[0;34m=\u001b[0m \u001b[0madapt_step_size\u001b[0m\u001b[0;34m\u001b[0m\u001b[0;34m\u001b[0m\u001b[0m\n",
      "\u001b[0;32m~/opt/anaconda3/lib/python3.7/site-packages/pymc3/step_methods/arraystep.py\u001b[0m in \u001b[0;36m__init__\u001b[0;34m(self, vars, model, blocked, dtype, **theano_kwargs)\u001b[0m\n\u001b[1;32m    226\u001b[0m \u001b[0;34m\u001b[0m\u001b[0m\n\u001b[1;32m    227\u001b[0m         func = model.logp_dlogp_function(\n\u001b[0;32m--> 228\u001b[0;31m             vars, dtype=dtype, **theano_kwargs)\n\u001b[0m\u001b[1;32m    229\u001b[0m \u001b[0;34m\u001b[0m\u001b[0m\n\u001b[1;32m    230\u001b[0m         \u001b[0;31m# handle edge case discovered in #2948\u001b[0m\u001b[0;34m\u001b[0m\u001b[0;34m\u001b[0m\u001b[0;34m\u001b[0m\u001b[0m\n",
      "\u001b[0;32m~/opt/anaconda3/lib/python3.7/site-packages/pymc3/model.py\u001b[0m in \u001b[0;36mlogp_dlogp_function\u001b[0;34m(self, grad_vars, **kwargs)\u001b[0m\n\u001b[1;32m    817\u001b[0m         \u001b[0mvarnames\u001b[0m \u001b[0;34m=\u001b[0m \u001b[0;34m[\u001b[0m\u001b[0mvar\u001b[0m\u001b[0;34m.\u001b[0m\u001b[0mname\u001b[0m \u001b[0;32mfor\u001b[0m \u001b[0mvar\u001b[0m \u001b[0;32min\u001b[0m \u001b[0mgrad_vars\u001b[0m\u001b[0;34m]\u001b[0m\u001b[0;34m\u001b[0m\u001b[0;34m\u001b[0m\u001b[0m\n\u001b[1;32m    818\u001b[0m         \u001b[0mextra_vars\u001b[0m \u001b[0;34m=\u001b[0m \u001b[0;34m[\u001b[0m\u001b[0mvar\u001b[0m \u001b[0;32mfor\u001b[0m \u001b[0mvar\u001b[0m \u001b[0;32min\u001b[0m \u001b[0mself\u001b[0m\u001b[0;34m.\u001b[0m\u001b[0mfree_RVs\u001b[0m \u001b[0;32mif\u001b[0m \u001b[0mvar\u001b[0m\u001b[0;34m.\u001b[0m\u001b[0mname\u001b[0m \u001b[0;32mnot\u001b[0m \u001b[0;32min\u001b[0m \u001b[0mvarnames\u001b[0m\u001b[0;34m]\u001b[0m\u001b[0;34m\u001b[0m\u001b[0;34m\u001b[0m\u001b[0m\n\u001b[0;32m--> 819\u001b[0;31m         \u001b[0;32mreturn\u001b[0m \u001b[0mValueGradFunction\u001b[0m\u001b[0;34m(\u001b[0m\u001b[0mself\u001b[0m\u001b[0;34m.\u001b[0m\u001b[0mlogpt\u001b[0m\u001b[0;34m,\u001b[0m \u001b[0mgrad_vars\u001b[0m\u001b[0;34m,\u001b[0m \u001b[0mextra_vars\u001b[0m\u001b[0;34m,\u001b[0m \u001b[0;34m**\u001b[0m\u001b[0mkwargs\u001b[0m\u001b[0;34m)\u001b[0m\u001b[0;34m\u001b[0m\u001b[0;34m\u001b[0m\u001b[0m\n\u001b[0m\u001b[1;32m    820\u001b[0m \u001b[0;34m\u001b[0m\u001b[0m\n\u001b[1;32m    821\u001b[0m     \u001b[0;34m@\u001b[0m\u001b[0mproperty\u001b[0m\u001b[0;34m\u001b[0m\u001b[0;34m\u001b[0m\u001b[0m\n",
      "\u001b[0;32m~/opt/anaconda3/lib/python3.7/site-packages/pymc3/model.py\u001b[0m in \u001b[0;36m__init__\u001b[0;34m(self, cost, grad_vars, extra_vars, dtype, casting, **kwargs)\u001b[0m\n\u001b[1;32m    547\u001b[0m             self._cost, grad_vars, self._ordering.vmap)\n\u001b[1;32m    548\u001b[0m \u001b[0;34m\u001b[0m\u001b[0m\n\u001b[0;32m--> 549\u001b[0;31m         \u001b[0mgrad\u001b[0m \u001b[0;34m=\u001b[0m \u001b[0mtt\u001b[0m\u001b[0;34m.\u001b[0m\u001b[0mgrad\u001b[0m\u001b[0;34m(\u001b[0m\u001b[0mself\u001b[0m\u001b[0;34m.\u001b[0m\u001b[0m_cost_joined\u001b[0m\u001b[0;34m,\u001b[0m \u001b[0mself\u001b[0m\u001b[0;34m.\u001b[0m\u001b[0m_vars_joined\u001b[0m\u001b[0;34m)\u001b[0m\u001b[0;34m\u001b[0m\u001b[0;34m\u001b[0m\u001b[0m\n\u001b[0m\u001b[1;32m    550\u001b[0m         \u001b[0mgrad\u001b[0m\u001b[0;34m.\u001b[0m\u001b[0mname\u001b[0m \u001b[0;34m=\u001b[0m \u001b[0;34m'__grad'\u001b[0m\u001b[0;34m\u001b[0m\u001b[0;34m\u001b[0m\u001b[0m\n\u001b[1;32m    551\u001b[0m \u001b[0;34m\u001b[0m\u001b[0m\n",
      "\u001b[0;32m~/opt/anaconda3/lib/python3.7/site-packages/theano/gradient.py\u001b[0m in \u001b[0;36mgrad\u001b[0;34m(cost, wrt, consider_constant, disconnected_inputs, add_names, known_grads, return_disconnected, null_gradients)\u001b[0m\n\u001b[1;32m    603\u001b[0m \u001b[0;34m\u001b[0m\u001b[0m\n\u001b[1;32m    604\u001b[0m     rval = _populate_grad_dict(var_to_app_to_idx,\n\u001b[0;32m--> 605\u001b[0;31m                                grad_dict, wrt, cost_name)\n\u001b[0m\u001b[1;32m    606\u001b[0m \u001b[0;34m\u001b[0m\u001b[0m\n\u001b[1;32m    607\u001b[0m     \u001b[0;32mfor\u001b[0m \u001b[0mi\u001b[0m \u001b[0;32min\u001b[0m \u001b[0mxrange\u001b[0m\u001b[0;34m(\u001b[0m\u001b[0mlen\u001b[0m\u001b[0;34m(\u001b[0m\u001b[0mrval\u001b[0m\u001b[0;34m)\u001b[0m\u001b[0;34m)\u001b[0m\u001b[0;34m:\u001b[0m\u001b[0;34m\u001b[0m\u001b[0;34m\u001b[0m\u001b[0m\n",
      "\u001b[0;32m~/opt/anaconda3/lib/python3.7/site-packages/theano/gradient.py\u001b[0m in \u001b[0;36m_populate_grad_dict\u001b[0;34m(var_to_app_to_idx, grad_dict, wrt, cost_name)\u001b[0m\n\u001b[1;32m   1369\u001b[0m         \u001b[0;32mreturn\u001b[0m \u001b[0mgrad_dict\u001b[0m\u001b[0;34m[\u001b[0m\u001b[0mvar\u001b[0m\u001b[0;34m]\u001b[0m\u001b[0;34m\u001b[0m\u001b[0;34m\u001b[0m\u001b[0m\n\u001b[1;32m   1370\u001b[0m \u001b[0;34m\u001b[0m\u001b[0m\n\u001b[0;32m-> 1371\u001b[0;31m     \u001b[0mrval\u001b[0m \u001b[0;34m=\u001b[0m \u001b[0;34m[\u001b[0m\u001b[0maccess_grad_cache\u001b[0m\u001b[0;34m(\u001b[0m\u001b[0melem\u001b[0m\u001b[0;34m)\u001b[0m \u001b[0;32mfor\u001b[0m \u001b[0melem\u001b[0m \u001b[0;32min\u001b[0m \u001b[0mwrt\u001b[0m\u001b[0;34m]\u001b[0m\u001b[0;34m\u001b[0m\u001b[0;34m\u001b[0m\u001b[0m\n\u001b[0m\u001b[1;32m   1372\u001b[0m \u001b[0;34m\u001b[0m\u001b[0m\n\u001b[1;32m   1373\u001b[0m     \u001b[0;32mreturn\u001b[0m \u001b[0mrval\u001b[0m\u001b[0;34m\u001b[0m\u001b[0;34m\u001b[0m\u001b[0m\n",
      "\u001b[0;32m~/opt/anaconda3/lib/python3.7/site-packages/theano/gradient.py\u001b[0m in \u001b[0;36m<listcomp>\u001b[0;34m(.0)\u001b[0m\n\u001b[1;32m   1369\u001b[0m         \u001b[0;32mreturn\u001b[0m \u001b[0mgrad_dict\u001b[0m\u001b[0;34m[\u001b[0m\u001b[0mvar\u001b[0m\u001b[0;34m]\u001b[0m\u001b[0;34m\u001b[0m\u001b[0;34m\u001b[0m\u001b[0m\n\u001b[1;32m   1370\u001b[0m \u001b[0;34m\u001b[0m\u001b[0m\n\u001b[0;32m-> 1371\u001b[0;31m     \u001b[0mrval\u001b[0m \u001b[0;34m=\u001b[0m \u001b[0;34m[\u001b[0m\u001b[0maccess_grad_cache\u001b[0m\u001b[0;34m(\u001b[0m\u001b[0melem\u001b[0m\u001b[0;34m)\u001b[0m \u001b[0;32mfor\u001b[0m \u001b[0melem\u001b[0m \u001b[0;32min\u001b[0m \u001b[0mwrt\u001b[0m\u001b[0;34m]\u001b[0m\u001b[0;34m\u001b[0m\u001b[0;34m\u001b[0m\u001b[0m\n\u001b[0m\u001b[1;32m   1372\u001b[0m \u001b[0;34m\u001b[0m\u001b[0m\n\u001b[1;32m   1373\u001b[0m     \u001b[0;32mreturn\u001b[0m \u001b[0mrval\u001b[0m\u001b[0;34m\u001b[0m\u001b[0;34m\u001b[0m\u001b[0m\n",
      "\u001b[0;32m~/opt/anaconda3/lib/python3.7/site-packages/theano/gradient.py\u001b[0m in \u001b[0;36maccess_grad_cache\u001b[0;34m(var)\u001b[0m\n\u001b[1;32m   1324\u001b[0m                     \u001b[0;32mfor\u001b[0m \u001b[0midx\u001b[0m \u001b[0;32min\u001b[0m \u001b[0mnode_to_idx\u001b[0m\u001b[0;34m[\u001b[0m\u001b[0mnode\u001b[0m\u001b[0;34m]\u001b[0m\u001b[0;34m:\u001b[0m\u001b[0;34m\u001b[0m\u001b[0;34m\u001b[0m\u001b[0m\n\u001b[1;32m   1325\u001b[0m \u001b[0;34m\u001b[0m\u001b[0m\n\u001b[0;32m-> 1326\u001b[0;31m                         \u001b[0mterm\u001b[0m \u001b[0;34m=\u001b[0m \u001b[0maccess_term_cache\u001b[0m\u001b[0;34m(\u001b[0m\u001b[0mnode\u001b[0m\u001b[0;34m)\u001b[0m\u001b[0;34m[\u001b[0m\u001b[0midx\u001b[0m\u001b[0;34m]\u001b[0m\u001b[0;34m\u001b[0m\u001b[0;34m\u001b[0m\u001b[0m\n\u001b[0m\u001b[1;32m   1327\u001b[0m \u001b[0;34m\u001b[0m\u001b[0m\n\u001b[1;32m   1328\u001b[0m                         \u001b[0;32mif\u001b[0m \u001b[0;32mnot\u001b[0m \u001b[0misinstance\u001b[0m\u001b[0;34m(\u001b[0m\u001b[0mterm\u001b[0m\u001b[0;34m,\u001b[0m \u001b[0mgof\u001b[0m\u001b[0;34m.\u001b[0m\u001b[0mVariable\u001b[0m\u001b[0;34m)\u001b[0m\u001b[0;34m:\u001b[0m\u001b[0;34m\u001b[0m\u001b[0;34m\u001b[0m\u001b[0m\n",
      "\u001b[0;32m~/opt/anaconda3/lib/python3.7/site-packages/theano/gradient.py\u001b[0m in \u001b[0;36maccess_term_cache\u001b[0;34m(node)\u001b[0m\n\u001b[1;32m   1019\u001b[0m             \u001b[0minputs\u001b[0m \u001b[0;34m=\u001b[0m \u001b[0mnode\u001b[0m\u001b[0;34m.\u001b[0m\u001b[0minputs\u001b[0m\u001b[0;34m\u001b[0m\u001b[0;34m\u001b[0m\u001b[0m\n\u001b[1;32m   1020\u001b[0m \u001b[0;34m\u001b[0m\u001b[0m\n\u001b[0;32m-> 1021\u001b[0;31m             \u001b[0moutput_grads\u001b[0m \u001b[0;34m=\u001b[0m \u001b[0;34m[\u001b[0m\u001b[0maccess_grad_cache\u001b[0m\u001b[0;34m(\u001b[0m\u001b[0mvar\u001b[0m\u001b[0;34m)\u001b[0m \u001b[0;32mfor\u001b[0m \u001b[0mvar\u001b[0m \u001b[0;32min\u001b[0m \u001b[0mnode\u001b[0m\u001b[0;34m.\u001b[0m\u001b[0moutputs\u001b[0m\u001b[0;34m]\u001b[0m\u001b[0;34m\u001b[0m\u001b[0;34m\u001b[0m\u001b[0m\n\u001b[0m\u001b[1;32m   1022\u001b[0m \u001b[0;34m\u001b[0m\u001b[0m\n\u001b[1;32m   1023\u001b[0m             \u001b[0;31m# list of bools indicating if each output is connected to the cost\u001b[0m\u001b[0;34m\u001b[0m\u001b[0;34m\u001b[0m\u001b[0;34m\u001b[0m\u001b[0m\n",
      "\u001b[0;32m~/opt/anaconda3/lib/python3.7/site-packages/theano/gradient.py\u001b[0m in \u001b[0;36m<listcomp>\u001b[0;34m(.0)\u001b[0m\n\u001b[1;32m   1019\u001b[0m             \u001b[0minputs\u001b[0m \u001b[0;34m=\u001b[0m \u001b[0mnode\u001b[0m\u001b[0;34m.\u001b[0m\u001b[0minputs\u001b[0m\u001b[0;34m\u001b[0m\u001b[0;34m\u001b[0m\u001b[0m\n\u001b[1;32m   1020\u001b[0m \u001b[0;34m\u001b[0m\u001b[0m\n\u001b[0;32m-> 1021\u001b[0;31m             \u001b[0moutput_grads\u001b[0m \u001b[0;34m=\u001b[0m \u001b[0;34m[\u001b[0m\u001b[0maccess_grad_cache\u001b[0m\u001b[0;34m(\u001b[0m\u001b[0mvar\u001b[0m\u001b[0;34m)\u001b[0m \u001b[0;32mfor\u001b[0m \u001b[0mvar\u001b[0m \u001b[0;32min\u001b[0m \u001b[0mnode\u001b[0m\u001b[0;34m.\u001b[0m\u001b[0moutputs\u001b[0m\u001b[0;34m]\u001b[0m\u001b[0;34m\u001b[0m\u001b[0;34m\u001b[0m\u001b[0m\n\u001b[0m\u001b[1;32m   1022\u001b[0m \u001b[0;34m\u001b[0m\u001b[0m\n\u001b[1;32m   1023\u001b[0m             \u001b[0;31m# list of bools indicating if each output is connected to the cost\u001b[0m\u001b[0;34m\u001b[0m\u001b[0;34m\u001b[0m\u001b[0;34m\u001b[0m\u001b[0m\n",
      "\u001b[0;32m~/opt/anaconda3/lib/python3.7/site-packages/theano/gradient.py\u001b[0m in \u001b[0;36maccess_grad_cache\u001b[0;34m(var)\u001b[0m\n\u001b[1;32m   1324\u001b[0m                     \u001b[0;32mfor\u001b[0m \u001b[0midx\u001b[0m \u001b[0;32min\u001b[0m \u001b[0mnode_to_idx\u001b[0m\u001b[0;34m[\u001b[0m\u001b[0mnode\u001b[0m\u001b[0;34m]\u001b[0m\u001b[0;34m:\u001b[0m\u001b[0;34m\u001b[0m\u001b[0;34m\u001b[0m\u001b[0m\n\u001b[1;32m   1325\u001b[0m \u001b[0;34m\u001b[0m\u001b[0m\n\u001b[0;32m-> 1326\u001b[0;31m                         \u001b[0mterm\u001b[0m \u001b[0;34m=\u001b[0m \u001b[0maccess_term_cache\u001b[0m\u001b[0;34m(\u001b[0m\u001b[0mnode\u001b[0m\u001b[0;34m)\u001b[0m\u001b[0;34m[\u001b[0m\u001b[0midx\u001b[0m\u001b[0;34m]\u001b[0m\u001b[0;34m\u001b[0m\u001b[0;34m\u001b[0m\u001b[0m\n\u001b[0m\u001b[1;32m   1327\u001b[0m \u001b[0;34m\u001b[0m\u001b[0m\n\u001b[1;32m   1328\u001b[0m                         \u001b[0;32mif\u001b[0m \u001b[0;32mnot\u001b[0m \u001b[0misinstance\u001b[0m\u001b[0;34m(\u001b[0m\u001b[0mterm\u001b[0m\u001b[0;34m,\u001b[0m \u001b[0mgof\u001b[0m\u001b[0;34m.\u001b[0m\u001b[0mVariable\u001b[0m\u001b[0;34m)\u001b[0m\u001b[0;34m:\u001b[0m\u001b[0;34m\u001b[0m\u001b[0;34m\u001b[0m\u001b[0m\n",
      "\u001b[0;32m~/opt/anaconda3/lib/python3.7/site-packages/theano/gradient.py\u001b[0m in \u001b[0;36maccess_term_cache\u001b[0;34m(node)\u001b[0m\n\u001b[1;32m   1019\u001b[0m             \u001b[0minputs\u001b[0m \u001b[0;34m=\u001b[0m \u001b[0mnode\u001b[0m\u001b[0;34m.\u001b[0m\u001b[0minputs\u001b[0m\u001b[0;34m\u001b[0m\u001b[0;34m\u001b[0m\u001b[0m\n\u001b[1;32m   1020\u001b[0m \u001b[0;34m\u001b[0m\u001b[0m\n\u001b[0;32m-> 1021\u001b[0;31m             \u001b[0moutput_grads\u001b[0m \u001b[0;34m=\u001b[0m \u001b[0;34m[\u001b[0m\u001b[0maccess_grad_cache\u001b[0m\u001b[0;34m(\u001b[0m\u001b[0mvar\u001b[0m\u001b[0;34m)\u001b[0m \u001b[0;32mfor\u001b[0m \u001b[0mvar\u001b[0m \u001b[0;32min\u001b[0m \u001b[0mnode\u001b[0m\u001b[0;34m.\u001b[0m\u001b[0moutputs\u001b[0m\u001b[0;34m]\u001b[0m\u001b[0;34m\u001b[0m\u001b[0;34m\u001b[0m\u001b[0m\n\u001b[0m\u001b[1;32m   1022\u001b[0m \u001b[0;34m\u001b[0m\u001b[0m\n\u001b[1;32m   1023\u001b[0m             \u001b[0;31m# list of bools indicating if each output is connected to the cost\u001b[0m\u001b[0;34m\u001b[0m\u001b[0;34m\u001b[0m\u001b[0;34m\u001b[0m\u001b[0m\n",
      "\u001b[0;32m~/opt/anaconda3/lib/python3.7/site-packages/theano/gradient.py\u001b[0m in \u001b[0;36m<listcomp>\u001b[0;34m(.0)\u001b[0m\n\u001b[1;32m   1019\u001b[0m             \u001b[0minputs\u001b[0m \u001b[0;34m=\u001b[0m \u001b[0mnode\u001b[0m\u001b[0;34m.\u001b[0m\u001b[0minputs\u001b[0m\u001b[0;34m\u001b[0m\u001b[0;34m\u001b[0m\u001b[0m\n\u001b[1;32m   1020\u001b[0m \u001b[0;34m\u001b[0m\u001b[0m\n\u001b[0;32m-> 1021\u001b[0;31m             \u001b[0moutput_grads\u001b[0m \u001b[0;34m=\u001b[0m \u001b[0;34m[\u001b[0m\u001b[0maccess_grad_cache\u001b[0m\u001b[0;34m(\u001b[0m\u001b[0mvar\u001b[0m\u001b[0;34m)\u001b[0m \u001b[0;32mfor\u001b[0m \u001b[0mvar\u001b[0m \u001b[0;32min\u001b[0m \u001b[0mnode\u001b[0m\u001b[0;34m.\u001b[0m\u001b[0moutputs\u001b[0m\u001b[0;34m]\u001b[0m\u001b[0;34m\u001b[0m\u001b[0;34m\u001b[0m\u001b[0m\n\u001b[0m\u001b[1;32m   1022\u001b[0m \u001b[0;34m\u001b[0m\u001b[0m\n\u001b[1;32m   1023\u001b[0m             \u001b[0;31m# list of bools indicating if each output is connected to the cost\u001b[0m\u001b[0;34m\u001b[0m\u001b[0;34m\u001b[0m\u001b[0;34m\u001b[0m\u001b[0m\n",
      "\u001b[0;32m~/opt/anaconda3/lib/python3.7/site-packages/theano/gradient.py\u001b[0m in \u001b[0;36maccess_grad_cache\u001b[0;34m(var)\u001b[0m\n\u001b[1;32m   1324\u001b[0m                     \u001b[0;32mfor\u001b[0m \u001b[0midx\u001b[0m \u001b[0;32min\u001b[0m \u001b[0mnode_to_idx\u001b[0m\u001b[0;34m[\u001b[0m\u001b[0mnode\u001b[0m\u001b[0;34m]\u001b[0m\u001b[0;34m:\u001b[0m\u001b[0;34m\u001b[0m\u001b[0;34m\u001b[0m\u001b[0m\n\u001b[1;32m   1325\u001b[0m \u001b[0;34m\u001b[0m\u001b[0m\n\u001b[0;32m-> 1326\u001b[0;31m                         \u001b[0mterm\u001b[0m \u001b[0;34m=\u001b[0m \u001b[0maccess_term_cache\u001b[0m\u001b[0;34m(\u001b[0m\u001b[0mnode\u001b[0m\u001b[0;34m)\u001b[0m\u001b[0;34m[\u001b[0m\u001b[0midx\u001b[0m\u001b[0;34m]\u001b[0m\u001b[0;34m\u001b[0m\u001b[0;34m\u001b[0m\u001b[0m\n\u001b[0m\u001b[1;32m   1327\u001b[0m \u001b[0;34m\u001b[0m\u001b[0m\n\u001b[1;32m   1328\u001b[0m                         \u001b[0;32mif\u001b[0m \u001b[0;32mnot\u001b[0m \u001b[0misinstance\u001b[0m\u001b[0;34m(\u001b[0m\u001b[0mterm\u001b[0m\u001b[0;34m,\u001b[0m \u001b[0mgof\u001b[0m\u001b[0;34m.\u001b[0m\u001b[0mVariable\u001b[0m\u001b[0;34m)\u001b[0m\u001b[0;34m:\u001b[0m\u001b[0;34m\u001b[0m\u001b[0;34m\u001b[0m\u001b[0m\n",
      "\u001b[0;32m~/opt/anaconda3/lib/python3.7/site-packages/theano/gradient.py\u001b[0m in \u001b[0;36maccess_term_cache\u001b[0;34m(node)\u001b[0m\n\u001b[1;32m   1019\u001b[0m             \u001b[0minputs\u001b[0m \u001b[0;34m=\u001b[0m \u001b[0mnode\u001b[0m\u001b[0;34m.\u001b[0m\u001b[0minputs\u001b[0m\u001b[0;34m\u001b[0m\u001b[0;34m\u001b[0m\u001b[0m\n\u001b[1;32m   1020\u001b[0m \u001b[0;34m\u001b[0m\u001b[0m\n\u001b[0;32m-> 1021\u001b[0;31m             \u001b[0moutput_grads\u001b[0m \u001b[0;34m=\u001b[0m \u001b[0;34m[\u001b[0m\u001b[0maccess_grad_cache\u001b[0m\u001b[0;34m(\u001b[0m\u001b[0mvar\u001b[0m\u001b[0;34m)\u001b[0m \u001b[0;32mfor\u001b[0m \u001b[0mvar\u001b[0m \u001b[0;32min\u001b[0m \u001b[0mnode\u001b[0m\u001b[0;34m.\u001b[0m\u001b[0moutputs\u001b[0m\u001b[0;34m]\u001b[0m\u001b[0;34m\u001b[0m\u001b[0;34m\u001b[0m\u001b[0m\n\u001b[0m\u001b[1;32m   1022\u001b[0m \u001b[0;34m\u001b[0m\u001b[0m\n\u001b[1;32m   1023\u001b[0m             \u001b[0;31m# list of bools indicating if each output is connected to the cost\u001b[0m\u001b[0;34m\u001b[0m\u001b[0;34m\u001b[0m\u001b[0;34m\u001b[0m\u001b[0m\n",
      "\u001b[0;32m~/opt/anaconda3/lib/python3.7/site-packages/theano/gradient.py\u001b[0m in \u001b[0;36m<listcomp>\u001b[0;34m(.0)\u001b[0m\n\u001b[1;32m   1019\u001b[0m             \u001b[0minputs\u001b[0m \u001b[0;34m=\u001b[0m \u001b[0mnode\u001b[0m\u001b[0;34m.\u001b[0m\u001b[0minputs\u001b[0m\u001b[0;34m\u001b[0m\u001b[0;34m\u001b[0m\u001b[0m\n\u001b[1;32m   1020\u001b[0m \u001b[0;34m\u001b[0m\u001b[0m\n\u001b[0;32m-> 1021\u001b[0;31m             \u001b[0moutput_grads\u001b[0m \u001b[0;34m=\u001b[0m \u001b[0;34m[\u001b[0m\u001b[0maccess_grad_cache\u001b[0m\u001b[0;34m(\u001b[0m\u001b[0mvar\u001b[0m\u001b[0;34m)\u001b[0m \u001b[0;32mfor\u001b[0m \u001b[0mvar\u001b[0m \u001b[0;32min\u001b[0m \u001b[0mnode\u001b[0m\u001b[0;34m.\u001b[0m\u001b[0moutputs\u001b[0m\u001b[0;34m]\u001b[0m\u001b[0;34m\u001b[0m\u001b[0;34m\u001b[0m\u001b[0m\n\u001b[0m\u001b[1;32m   1022\u001b[0m \u001b[0;34m\u001b[0m\u001b[0m\n\u001b[1;32m   1023\u001b[0m             \u001b[0;31m# list of bools indicating if each output is connected to the cost\u001b[0m\u001b[0;34m\u001b[0m\u001b[0;34m\u001b[0m\u001b[0;34m\u001b[0m\u001b[0m\n",
      "\u001b[0;32m~/opt/anaconda3/lib/python3.7/site-packages/theano/gradient.py\u001b[0m in \u001b[0;36maccess_grad_cache\u001b[0;34m(var)\u001b[0m\n\u001b[1;32m   1324\u001b[0m                     \u001b[0;32mfor\u001b[0m \u001b[0midx\u001b[0m \u001b[0;32min\u001b[0m \u001b[0mnode_to_idx\u001b[0m\u001b[0;34m[\u001b[0m\u001b[0mnode\u001b[0m\u001b[0;34m]\u001b[0m\u001b[0;34m:\u001b[0m\u001b[0;34m\u001b[0m\u001b[0;34m\u001b[0m\u001b[0m\n\u001b[1;32m   1325\u001b[0m \u001b[0;34m\u001b[0m\u001b[0m\n\u001b[0;32m-> 1326\u001b[0;31m                         \u001b[0mterm\u001b[0m \u001b[0;34m=\u001b[0m \u001b[0maccess_term_cache\u001b[0m\u001b[0;34m(\u001b[0m\u001b[0mnode\u001b[0m\u001b[0;34m)\u001b[0m\u001b[0;34m[\u001b[0m\u001b[0midx\u001b[0m\u001b[0;34m]\u001b[0m\u001b[0;34m\u001b[0m\u001b[0;34m\u001b[0m\u001b[0m\n\u001b[0m\u001b[1;32m   1327\u001b[0m \u001b[0;34m\u001b[0m\u001b[0m\n\u001b[1;32m   1328\u001b[0m                         \u001b[0;32mif\u001b[0m \u001b[0;32mnot\u001b[0m \u001b[0misinstance\u001b[0m\u001b[0;34m(\u001b[0m\u001b[0mterm\u001b[0m\u001b[0;34m,\u001b[0m \u001b[0mgof\u001b[0m\u001b[0;34m.\u001b[0m\u001b[0mVariable\u001b[0m\u001b[0;34m)\u001b[0m\u001b[0;34m:\u001b[0m\u001b[0;34m\u001b[0m\u001b[0;34m\u001b[0m\u001b[0m\n",
      "\u001b[0;32m~/opt/anaconda3/lib/python3.7/site-packages/theano/gradient.py\u001b[0m in \u001b[0;36maccess_term_cache\u001b[0;34m(node)\u001b[0m\n\u001b[1;32m   1160\u001b[0m \u001b[0;34m\u001b[0m\u001b[0m\n\u001b[1;32m   1161\u001b[0m                 input_grads = node.op.L_op(inputs, node.outputs,\n\u001b[0;32m-> 1162\u001b[0;31m                                            new_output_grads)\n\u001b[0m\u001b[1;32m   1163\u001b[0m \u001b[0;34m\u001b[0m\u001b[0m\n\u001b[1;32m   1164\u001b[0m                 \u001b[0;32mif\u001b[0m \u001b[0minput_grads\u001b[0m \u001b[0;32mis\u001b[0m \u001b[0;32mNone\u001b[0m\u001b[0;34m:\u001b[0m\u001b[0;34m\u001b[0m\u001b[0;34m\u001b[0m\u001b[0m\n",
      "\u001b[0;32m~/opt/anaconda3/lib/python3.7/site-packages/theano/tensor/elemwise.py\u001b[0m in \u001b[0;36mL_op\u001b[0;34m(self, inputs, outs, ograds)\u001b[0m\n\u001b[1;32m    541\u001b[0m \u001b[0;34m\u001b[0m\u001b[0m\n\u001b[1;32m    542\u001b[0m         \u001b[0;31m# compute grad with respect to broadcasted input\u001b[0m\u001b[0;34m\u001b[0m\u001b[0;34m\u001b[0m\u001b[0;34m\u001b[0m\u001b[0m\n\u001b[0;32m--> 543\u001b[0;31m         \u001b[0mrval\u001b[0m \u001b[0;34m=\u001b[0m \u001b[0mself\u001b[0m\u001b[0;34m.\u001b[0m\u001b[0m_bgrad\u001b[0m\u001b[0;34m(\u001b[0m\u001b[0minputs\u001b[0m\u001b[0;34m,\u001b[0m \u001b[0mouts\u001b[0m\u001b[0;34m,\u001b[0m \u001b[0mograds\u001b[0m\u001b[0;34m)\u001b[0m\u001b[0;34m\u001b[0m\u001b[0;34m\u001b[0m\u001b[0m\n\u001b[0m\u001b[1;32m    544\u001b[0m \u001b[0;34m\u001b[0m\u001b[0m\n\u001b[1;32m    545\u001b[0m         \u001b[0;31m# TODO: make sure that zeros are clearly identifiable\u001b[0m\u001b[0;34m\u001b[0m\u001b[0;34m\u001b[0m\u001b[0;34m\u001b[0m\u001b[0m\n",
      "\u001b[0;32m~/opt/anaconda3/lib/python3.7/site-packages/theano/tensor/elemwise.py\u001b[0m in \u001b[0;36m_bgrad\u001b[0;34m(self, inputs, outputs, ograds)\u001b[0m\n\u001b[1;32m    641\u001b[0m                 \u001b[0mret\u001b[0m\u001b[0;34m.\u001b[0m\u001b[0mappend\u001b[0m\u001b[0;34m(\u001b[0m\u001b[0;32mNone\u001b[0m\u001b[0;34m)\u001b[0m\u001b[0;34m\u001b[0m\u001b[0;34m\u001b[0m\u001b[0m\n\u001b[1;32m    642\u001b[0m                 \u001b[0;32mcontinue\u001b[0m\u001b[0;34m\u001b[0m\u001b[0;34m\u001b[0m\u001b[0m\n\u001b[0;32m--> 643\u001b[0;31m             \u001b[0mret\u001b[0m\u001b[0;34m.\u001b[0m\u001b[0mappend\u001b[0m\u001b[0;34m(\u001b[0m\u001b[0mtransform\u001b[0m\u001b[0;34m(\u001b[0m\u001b[0mscalar_igrad\u001b[0m\u001b[0;34m)\u001b[0m\u001b[0;34m)\u001b[0m\u001b[0;34m\u001b[0m\u001b[0;34m\u001b[0m\u001b[0m\n\u001b[0m\u001b[1;32m    644\u001b[0m \u001b[0;34m\u001b[0m\u001b[0m\n\u001b[1;32m    645\u001b[0m         \u001b[0;32mreturn\u001b[0m \u001b[0mret\u001b[0m\u001b[0;34m\u001b[0m\u001b[0;34m\u001b[0m\u001b[0m\n",
      "\u001b[0;32m~/opt/anaconda3/lib/python3.7/site-packages/theano/tensor/elemwise.py\u001b[0m in \u001b[0;36mtransform\u001b[0;34m(r)\u001b[0m\n\u001b[1;32m    633\u001b[0m \u001b[0;34m\u001b[0m\u001b[0m\n\u001b[1;32m    634\u001b[0m             new_r = Elemwise(node.op, {})(\n\u001b[0;32m--> 635\u001b[0;31m                 *[transform(ipt) for ipt in node.inputs])\n\u001b[0m\u001b[1;32m    636\u001b[0m             \u001b[0;32mreturn\u001b[0m \u001b[0mnew_r\u001b[0m\u001b[0;34m\u001b[0m\u001b[0;34m\u001b[0m\u001b[0m\n\u001b[1;32m    637\u001b[0m         \u001b[0mret\u001b[0m \u001b[0;34m=\u001b[0m \u001b[0;34m[\u001b[0m\u001b[0;34m]\u001b[0m\u001b[0;34m\u001b[0m\u001b[0;34m\u001b[0m\u001b[0m\n",
      "\u001b[0;32m~/opt/anaconda3/lib/python3.7/site-packages/theano/tensor/elemwise.py\u001b[0m in \u001b[0;36m<listcomp>\u001b[0;34m(.0)\u001b[0m\n\u001b[1;32m    633\u001b[0m \u001b[0;34m\u001b[0m\u001b[0m\n\u001b[1;32m    634\u001b[0m             new_r = Elemwise(node.op, {})(\n\u001b[0;32m--> 635\u001b[0;31m                 *[transform(ipt) for ipt in node.inputs])\n\u001b[0m\u001b[1;32m    636\u001b[0m             \u001b[0;32mreturn\u001b[0m \u001b[0mnew_r\u001b[0m\u001b[0;34m\u001b[0m\u001b[0;34m\u001b[0m\u001b[0m\n\u001b[1;32m    637\u001b[0m         \u001b[0mret\u001b[0m \u001b[0;34m=\u001b[0m \u001b[0;34m[\u001b[0m\u001b[0;34m]\u001b[0m\u001b[0;34m\u001b[0m\u001b[0;34m\u001b[0m\u001b[0m\n",
      "\u001b[0;32m~/opt/anaconda3/lib/python3.7/site-packages/theano/tensor/elemwise.py\u001b[0m in \u001b[0;36mtransform\u001b[0;34m(r)\u001b[0m\n\u001b[1;32m    633\u001b[0m \u001b[0;34m\u001b[0m\u001b[0m\n\u001b[1;32m    634\u001b[0m             new_r = Elemwise(node.op, {})(\n\u001b[0;32m--> 635\u001b[0;31m                 *[transform(ipt) for ipt in node.inputs])\n\u001b[0m\u001b[1;32m    636\u001b[0m             \u001b[0;32mreturn\u001b[0m \u001b[0mnew_r\u001b[0m\u001b[0;34m\u001b[0m\u001b[0;34m\u001b[0m\u001b[0m\n\u001b[1;32m    637\u001b[0m         \u001b[0mret\u001b[0m \u001b[0;34m=\u001b[0m \u001b[0;34m[\u001b[0m\u001b[0;34m]\u001b[0m\u001b[0;34m\u001b[0m\u001b[0;34m\u001b[0m\u001b[0m\n",
      "\u001b[0;32m~/opt/anaconda3/lib/python3.7/site-packages/theano/tensor/elemwise.py\u001b[0m in \u001b[0;36m<listcomp>\u001b[0;34m(.0)\u001b[0m\n\u001b[1;32m    633\u001b[0m \u001b[0;34m\u001b[0m\u001b[0m\n\u001b[1;32m    634\u001b[0m             new_r = Elemwise(node.op, {})(\n\u001b[0;32m--> 635\u001b[0;31m                 *[transform(ipt) for ipt in node.inputs])\n\u001b[0m\u001b[1;32m    636\u001b[0m             \u001b[0;32mreturn\u001b[0m \u001b[0mnew_r\u001b[0m\u001b[0;34m\u001b[0m\u001b[0;34m\u001b[0m\u001b[0m\n\u001b[1;32m    637\u001b[0m         \u001b[0mret\u001b[0m \u001b[0;34m=\u001b[0m \u001b[0;34m[\u001b[0m\u001b[0;34m]\u001b[0m\u001b[0;34m\u001b[0m\u001b[0;34m\u001b[0m\u001b[0m\n",
      "\u001b[0;32m~/opt/anaconda3/lib/python3.7/site-packages/theano/tensor/elemwise.py\u001b[0m in \u001b[0;36mtransform\u001b[0;34m(r)\u001b[0m\n\u001b[1;32m    633\u001b[0m \u001b[0;34m\u001b[0m\u001b[0m\n\u001b[1;32m    634\u001b[0m             new_r = Elemwise(node.op, {})(\n\u001b[0;32m--> 635\u001b[0;31m                 *[transform(ipt) for ipt in node.inputs])\n\u001b[0m\u001b[1;32m    636\u001b[0m             \u001b[0;32mreturn\u001b[0m \u001b[0mnew_r\u001b[0m\u001b[0;34m\u001b[0m\u001b[0;34m\u001b[0m\u001b[0m\n\u001b[1;32m    637\u001b[0m         \u001b[0mret\u001b[0m \u001b[0;34m=\u001b[0m \u001b[0;34m[\u001b[0m\u001b[0;34m]\u001b[0m\u001b[0;34m\u001b[0m\u001b[0;34m\u001b[0m\u001b[0m\n",
      "\u001b[0;32m~/opt/anaconda3/lib/python3.7/site-packages/theano/tensor/elemwise.py\u001b[0m in \u001b[0;36m<listcomp>\u001b[0;34m(.0)\u001b[0m\n\u001b[1;32m    633\u001b[0m \u001b[0;34m\u001b[0m\u001b[0m\n\u001b[1;32m    634\u001b[0m             new_r = Elemwise(node.op, {})(\n\u001b[0;32m--> 635\u001b[0;31m                 *[transform(ipt) for ipt in node.inputs])\n\u001b[0m\u001b[1;32m    636\u001b[0m             \u001b[0;32mreturn\u001b[0m \u001b[0mnew_r\u001b[0m\u001b[0;34m\u001b[0m\u001b[0;34m\u001b[0m\u001b[0m\n\u001b[1;32m    637\u001b[0m         \u001b[0mret\u001b[0m \u001b[0;34m=\u001b[0m \u001b[0;34m[\u001b[0m\u001b[0;34m]\u001b[0m\u001b[0;34m\u001b[0m\u001b[0;34m\u001b[0m\u001b[0m\n",
      "\u001b[0;32m~/opt/anaconda3/lib/python3.7/site-packages/theano/tensor/elemwise.py\u001b[0m in \u001b[0;36mtransform\u001b[0;34m(r)\u001b[0m\n\u001b[1;32m    629\u001b[0m                 \u001b[0;31m# dimensions\u001b[0m\u001b[0;34m\u001b[0m\u001b[0;34m\u001b[0m\u001b[0;34m\u001b[0m\u001b[0m\n\u001b[1;32m    630\u001b[0m                 res = theano.tensor.constant(np.asarray(r.data),\n\u001b[0;32m--> 631\u001b[0;31m                                              dtype=r.type.dtype)\n\u001b[0m\u001b[1;32m    632\u001b[0m                 \u001b[0;32mreturn\u001b[0m \u001b[0mDimShuffle\u001b[0m\u001b[0;34m(\u001b[0m\u001b[0;34m(\u001b[0m\u001b[0;34m)\u001b[0m\u001b[0;34m,\u001b[0m \u001b[0;34m[\u001b[0m\u001b[0;34m'x'\u001b[0m\u001b[0;34m]\u001b[0m \u001b[0;34m*\u001b[0m \u001b[0mnd\u001b[0m\u001b[0;34m)\u001b[0m\u001b[0;34m(\u001b[0m\u001b[0mres\u001b[0m\u001b[0;34m)\u001b[0m\u001b[0;34m\u001b[0m\u001b[0;34m\u001b[0m\u001b[0m\n\u001b[1;32m    633\u001b[0m \u001b[0;34m\u001b[0m\u001b[0m\n",
      "\u001b[0;32m~/opt/anaconda3/lib/python3.7/site-packages/theano/tensor/basic.py\u001b[0m in \u001b[0;36mconstant\u001b[0;34m(x, name, ndim, dtype)\u001b[0m\n\u001b[1;32m    249\u001b[0m \u001b[0;34m\u001b[0m\u001b[0m\n\u001b[1;32m    250\u001b[0m         \u001b[0msig\u001b[0m \u001b[0;34m=\u001b[0m \u001b[0mTensorConstantSignature\u001b[0m\u001b[0;34m(\u001b[0m\u001b[0;34m(\u001b[0m\u001b[0mttype\u001b[0m\u001b[0;34m,\u001b[0m \u001b[0mx_\u001b[0m\u001b[0;34m)\u001b[0m\u001b[0;34m)\u001b[0m\u001b[0;34m\u001b[0m\u001b[0;34m\u001b[0m\u001b[0m\n\u001b[0;32m--> 251\u001b[0;31m         \u001b[0;32mif\u001b[0m \u001b[0msig\u001b[0m \u001b[0;32min\u001b[0m \u001b[0mconstant_cache\u001b[0m\u001b[0;34m:\u001b[0m\u001b[0;34m\u001b[0m\u001b[0;34m\u001b[0m\u001b[0m\n\u001b[0m\u001b[1;32m    252\u001b[0m             \u001b[0;32mreturn\u001b[0m \u001b[0mconstant_cache\u001b[0m\u001b[0;34m[\u001b[0m\u001b[0msig\u001b[0m\u001b[0;34m]\u001b[0m\u001b[0;34m\u001b[0m\u001b[0;34m\u001b[0m\u001b[0m\n\u001b[1;32m    253\u001b[0m \u001b[0;34m\u001b[0m\u001b[0m\n",
      "\u001b[0;32m~/opt/anaconda3/lib/python3.7/site-packages/theano/tensor/var.py\u001b[0m in \u001b[0;36m__eq__\u001b[0;34m(self, other)\u001b[0m\n\u001b[1;32m    873\u001b[0m \u001b[0;34m\u001b[0m\u001b[0m\n\u001b[1;32m    874\u001b[0m         \u001b[0;31m# N.B. compare shape to ensure no broadcasting in ==\u001b[0m\u001b[0;34m\u001b[0m\u001b[0;34m\u001b[0m\u001b[0;34m\u001b[0m\u001b[0m\n\u001b[0;32m--> 875\u001b[0;31m         \u001b[0;32mif\u001b[0m \u001b[0mt0\u001b[0m \u001b[0;34m!=\u001b[0m \u001b[0mt1\u001b[0m \u001b[0;32mor\u001b[0m \u001b[0md0\u001b[0m\u001b[0;34m.\u001b[0m\u001b[0mshape\u001b[0m \u001b[0;34m!=\u001b[0m \u001b[0md1\u001b[0m\u001b[0;34m.\u001b[0m\u001b[0mshape\u001b[0m\u001b[0;34m:\u001b[0m\u001b[0;34m\u001b[0m\u001b[0;34m\u001b[0m\u001b[0m\n\u001b[0m\u001b[1;32m    876\u001b[0m             \u001b[0;32mreturn\u001b[0m \u001b[0;32mFalse\u001b[0m\u001b[0;34m\u001b[0m\u001b[0;34m\u001b[0m\u001b[0m\n\u001b[1;32m    877\u001b[0m \u001b[0;34m\u001b[0m\u001b[0m\n",
      "\u001b[0;32m~/opt/anaconda3/lib/python3.7/site-packages/theano/gof/utils.py\u001b[0m in \u001b[0;36m__ne__\u001b[0;34m(self, other)\u001b[0m\n\u001b[1;32m    218\u001b[0m \u001b[0;34m\u001b[0m\u001b[0m\n\u001b[1;32m    219\u001b[0m     \u001b[0;32mdef\u001b[0m \u001b[0m__ne__\u001b[0m\u001b[0;34m(\u001b[0m\u001b[0mself\u001b[0m\u001b[0;34m,\u001b[0m \u001b[0mother\u001b[0m\u001b[0;34m)\u001b[0m\u001b[0;34m:\u001b[0m\u001b[0;34m\u001b[0m\u001b[0;34m\u001b[0m\u001b[0m\n\u001b[0;32m--> 220\u001b[0;31m         \u001b[0;32mreturn\u001b[0m \u001b[0;32mnot\u001b[0m \u001b[0mself\u001b[0m \u001b[0;34m==\u001b[0m \u001b[0mother\u001b[0m\u001b[0;34m\u001b[0m\u001b[0;34m\u001b[0m\u001b[0m\n\u001b[0m\u001b[1;32m    221\u001b[0m \u001b[0;34m\u001b[0m\u001b[0m\n\u001b[1;32m    222\u001b[0m \u001b[0;34m\u001b[0m\u001b[0m\n",
      "\u001b[0;32m~/opt/anaconda3/lib/python3.7/site-packages/theano/tensor/type.py\u001b[0m in \u001b[0;36m__eq__\u001b[0;34m(self, other)\u001b[0m\n\u001b[1;32m    280\u001b[0m \u001b[0;34m\u001b[0m\u001b[0m\n\u001b[1;32m    281\u001b[0m         \"\"\"\n\u001b[0;32m--> 282\u001b[0;31m         \u001b[0;32mreturn\u001b[0m \u001b[0mtype\u001b[0m\u001b[0;34m(\u001b[0m\u001b[0mself\u001b[0m\u001b[0;34m)\u001b[0m \u001b[0;34m==\u001b[0m \u001b[0mtype\u001b[0m\u001b[0;34m(\u001b[0m\u001b[0mother\u001b[0m\u001b[0;34m)\u001b[0m \u001b[0;32mand\u001b[0m \u001b[0mother\u001b[0m\u001b[0;34m.\u001b[0m\u001b[0mdtype\u001b[0m \u001b[0;34m==\u001b[0m \u001b[0mself\u001b[0m\u001b[0;34m.\u001b[0m\u001b[0mdtype\u001b[0m\u001b[0;31m \u001b[0m\u001b[0;31m\\\u001b[0m\u001b[0;34m\u001b[0m\u001b[0;34m\u001b[0m\u001b[0m\n\u001b[0m\u001b[1;32m    283\u001b[0m             \u001b[0;32mand\u001b[0m \u001b[0mother\u001b[0m\u001b[0;34m.\u001b[0m\u001b[0mbroadcastable\u001b[0m \u001b[0;34m==\u001b[0m \u001b[0mself\u001b[0m\u001b[0;34m.\u001b[0m\u001b[0mbroadcastable\u001b[0m\u001b[0;34m\u001b[0m\u001b[0;34m\u001b[0m\u001b[0m\n\u001b[1;32m    284\u001b[0m \u001b[0;34m\u001b[0m\u001b[0m\n",
      "\u001b[0;31mKeyboardInterrupt\u001b[0m: "
     ]
    }
   ],
   "source": [
    "# based on parameterization 1 here...https://docs.pymc.io/notebooks/weibull_aft.html\n",
    "# for non-censored observations, outcomes are defined\n",
    "censored = np.array(modelData.censored)\n",
    "nonCensored = np.array(~modelData.censored)\n",
    "\n",
    "# convert to log-transformed values\n",
    "#time = np.log(modelData.lastTime.values)\n",
    "time = modelData.lastTime.values\n",
    "\n",
    "def weibull_lccdf(t, alpha, beta):\n",
    "    ''' Log complementary cdf of Weibull distribution. '''\n",
    "    return -(t / beta)**alpha\n",
    "\n",
    "with pm.Model() as weibull_primary_outcome_all_covariates:\n",
    "    alpha_sd = 10.0\n",
    "\n",
    "    intercept = pm.Normal('intercept', mu=0, sd=10)\n",
    "    betaAge = pm.Normal('betaAge', mu=0, sd=5)\n",
    "    betaSofa = pm.Normal('betaSofa', mu=0, sd=5)\n",
    "    betaLymph = pm.Normal('betaLymph', mu=0, sd=5)\n",
    "    betaFemale = pm.Normal('betaFemale', mu=0, sd=5)\n",
    "\n",
    "    # dynamically setting the lab data and prior sothat we can do programatic ppcs on them\n",
    "    for factor in factorsWithoutPriors:\n",
    "        name = getBetaNameForLab(factor)\n",
    "        setattr(weibull_primary_outcome_all_covariates, name, pm.Normal(name, mu=0, sd=0.05))\n",
    "        setattr(weibull_primary_outcome_all_covariates, factor, pm.Data(factor, modelData[factor]))\n",
    "        \n",
    "    \n",
    "    # mu is the sum of hte cmponents with specified priors + those with pessimistic pirors that we defined\n",
    "    mu = intercept + betaAge * modelData.age + betaSofa * modelData.sofa + betaLymph * modelData.lymph + \\\n",
    "        betaFemale * modelData.female \n",
    "    \n",
    "    for factor  in factorsWithoutPriors:   \n",
    "        mu += getattr(weibull_primary_outcome_all_covariates, getBetaNameForLab(factor)) * getattr(weibull_primary_outcome_all_covariates, factor)\n",
    "\n",
    "    \n",
    "    alpha_raw = pm.Normal('a0', mu=0, sigma=1)\n",
    "    alpha = pm.Deterministic('alpha', tt.exp(alpha_sd * alpha_raw))\n",
    "    \n",
    "    y_obs = pm.Weibull('y_obs', alpha=alpha, beta=tt.exp(mu[~censored]/alpha), observed=time[~censored])\n",
    "    y_cens = pm.Potential('y_cens', weibull_lccdf(time[censored], alpha, tt.exp(mu[censored]/alpha)))\n",
    "    \n",
    "    traceTimeToEventSimpleWeibull = pm.sample(1000, tune=1000, chains=4, cores=1, init='adapt_diag')"
   ]
  },
  {
   "cell_type": "code",
   "execution_count": 352,
   "metadata": {},
   "outputs": [
    {
     "name": "stderr",
     "output_type": "stream",
     "text": [
      "/Users/burke/opt/anaconda3/lib/python3.7/site-packages/theano/tensor/subtensor.py:2197: FutureWarning: Using a non-tuple sequence for multidimensional indexing is deprecated; use `arr[tuple(seq)]` instead of `arr[seq]`. In the future this will be interpreted as an array index, `arr[np.array(seq)]`, which will result either in an error or a different result.\n",
      "  rval = inputs[0].__getitem__(inputs[1:])\n"
     ]
    },
    {
     "data": {
      "text/html": [
       "<div>\n",
       "<style scoped>\n",
       "    .dataframe tbody tr th:only-of-type {\n",
       "        vertical-align: middle;\n",
       "    }\n",
       "\n",
       "    .dataframe tbody tr th {\n",
       "        vertical-align: top;\n",
       "    }\n",
       "\n",
       "    .dataframe thead th {\n",
       "        text-align: right;\n",
       "    }\n",
       "</style>\n",
       "<table border=\"1\" class=\"dataframe\">\n",
       "  <thead>\n",
       "    <tr style=\"text-align: right;\">\n",
       "      <th></th>\n",
       "      <th>mean</th>\n",
       "      <th>sd</th>\n",
       "      <th>hpd_3%</th>\n",
       "      <th>hpd_97%</th>\n",
       "      <th>mcse_mean</th>\n",
       "      <th>mcse_sd</th>\n",
       "      <th>ess_mean</th>\n",
       "      <th>ess_sd</th>\n",
       "      <th>ess_bulk</th>\n",
       "      <th>ess_tail</th>\n",
       "      <th>r_hat</th>\n",
       "    </tr>\n",
       "  </thead>\n",
       "  <tbody>\n",
       "    <tr>\n",
       "      <td>intercept</td>\n",
       "      <td>7.511</td>\n",
       "      <td>4.264</td>\n",
       "      <td>-0.105</td>\n",
       "      <td>15.806</td>\n",
       "      <td>0.083</td>\n",
       "      <td>0.061</td>\n",
       "      <td>2630.0</td>\n",
       "      <td>2427.0</td>\n",
       "      <td>2628.0</td>\n",
       "      <td>2478.0</td>\n",
       "      <td>1.0</td>\n",
       "    </tr>\n",
       "    <tr>\n",
       "      <td>betaAge</td>\n",
       "      <td>-0.033</td>\n",
       "      <td>0.010</td>\n",
       "      <td>-0.052</td>\n",
       "      <td>-0.016</td>\n",
       "      <td>0.000</td>\n",
       "      <td>0.000</td>\n",
       "      <td>3303.0</td>\n",
       "      <td>3247.0</td>\n",
       "      <td>3299.0</td>\n",
       "      <td>3010.0</td>\n",
       "      <td>1.0</td>\n",
       "    </tr>\n",
       "    <tr>\n",
       "      <td>betaSofa</td>\n",
       "      <td>0.049</td>\n",
       "      <td>0.119</td>\n",
       "      <td>-0.167</td>\n",
       "      <td>0.281</td>\n",
       "      <td>0.002</td>\n",
       "      <td>0.002</td>\n",
       "      <td>3329.0</td>\n",
       "      <td>2405.0</td>\n",
       "      <td>3374.0</td>\n",
       "      <td>2419.0</td>\n",
       "      <td>1.0</td>\n",
       "    </tr>\n",
       "    <tr>\n",
       "      <td>betaLymph</td>\n",
       "      <td>0.024</td>\n",
       "      <td>0.021</td>\n",
       "      <td>-0.015</td>\n",
       "      <td>0.066</td>\n",
       "      <td>0.000</td>\n",
       "      <td>0.000</td>\n",
       "      <td>4936.0</td>\n",
       "      <td>3532.0</td>\n",
       "      <td>4974.0</td>\n",
       "      <td>3306.0</td>\n",
       "      <td>1.0</td>\n",
       "    </tr>\n",
       "    <tr>\n",
       "      <td>betaFemale</td>\n",
       "      <td>0.671</td>\n",
       "      <td>0.323</td>\n",
       "      <td>0.060</td>\n",
       "      <td>1.281</td>\n",
       "      <td>0.005</td>\n",
       "      <td>0.004</td>\n",
       "      <td>4370.0</td>\n",
       "      <td>3545.0</td>\n",
       "      <td>4411.0</td>\n",
       "      <td>2722.0</td>\n",
       "      <td>1.0</td>\n",
       "    </tr>\n",
       "    <tr>\n",
       "      <td>betaCrp</td>\n",
       "      <td>-0.038</td>\n",
       "      <td>0.016</td>\n",
       "      <td>-0.069</td>\n",
       "      <td>-0.007</td>\n",
       "      <td>0.000</td>\n",
       "      <td>0.000</td>\n",
       "      <td>4469.0</td>\n",
       "      <td>4083.0</td>\n",
       "      <td>4475.0</td>\n",
       "      <td>3175.0</td>\n",
       "      <td>1.0</td>\n",
       "    </tr>\n",
       "    <tr>\n",
       "      <td>betaDdimer</td>\n",
       "      <td>-0.016</td>\n",
       "      <td>0.018</td>\n",
       "      <td>-0.048</td>\n",
       "      <td>0.020</td>\n",
       "      <td>0.000</td>\n",
       "      <td>0.000</td>\n",
       "      <td>3675.0</td>\n",
       "      <td>3447.0</td>\n",
       "      <td>3777.0</td>\n",
       "      <td>2852.0</td>\n",
       "      <td>1.0</td>\n",
       "    </tr>\n",
       "    <tr>\n",
       "      <td>betaFerritin</td>\n",
       "      <td>-0.000</td>\n",
       "      <td>0.000</td>\n",
       "      <td>-0.000</td>\n",
       "      <td>0.000</td>\n",
       "      <td>0.000</td>\n",
       "      <td>0.000</td>\n",
       "      <td>3595.0</td>\n",
       "      <td>3595.0</td>\n",
       "      <td>3678.0</td>\n",
       "      <td>3190.0</td>\n",
       "      <td>1.0</td>\n",
       "    </tr>\n",
       "    <tr>\n",
       "      <td>betaHstrop</td>\n",
       "      <td>-0.010</td>\n",
       "      <td>0.003</td>\n",
       "      <td>-0.016</td>\n",
       "      <td>-0.004</td>\n",
       "      <td>0.000</td>\n",
       "      <td>0.000</td>\n",
       "      <td>3367.0</td>\n",
       "      <td>3306.0</td>\n",
       "      <td>3353.0</td>\n",
       "      <td>2913.0</td>\n",
       "      <td>1.0</td>\n",
       "    </tr>\n",
       "    <tr>\n",
       "      <td>betaHgb</td>\n",
       "      <td>-0.013</td>\n",
       "      <td>0.038</td>\n",
       "      <td>-0.086</td>\n",
       "      <td>0.058</td>\n",
       "      <td>0.001</td>\n",
       "      <td>0.001</td>\n",
       "      <td>4500.0</td>\n",
       "      <td>2188.0</td>\n",
       "      <td>4512.0</td>\n",
       "      <td>3157.0</td>\n",
       "      <td>1.0</td>\n",
       "    </tr>\n",
       "    <tr>\n",
       "      <td>betaLac</td>\n",
       "      <td>-0.011</td>\n",
       "      <td>0.047</td>\n",
       "      <td>-0.099</td>\n",
       "      <td>0.078</td>\n",
       "      <td>0.001</td>\n",
       "      <td>0.001</td>\n",
       "      <td>4490.0</td>\n",
       "      <td>1804.0</td>\n",
       "      <td>4478.0</td>\n",
       "      <td>2675.0</td>\n",
       "      <td>1.0</td>\n",
       "    </tr>\n",
       "    <tr>\n",
       "      <td>betaLdh</td>\n",
       "      <td>-0.003</td>\n",
       "      <td>0.001</td>\n",
       "      <td>-0.004</td>\n",
       "      <td>-0.001</td>\n",
       "      <td>0.000</td>\n",
       "      <td>0.000</td>\n",
       "      <td>3477.0</td>\n",
       "      <td>3348.0</td>\n",
       "      <td>3463.0</td>\n",
       "      <td>3516.0</td>\n",
       "      <td>1.0</td>\n",
       "    </tr>\n",
       "    <tr>\n",
       "      <td>betaAlbumin</td>\n",
       "      <td>-0.011</td>\n",
       "      <td>0.049</td>\n",
       "      <td>-0.101</td>\n",
       "      <td>0.082</td>\n",
       "      <td>0.001</td>\n",
       "      <td>0.001</td>\n",
       "      <td>5378.0</td>\n",
       "      <td>2033.0</td>\n",
       "      <td>5383.0</td>\n",
       "      <td>2789.0</td>\n",
       "      <td>1.0</td>\n",
       "    </tr>\n",
       "    <tr>\n",
       "      <td>betaHr</td>\n",
       "      <td>-0.014</td>\n",
       "      <td>0.009</td>\n",
       "      <td>-0.031</td>\n",
       "      <td>0.002</td>\n",
       "      <td>0.000</td>\n",
       "      <td>0.000</td>\n",
       "      <td>3558.0</td>\n",
       "      <td>3249.0</td>\n",
       "      <td>3544.0</td>\n",
       "      <td>2965.0</td>\n",
       "      <td>1.0</td>\n",
       "    </tr>\n",
       "    <tr>\n",
       "      <td>betaRr</td>\n",
       "      <td>-0.042</td>\n",
       "      <td>0.016</td>\n",
       "      <td>-0.072</td>\n",
       "      <td>-0.013</td>\n",
       "      <td>0.000</td>\n",
       "      <td>0.000</td>\n",
       "      <td>2965.0</td>\n",
       "      <td>2854.0</td>\n",
       "      <td>2958.0</td>\n",
       "      <td>2966.0</td>\n",
       "      <td>1.0</td>\n",
       "    </tr>\n",
       "    <tr>\n",
       "      <td>betaTemp</td>\n",
       "      <td>0.013</td>\n",
       "      <td>0.041</td>\n",
       "      <td>-0.065</td>\n",
       "      <td>0.088</td>\n",
       "      <td>0.001</td>\n",
       "      <td>0.001</td>\n",
       "      <td>2866.0</td>\n",
       "      <td>2129.0</td>\n",
       "      <td>2870.0</td>\n",
       "      <td>2729.0</td>\n",
       "      <td>1.0</td>\n",
       "    </tr>\n",
       "    <tr>\n",
       "      <td>betaHypertension</td>\n",
       "      <td>-0.000</td>\n",
       "      <td>0.049</td>\n",
       "      <td>-0.092</td>\n",
       "      <td>0.093</td>\n",
       "      <td>0.001</td>\n",
       "      <td>0.001</td>\n",
       "      <td>5894.0</td>\n",
       "      <td>1893.0</td>\n",
       "      <td>5867.0</td>\n",
       "      <td>3016.0</td>\n",
       "      <td>1.0</td>\n",
       "    </tr>\n",
       "    <tr>\n",
       "      <td>betaDiabetes</td>\n",
       "      <td>0.001</td>\n",
       "      <td>0.050</td>\n",
       "      <td>-0.091</td>\n",
       "      <td>0.092</td>\n",
       "      <td>0.001</td>\n",
       "      <td>0.001</td>\n",
       "      <td>5048.0</td>\n",
       "      <td>1992.0</td>\n",
       "      <td>5051.0</td>\n",
       "      <td>3070.0</td>\n",
       "      <td>1.0</td>\n",
       "    </tr>\n",
       "    <tr>\n",
       "      <td>betaAsthma</td>\n",
       "      <td>0.000</td>\n",
       "      <td>0.050</td>\n",
       "      <td>-0.091</td>\n",
       "      <td>0.093</td>\n",
       "      <td>0.001</td>\n",
       "      <td>0.001</td>\n",
       "      <td>5180.0</td>\n",
       "      <td>1700.0</td>\n",
       "      <td>5187.0</td>\n",
       "      <td>2788.0</td>\n",
       "      <td>1.0</td>\n",
       "    </tr>\n",
       "    <tr>\n",
       "      <td>betaCopd</td>\n",
       "      <td>-0.000</td>\n",
       "      <td>0.050</td>\n",
       "      <td>-0.092</td>\n",
       "      <td>0.095</td>\n",
       "      <td>0.001</td>\n",
       "      <td>0.001</td>\n",
       "      <td>6170.0</td>\n",
       "      <td>1708.0</td>\n",
       "      <td>6146.0</td>\n",
       "      <td>2900.0</td>\n",
       "      <td>1.0</td>\n",
       "    </tr>\n",
       "    <tr>\n",
       "      <td>betaChronic_lung</td>\n",
       "      <td>0.001</td>\n",
       "      <td>0.049</td>\n",
       "      <td>-0.092</td>\n",
       "      <td>0.093</td>\n",
       "      <td>0.001</td>\n",
       "      <td>0.001</td>\n",
       "      <td>4988.0</td>\n",
       "      <td>1539.0</td>\n",
       "      <td>5059.0</td>\n",
       "      <td>2469.0</td>\n",
       "      <td>1.0</td>\n",
       "    </tr>\n",
       "    <tr>\n",
       "      <td>betaHome_o2</td>\n",
       "      <td>0.001</td>\n",
       "      <td>0.050</td>\n",
       "      <td>-0.088</td>\n",
       "      <td>0.096</td>\n",
       "      <td>0.001</td>\n",
       "      <td>0.001</td>\n",
       "      <td>6327.0</td>\n",
       "      <td>1567.0</td>\n",
       "      <td>6308.0</td>\n",
       "      <td>2854.0</td>\n",
       "      <td>1.0</td>\n",
       "    </tr>\n",
       "    <tr>\n",
       "      <td>betaOsa</td>\n",
       "      <td>-0.000</td>\n",
       "      <td>0.050</td>\n",
       "      <td>-0.093</td>\n",
       "      <td>0.092</td>\n",
       "      <td>0.001</td>\n",
       "      <td>0.001</td>\n",
       "      <td>4261.0</td>\n",
       "      <td>1839.0</td>\n",
       "      <td>4284.0</td>\n",
       "      <td>2650.0</td>\n",
       "      <td>1.0</td>\n",
       "    </tr>\n",
       "    <tr>\n",
       "      <td>betaImmunocompromised</td>\n",
       "      <td>0.000</td>\n",
       "      <td>0.049</td>\n",
       "      <td>-0.094</td>\n",
       "      <td>0.091</td>\n",
       "      <td>0.001</td>\n",
       "      <td>0.001</td>\n",
       "      <td>5731.0</td>\n",
       "      <td>2056.0</td>\n",
       "      <td>5740.0</td>\n",
       "      <td>3220.0</td>\n",
       "      <td>1.0</td>\n",
       "    </tr>\n",
       "  </tbody>\n",
       "</table>\n",
       "</div>"
      ],
      "text/plain": [
       "                        mean     sd  hpd_3%  hpd_97%  mcse_mean  mcse_sd  \\\n",
       "intercept              7.511  4.264  -0.105   15.806      0.083    0.061   \n",
       "betaAge               -0.033  0.010  -0.052   -0.016      0.000    0.000   \n",
       "betaSofa               0.049  0.119  -0.167    0.281      0.002    0.002   \n",
       "betaLymph              0.024  0.021  -0.015    0.066      0.000    0.000   \n",
       "betaFemale             0.671  0.323   0.060    1.281      0.005    0.004   \n",
       "betaCrp               -0.038  0.016  -0.069   -0.007      0.000    0.000   \n",
       "betaDdimer            -0.016  0.018  -0.048    0.020      0.000    0.000   \n",
       "betaFerritin          -0.000  0.000  -0.000    0.000      0.000    0.000   \n",
       "betaHstrop            -0.010  0.003  -0.016   -0.004      0.000    0.000   \n",
       "betaHgb               -0.013  0.038  -0.086    0.058      0.001    0.001   \n",
       "betaLac               -0.011  0.047  -0.099    0.078      0.001    0.001   \n",
       "betaLdh               -0.003  0.001  -0.004   -0.001      0.000    0.000   \n",
       "betaAlbumin           -0.011  0.049  -0.101    0.082      0.001    0.001   \n",
       "betaHr                -0.014  0.009  -0.031    0.002      0.000    0.000   \n",
       "betaRr                -0.042  0.016  -0.072   -0.013      0.000    0.000   \n",
       "betaTemp               0.013  0.041  -0.065    0.088      0.001    0.001   \n",
       "betaHypertension      -0.000  0.049  -0.092    0.093      0.001    0.001   \n",
       "betaDiabetes           0.001  0.050  -0.091    0.092      0.001    0.001   \n",
       "betaAsthma             0.000  0.050  -0.091    0.093      0.001    0.001   \n",
       "betaCopd              -0.000  0.050  -0.092    0.095      0.001    0.001   \n",
       "betaChronic_lung       0.001  0.049  -0.092    0.093      0.001    0.001   \n",
       "betaHome_o2            0.001  0.050  -0.088    0.096      0.001    0.001   \n",
       "betaOsa               -0.000  0.050  -0.093    0.092      0.001    0.001   \n",
       "betaImmunocompromised  0.000  0.049  -0.094    0.091      0.001    0.001   \n",
       "\n",
       "                       ess_mean  ess_sd  ess_bulk  ess_tail  r_hat  \n",
       "intercept                2630.0  2427.0    2628.0    2478.0    1.0  \n",
       "betaAge                  3303.0  3247.0    3299.0    3010.0    1.0  \n",
       "betaSofa                 3329.0  2405.0    3374.0    2419.0    1.0  \n",
       "betaLymph                4936.0  3532.0    4974.0    3306.0    1.0  \n",
       "betaFemale               4370.0  3545.0    4411.0    2722.0    1.0  \n",
       "betaCrp                  4469.0  4083.0    4475.0    3175.0    1.0  \n",
       "betaDdimer               3675.0  3447.0    3777.0    2852.0    1.0  \n",
       "betaFerritin             3595.0  3595.0    3678.0    3190.0    1.0  \n",
       "betaHstrop               3367.0  3306.0    3353.0    2913.0    1.0  \n",
       "betaHgb                  4500.0  2188.0    4512.0    3157.0    1.0  \n",
       "betaLac                  4490.0  1804.0    4478.0    2675.0    1.0  \n",
       "betaLdh                  3477.0  3348.0    3463.0    3516.0    1.0  \n",
       "betaAlbumin              5378.0  2033.0    5383.0    2789.0    1.0  \n",
       "betaHr                   3558.0  3249.0    3544.0    2965.0    1.0  \n",
       "betaRr                   2965.0  2854.0    2958.0    2966.0    1.0  \n",
       "betaTemp                 2866.0  2129.0    2870.0    2729.0    1.0  \n",
       "betaHypertension         5894.0  1893.0    5867.0    3016.0    1.0  \n",
       "betaDiabetes             5048.0  1992.0    5051.0    3070.0    1.0  \n",
       "betaAsthma               5180.0  1700.0    5187.0    2788.0    1.0  \n",
       "betaCopd                 6170.0  1708.0    6146.0    2900.0    1.0  \n",
       "betaChronic_lung         4988.0  1539.0    5059.0    2469.0    1.0  \n",
       "betaHome_o2              6327.0  1567.0    6308.0    2854.0    1.0  \n",
       "betaOsa                  4261.0  1839.0    4284.0    2650.0    1.0  \n",
       "betaImmunocompromised    5731.0  2056.0    5740.0    3220.0    1.0  "
      ]
     },
     "execution_count": 352,
     "metadata": {},
     "output_type": "execute_result"
    }
   ],
   "source": [
    "az.summary(traceTimeToEventSimpleWeibull).head(24)"
   ]
  },
  {
   "cell_type": "code",
   "execution_count": 355,
   "metadata": {},
   "outputs": [
    {
     "data": {
      "text/html": [
       "<div>\n",
       "<style scoped>\n",
       "    .dataframe tbody tr th:only-of-type {\n",
       "        vertical-align: middle;\n",
       "    }\n",
       "\n",
       "    .dataframe tbody tr th {\n",
       "        vertical-align: top;\n",
       "    }\n",
       "\n",
       "    .dataframe thead th {\n",
       "        text-align: right;\n",
       "    }\n",
       "</style>\n",
       "<table border=\"1\" class=\"dataframe\">\n",
       "  <thead>\n",
       "    <tr style=\"text-align: right;\">\n",
       "      <th></th>\n",
       "      <th>mean</th>\n",
       "      <th>sd</th>\n",
       "      <th>hpd_3%</th>\n",
       "      <th>hpd_97%</th>\n",
       "      <th>mcse_mean</th>\n",
       "      <th>mcse_sd</th>\n",
       "      <th>ess_mean</th>\n",
       "      <th>ess_sd</th>\n",
       "      <th>ess_bulk</th>\n",
       "      <th>ess_tail</th>\n",
       "      <th>r_hat</th>\n",
       "    </tr>\n",
       "  </thead>\n",
       "  <tbody>\n",
       "    <tr>\n",
       "      <td>intercept</td>\n",
       "      <td>8.334</td>\n",
       "      <td>4.251</td>\n",
       "      <td>0.906</td>\n",
       "      <td>16.671</td>\n",
       "      <td>0.106</td>\n",
       "      <td>0.077</td>\n",
       "      <td>1606.0</td>\n",
       "      <td>1529.0</td>\n",
       "      <td>1620.0</td>\n",
       "      <td>1975.0</td>\n",
       "      <td>1.0</td>\n",
       "    </tr>\n",
       "    <tr>\n",
       "      <td>betaAge</td>\n",
       "      <td>-0.035</td>\n",
       "      <td>0.010</td>\n",
       "      <td>-0.051</td>\n",
       "      <td>-0.016</td>\n",
       "      <td>0.000</td>\n",
       "      <td>0.000</td>\n",
       "      <td>2568.0</td>\n",
       "      <td>2561.0</td>\n",
       "      <td>2603.0</td>\n",
       "      <td>2469.0</td>\n",
       "      <td>1.0</td>\n",
       "    </tr>\n",
       "    <tr>\n",
       "      <td>betaSofa</td>\n",
       "      <td>-0.043</td>\n",
       "      <td>0.108</td>\n",
       "      <td>-0.243</td>\n",
       "      <td>0.157</td>\n",
       "      <td>0.002</td>\n",
       "      <td>0.002</td>\n",
       "      <td>3031.0</td>\n",
       "      <td>2495.0</td>\n",
       "      <td>3032.0</td>\n",
       "      <td>3071.0</td>\n",
       "      <td>1.0</td>\n",
       "    </tr>\n",
       "    <tr>\n",
       "      <td>betaLymph</td>\n",
       "      <td>0.025</td>\n",
       "      <td>0.020</td>\n",
       "      <td>-0.015</td>\n",
       "      <td>0.062</td>\n",
       "      <td>0.000</td>\n",
       "      <td>0.000</td>\n",
       "      <td>3167.0</td>\n",
       "      <td>2412.0</td>\n",
       "      <td>3204.0</td>\n",
       "      <td>2418.0</td>\n",
       "      <td>1.0</td>\n",
       "    </tr>\n",
       "    <tr>\n",
       "      <td>betaFemale</td>\n",
       "      <td>0.546</td>\n",
       "      <td>0.221</td>\n",
       "      <td>0.117</td>\n",
       "      <td>0.936</td>\n",
       "      <td>0.004</td>\n",
       "      <td>0.003</td>\n",
       "      <td>3806.0</td>\n",
       "      <td>3550.0</td>\n",
       "      <td>3800.0</td>\n",
       "      <td>2824.0</td>\n",
       "      <td>1.0</td>\n",
       "    </tr>\n",
       "    <tr>\n",
       "      <td>betaCrp</td>\n",
       "      <td>-0.037</td>\n",
       "      <td>0.016</td>\n",
       "      <td>-0.066</td>\n",
       "      <td>-0.006</td>\n",
       "      <td>0.000</td>\n",
       "      <td>0.000</td>\n",
       "      <td>3274.0</td>\n",
       "      <td>3181.0</td>\n",
       "      <td>3334.0</td>\n",
       "      <td>2724.0</td>\n",
       "      <td>1.0</td>\n",
       "    </tr>\n",
       "    <tr>\n",
       "      <td>betaDdimer</td>\n",
       "      <td>-0.015</td>\n",
       "      <td>0.018</td>\n",
       "      <td>-0.047</td>\n",
       "      <td>0.019</td>\n",
       "      <td>0.000</td>\n",
       "      <td>0.000</td>\n",
       "      <td>3404.0</td>\n",
       "      <td>3089.0</td>\n",
       "      <td>3564.0</td>\n",
       "      <td>2438.0</td>\n",
       "      <td>1.0</td>\n",
       "    </tr>\n",
       "    <tr>\n",
       "      <td>betaFerritin</td>\n",
       "      <td>-0.000</td>\n",
       "      <td>0.000</td>\n",
       "      <td>-0.000</td>\n",
       "      <td>0.000</td>\n",
       "      <td>0.000</td>\n",
       "      <td>0.000</td>\n",
       "      <td>2757.0</td>\n",
       "      <td>2757.0</td>\n",
       "      <td>2865.0</td>\n",
       "      <td>2390.0</td>\n",
       "      <td>1.0</td>\n",
       "    </tr>\n",
       "    <tr>\n",
       "      <td>betaHstrop</td>\n",
       "      <td>-0.008</td>\n",
       "      <td>0.003</td>\n",
       "      <td>-0.014</td>\n",
       "      <td>-0.002</td>\n",
       "      <td>0.000</td>\n",
       "      <td>0.000</td>\n",
       "      <td>2952.0</td>\n",
       "      <td>2897.0</td>\n",
       "      <td>2951.0</td>\n",
       "      <td>2661.0</td>\n",
       "      <td>1.0</td>\n",
       "    </tr>\n",
       "    <tr>\n",
       "      <td>betaHgb</td>\n",
       "      <td>-0.016</td>\n",
       "      <td>0.038</td>\n",
       "      <td>-0.085</td>\n",
       "      <td>0.057</td>\n",
       "      <td>0.001</td>\n",
       "      <td>0.001</td>\n",
       "      <td>2493.0</td>\n",
       "      <td>1576.0</td>\n",
       "      <td>2568.0</td>\n",
       "      <td>2293.0</td>\n",
       "      <td>1.0</td>\n",
       "    </tr>\n",
       "    <tr>\n",
       "      <td>betaLac</td>\n",
       "      <td>-0.010</td>\n",
       "      <td>0.048</td>\n",
       "      <td>-0.095</td>\n",
       "      <td>0.082</td>\n",
       "      <td>0.001</td>\n",
       "      <td>0.001</td>\n",
       "      <td>3425.0</td>\n",
       "      <td>1700.0</td>\n",
       "      <td>3425.0</td>\n",
       "      <td>2439.0</td>\n",
       "      <td>1.0</td>\n",
       "    </tr>\n",
       "    <tr>\n",
       "      <td>betaLdh</td>\n",
       "      <td>-0.003</td>\n",
       "      <td>0.001</td>\n",
       "      <td>-0.004</td>\n",
       "      <td>-0.001</td>\n",
       "      <td>0.000</td>\n",
       "      <td>0.000</td>\n",
       "      <td>2548.0</td>\n",
       "      <td>2505.0</td>\n",
       "      <td>2563.0</td>\n",
       "      <td>2024.0</td>\n",
       "      <td>1.0</td>\n",
       "    </tr>\n",
       "    <tr>\n",
       "      <td>betaAlbumin</td>\n",
       "      <td>-0.012</td>\n",
       "      <td>0.050</td>\n",
       "      <td>-0.103</td>\n",
       "      <td>0.082</td>\n",
       "      <td>0.001</td>\n",
       "      <td>0.001</td>\n",
       "      <td>3969.0</td>\n",
       "      <td>1821.0</td>\n",
       "      <td>3946.0</td>\n",
       "      <td>2786.0</td>\n",
       "      <td>1.0</td>\n",
       "    </tr>\n",
       "    <tr>\n",
       "      <td>betaHr</td>\n",
       "      <td>-0.014</td>\n",
       "      <td>0.008</td>\n",
       "      <td>-0.030</td>\n",
       "      <td>0.001</td>\n",
       "      <td>0.000</td>\n",
       "      <td>0.000</td>\n",
       "      <td>2731.0</td>\n",
       "      <td>2464.0</td>\n",
       "      <td>2733.0</td>\n",
       "      <td>2541.0</td>\n",
       "      <td>1.0</td>\n",
       "    </tr>\n",
       "    <tr>\n",
       "      <td>betaRr</td>\n",
       "      <td>-0.041</td>\n",
       "      <td>0.015</td>\n",
       "      <td>-0.069</td>\n",
       "      <td>-0.012</td>\n",
       "      <td>0.000</td>\n",
       "      <td>0.000</td>\n",
       "      <td>2641.0</td>\n",
       "      <td>2630.0</td>\n",
       "      <td>2640.0</td>\n",
       "      <td>2758.0</td>\n",
       "      <td>1.0</td>\n",
       "    </tr>\n",
       "    <tr>\n",
       "      <td>betaTemp</td>\n",
       "      <td>0.007</td>\n",
       "      <td>0.041</td>\n",
       "      <td>-0.067</td>\n",
       "      <td>0.084</td>\n",
       "      <td>0.001</td>\n",
       "      <td>0.001</td>\n",
       "      <td>1746.0</td>\n",
       "      <td>1682.0</td>\n",
       "      <td>1750.0</td>\n",
       "      <td>1932.0</td>\n",
       "      <td>1.0</td>\n",
       "    </tr>\n",
       "    <tr>\n",
       "      <td>betaHypertension</td>\n",
       "      <td>-0.002</td>\n",
       "      <td>0.049</td>\n",
       "      <td>-0.094</td>\n",
       "      <td>0.088</td>\n",
       "      <td>0.001</td>\n",
       "      <td>0.001</td>\n",
       "      <td>4142.0</td>\n",
       "      <td>2075.0</td>\n",
       "      <td>4141.0</td>\n",
       "      <td>3011.0</td>\n",
       "      <td>1.0</td>\n",
       "    </tr>\n",
       "    <tr>\n",
       "      <td>betaDiabetes</td>\n",
       "      <td>0.000</td>\n",
       "      <td>0.051</td>\n",
       "      <td>-0.088</td>\n",
       "      <td>0.101</td>\n",
       "      <td>0.001</td>\n",
       "      <td>0.001</td>\n",
       "      <td>4550.0</td>\n",
       "      <td>1894.0</td>\n",
       "      <td>4616.0</td>\n",
       "      <td>3295.0</td>\n",
       "      <td>1.0</td>\n",
       "    </tr>\n",
       "    <tr>\n",
       "      <td>betaAsthma</td>\n",
       "      <td>-0.001</td>\n",
       "      <td>0.050</td>\n",
       "      <td>-0.095</td>\n",
       "      <td>0.092</td>\n",
       "      <td>0.001</td>\n",
       "      <td>0.001</td>\n",
       "      <td>3825.0</td>\n",
       "      <td>1650.0</td>\n",
       "      <td>3824.0</td>\n",
       "      <td>2424.0</td>\n",
       "      <td>1.0</td>\n",
       "    </tr>\n",
       "    <tr>\n",
       "      <td>betaCopd</td>\n",
       "      <td>0.000</td>\n",
       "      <td>0.051</td>\n",
       "      <td>-0.097</td>\n",
       "      <td>0.094</td>\n",
       "      <td>0.001</td>\n",
       "      <td>0.001</td>\n",
       "      <td>4092.0</td>\n",
       "      <td>1498.0</td>\n",
       "      <td>4102.0</td>\n",
       "      <td>2376.0</td>\n",
       "      <td>1.0</td>\n",
       "    </tr>\n",
       "    <tr>\n",
       "      <td>betaChronic_lung</td>\n",
       "      <td>-0.000</td>\n",
       "      <td>0.050</td>\n",
       "      <td>-0.092</td>\n",
       "      <td>0.099</td>\n",
       "      <td>0.001</td>\n",
       "      <td>0.001</td>\n",
       "      <td>3231.0</td>\n",
       "      <td>1864.0</td>\n",
       "      <td>3232.0</td>\n",
       "      <td>2553.0</td>\n",
       "      <td>1.0</td>\n",
       "    </tr>\n",
       "    <tr>\n",
       "      <td>betaHome_o2</td>\n",
       "      <td>-0.000</td>\n",
       "      <td>0.050</td>\n",
       "      <td>-0.097</td>\n",
       "      <td>0.089</td>\n",
       "      <td>0.001</td>\n",
       "      <td>0.001</td>\n",
       "      <td>3852.0</td>\n",
       "      <td>1716.0</td>\n",
       "      <td>3846.0</td>\n",
       "      <td>2715.0</td>\n",
       "      <td>1.0</td>\n",
       "    </tr>\n",
       "    <tr>\n",
       "      <td>betaOsa</td>\n",
       "      <td>-0.000</td>\n",
       "      <td>0.050</td>\n",
       "      <td>-0.094</td>\n",
       "      <td>0.092</td>\n",
       "      <td>0.001</td>\n",
       "      <td>0.001</td>\n",
       "      <td>3801.0</td>\n",
       "      <td>1610.0</td>\n",
       "      <td>3811.0</td>\n",
       "      <td>2712.0</td>\n",
       "      <td>1.0</td>\n",
       "    </tr>\n",
       "    <tr>\n",
       "      <td>betaImmunocompromised</td>\n",
       "      <td>0.000</td>\n",
       "      <td>0.051</td>\n",
       "      <td>-0.094</td>\n",
       "      <td>0.094</td>\n",
       "      <td>0.001</td>\n",
       "      <td>0.001</td>\n",
       "      <td>3985.0</td>\n",
       "      <td>1891.0</td>\n",
       "      <td>4016.0</td>\n",
       "      <td>2833.0</td>\n",
       "      <td>1.0</td>\n",
       "    </tr>\n",
       "  </tbody>\n",
       "</table>\n",
       "</div>"
      ],
      "text/plain": [
       "                        mean     sd  hpd_3%  hpd_97%  mcse_mean  mcse_sd  \\\n",
       "intercept              8.334  4.251   0.906   16.671      0.106    0.077   \n",
       "betaAge               -0.035  0.010  -0.051   -0.016      0.000    0.000   \n",
       "betaSofa              -0.043  0.108  -0.243    0.157      0.002    0.002   \n",
       "betaLymph              0.025  0.020  -0.015    0.062      0.000    0.000   \n",
       "betaFemale             0.546  0.221   0.117    0.936      0.004    0.003   \n",
       "betaCrp               -0.037  0.016  -0.066   -0.006      0.000    0.000   \n",
       "betaDdimer            -0.015  0.018  -0.047    0.019      0.000    0.000   \n",
       "betaFerritin          -0.000  0.000  -0.000    0.000      0.000    0.000   \n",
       "betaHstrop            -0.008  0.003  -0.014   -0.002      0.000    0.000   \n",
       "betaHgb               -0.016  0.038  -0.085    0.057      0.001    0.001   \n",
       "betaLac               -0.010  0.048  -0.095    0.082      0.001    0.001   \n",
       "betaLdh               -0.003  0.001  -0.004   -0.001      0.000    0.000   \n",
       "betaAlbumin           -0.012  0.050  -0.103    0.082      0.001    0.001   \n",
       "betaHr                -0.014  0.008  -0.030    0.001      0.000    0.000   \n",
       "betaRr                -0.041  0.015  -0.069   -0.012      0.000    0.000   \n",
       "betaTemp               0.007  0.041  -0.067    0.084      0.001    0.001   \n",
       "betaHypertension      -0.002  0.049  -0.094    0.088      0.001    0.001   \n",
       "betaDiabetes           0.000  0.051  -0.088    0.101      0.001    0.001   \n",
       "betaAsthma            -0.001  0.050  -0.095    0.092      0.001    0.001   \n",
       "betaCopd               0.000  0.051  -0.097    0.094      0.001    0.001   \n",
       "betaChronic_lung      -0.000  0.050  -0.092    0.099      0.001    0.001   \n",
       "betaHome_o2           -0.000  0.050  -0.097    0.089      0.001    0.001   \n",
       "betaOsa               -0.000  0.050  -0.094    0.092      0.001    0.001   \n",
       "betaImmunocompromised  0.000  0.051  -0.094    0.094      0.001    0.001   \n",
       "\n",
       "                       ess_mean  ess_sd  ess_bulk  ess_tail  r_hat  \n",
       "intercept                1606.0  1529.0    1620.0    1975.0    1.0  \n",
       "betaAge                  2568.0  2561.0    2603.0    2469.0    1.0  \n",
       "betaSofa                 3031.0  2495.0    3032.0    3071.0    1.0  \n",
       "betaLymph                3167.0  2412.0    3204.0    2418.0    1.0  \n",
       "betaFemale               3806.0  3550.0    3800.0    2824.0    1.0  \n",
       "betaCrp                  3274.0  3181.0    3334.0    2724.0    1.0  \n",
       "betaDdimer               3404.0  3089.0    3564.0    2438.0    1.0  \n",
       "betaFerritin             2757.0  2757.0    2865.0    2390.0    1.0  \n",
       "betaHstrop               2952.0  2897.0    2951.0    2661.0    1.0  \n",
       "betaHgb                  2493.0  1576.0    2568.0    2293.0    1.0  \n",
       "betaLac                  3425.0  1700.0    3425.0    2439.0    1.0  \n",
       "betaLdh                  2548.0  2505.0    2563.0    2024.0    1.0  \n",
       "betaAlbumin              3969.0  1821.0    3946.0    2786.0    1.0  \n",
       "betaHr                   2731.0  2464.0    2733.0    2541.0    1.0  \n",
       "betaRr                   2641.0  2630.0    2640.0    2758.0    1.0  \n",
       "betaTemp                 1746.0  1682.0    1750.0    1932.0    1.0  \n",
       "betaHypertension         4142.0  2075.0    4141.0    3011.0    1.0  \n",
       "betaDiabetes             4550.0  1894.0    4616.0    3295.0    1.0  \n",
       "betaAsthma               3825.0  1650.0    3824.0    2424.0    1.0  \n",
       "betaCopd                 4092.0  1498.0    4102.0    2376.0    1.0  \n",
       "betaChronic_lung         3231.0  1864.0    3232.0    2553.0    1.0  \n",
       "betaHome_o2              3852.0  1716.0    3846.0    2715.0    1.0  \n",
       "betaOsa                  3801.0  1610.0    3811.0    2712.0    1.0  \n",
       "betaImmunocompromised    3985.0  1891.0    4016.0    2833.0    1.0  "
      ]
     },
     "execution_count": 355,
     "metadata": {},
     "output_type": "execute_result"
    }
   ],
   "source": [
    "az.summary(traceTimeToEventSimpleWeibullReversedPriors).head(24)\n"
   ]
  },
  {
   "cell_type": "code",
   "execution_count": 354,
   "metadata": {},
   "outputs": [
    {
     "name": "stderr",
     "output_type": "stream",
     "text": [
      "Auto-assigning NUTS sampler...\n",
      "Initializing NUTS using adapt_diag...\n",
      "Sequential sampling (4 chains in 1 job)\n",
      "NUTS: [a0, betaImmunocompromised, betaOsa, betaHome_o2, betaChronic_lung, betaCopd, betaAsthma, betaDiabetes, betaHypertension, betaTemp, betaRr, betaHr, betaAlbumin, betaLdh, betaLac, betaHgb, betaHstrop, betaFerritin, betaDdimer, betaCrp, betaFemale, betaLymph, betaSofa, betaAge, intercept]\n",
      "Sampling chain 0, 0 divergences: 100%|██████████| 2000/2000 [01:52<00:00, 17.84it/s]\n",
      "Sampling chain 1, 127 divergences: 100%|██████████| 2000/2000 [01:42<00:00, 19.59it/s]\n",
      "Sampling chain 2, 0 divergences: 100%|██████████| 2000/2000 [01:43<00:00, 19.29it/s]\n",
      "Sampling chain 3, 0 divergences: 100%|██████████| 2000/2000 [01:44<00:00, 19.15it/s]\n",
      "/Users/burke/opt/anaconda3/lib/python3.7/site-packages/theano/tensor/subtensor.py:2197: FutureWarning: Using a non-tuple sequence for multidimensional indexing is deprecated; use `arr[tuple(seq)]` instead of `arr[seq]`. In the future this will be interpreted as an array index, `arr[np.array(seq)]`, which will result either in an error or a different result.\n",
      "  rval = inputs[0].__getitem__(inputs[1:])\n",
      "There were 127 divergences after tuning. Increase `target_accept` or reparameterize.\n",
      "There were 127 divergences after tuning. Increase `target_accept` or reparameterize.\n",
      "There were 127 divergences after tuning. Increase `target_accept` or reparameterize.\n"
     ]
    }
   ],
   "source": [
    "# based on parameterization 1 here...https://docs.pymc.io/notebooks/weibull_aft.html\n",
    "# for non-censored observations, outcomes are defined\n",
    "censored = np.array(modelData.censored)\n",
    "nonCensored = np.array(~modelData.censored)\n",
    "\n",
    "# convert to log-transformed values\n",
    "#time = np.log(modelData.lastTime.values)\n",
    "time = modelData.lastTime.values\n",
    "\n",
    "def weibull_lccdf(t, alpha, beta):\n",
    "    ''' Log complementary cdf of Weibull distribution. '''\n",
    "    return -(t / beta)**alpha\n",
    "\n",
    "with pm.Model() as weibull_primary_outcome_all_covariates:\n",
    "    alpha_sd = 10.0\n",
    "\n",
    "    intercept = pm.Normal('intercept', mu=0, sd=10)\n",
    "    betaAge = pm.Normal('betaAge', mu=-0.095, sd=0.05)\n",
    "    betaSofa = pm.Normal('betaSofa', mu=-1.73, sd=0.5)\n",
    "    betaLymph = pm.Normal('betaLymph', mu=1.66, sd=0.9)\n",
    "    betaFemale = pm.Normal('betaFemale', mu=0.49, sd=0.3)\n",
    "\n",
    "    # dynamically setting the lab data and prior sothat we can do programatic ppcs on them\n",
    "    for factor in factorsWithoutPriors:\n",
    "        name = getBetaNameForLab(factor)\n",
    "        setattr(weibull_primary_outcome_all_covariates, name, pm.Normal(name, mu=0, sd=0.05))\n",
    "        setattr(weibull_primary_outcome_all_covariates, factor, pm.Data(factor, modelData[factor]))\n",
    "        \n",
    "    \n",
    "    # mu is the sum of hte cmponents with specified priors + those with pessimistic pirors that we defined\n",
    "    mu = intercept + betaAge * modelData.age + betaSofa * modelData.sofa + betaLymph * modelData.lymph + \\\n",
    "        betaFemale * modelData.female \n",
    "    \n",
    "    for factor  in factorsWithoutPriors:   \n",
    "        mu += getattr(weibull_primary_outcome_all_covariates, getBetaNameForLab(factor)) * getattr(weibull_primary_outcome_all_covariates, factor)\n",
    "\n",
    "    \n",
    "    alpha_raw = pm.Normal('a0', mu=0, sigma=1)\n",
    "    alpha = pm.Deterministic('alpha', tt.exp(alpha_sd * alpha_raw))\n",
    "    \n",
    "    y_obs = pm.Weibull('y_obs', alpha=alpha, beta=tt.exp(mu[~censored]/alpha), observed=time[~censored])\n",
    "    y_cens = pm.Potential('y_cens', weibull_lccdf(time[censored], alpha, tt.exp(mu[censored]/alpha)))\n",
    "    \n",
    "    traceTimeToEventSimpleWeibullReversedPriors = pm.sample(1000, tune=1000, chains=4, cores=1, init='adapt_diag')"
   ]
  },
  {
   "cell_type": "markdown",
   "metadata": {},
   "source": [
    "### Then, we need to transfe rall of those parameters into something like this and get the right answer.\n",
    "\n",
    "1. e^rho from the survival model = alpha\n",
    "2. lambda from teh survival model = linear predictxor/alpha \n",
    "This applies to both the intercept and the covariates...divide intercept and betas by alpha and you recover the paramters from the lifelines weibull model"
   ]
  },
  {
   "cell_type": "code",
   "execution_count": 318,
   "metadata": {},
   "outputs": [
    {
     "data": {
      "text/html": [
       "<div>\n",
       "<style scoped>\n",
       "    .dataframe tbody tr th:only-of-type {\n",
       "        vertical-align: middle;\n",
       "    }\n",
       "\n",
       "    .dataframe tbody tr th {\n",
       "        vertical-align: top;\n",
       "    }\n",
       "\n",
       "    .dataframe thead th {\n",
       "        text-align: right;\n",
       "    }\n",
       "</style>\n",
       "<table border=\"1\" class=\"dataframe\">\n",
       "  <tbody>\n",
       "    <tr>\n",
       "      <th>model</th>\n",
       "      <td>lifelines.WeibullAFTFitter</td>\n",
       "    </tr>\n",
       "    <tr>\n",
       "      <th>duration col</th>\n",
       "      <td>'lastTime'</td>\n",
       "    </tr>\n",
       "    <tr>\n",
       "      <th>event col</th>\n",
       "      <td>'primaryOutcome'</td>\n",
       "    </tr>\n",
       "    <tr>\n",
       "      <th>number of observations</th>\n",
       "      <td>324</td>\n",
       "    </tr>\n",
       "    <tr>\n",
       "      <th>number of events observed</th>\n",
       "      <td>61</td>\n",
       "    </tr>\n",
       "    <tr>\n",
       "      <th>log-likelihood</th>\n",
       "      <td>-277.505</td>\n",
       "    </tr>\n",
       "    <tr>\n",
       "      <th>time fit was run</th>\n",
       "      <td>2020-04-27 08:04:36 UTC</td>\n",
       "    </tr>\n",
       "  </tbody>\n",
       "</table>\n",
       "</div><table border=\"1\" class=\"dataframe\">\n",
       "  <thead>\n",
       "    <tr style=\"text-align: right;\">\n",
       "      <th></th>\n",
       "      <th></th>\n",
       "      <th>coef</th>\n",
       "      <th>exp(coef)</th>\n",
       "      <th>se(coef)</th>\n",
       "      <th>coef lower 95%</th>\n",
       "      <th>coef upper 95%</th>\n",
       "      <th>exp(coef) lower 95%</th>\n",
       "      <th>exp(coef) upper 95%</th>\n",
       "      <th>z</th>\n",
       "      <th>p</th>\n",
       "      <th>-log2(p)</th>\n",
       "    </tr>\n",
       "  </thead>\n",
       "  <tbody>\n",
       "    <tr>\n",
       "      <th rowspan=\"2\" valign=\"top\">lambda_</th>\n",
       "      <th>age</th>\n",
       "      <td>-0.118</td>\n",
       "      <td>0.888</td>\n",
       "      <td>0.029</td>\n",
       "      <td>-0.176</td>\n",
       "      <td>-0.061</td>\n",
       "      <td>0.839</td>\n",
       "      <td>0.941</td>\n",
       "      <td>-4.038</td>\n",
       "      <td>&lt;0.0005</td>\n",
       "      <td>14.178</td>\n",
       "    </tr>\n",
       "    <tr>\n",
       "      <th>_intercept</th>\n",
       "      <td>15.954</td>\n",
       "      <td>8.483e+06</td>\n",
       "      <td>2.263</td>\n",
       "      <td>11.519</td>\n",
       "      <td>20.388</td>\n",
       "      <td>1.006e+05</td>\n",
       "      <td>7.153e+08</td>\n",
       "      <td>7.051</td>\n",
       "      <td>&lt;0.0005</td>\n",
       "      <td>39.034</td>\n",
       "    </tr>\n",
       "    <tr>\n",
       "      <th>rho_</th>\n",
       "      <th>_intercept</th>\n",
       "      <td>-1.235</td>\n",
       "      <td>0.291</td>\n",
       "      <td>0.122</td>\n",
       "      <td>-1.475</td>\n",
       "      <td>-0.996</td>\n",
       "      <td>0.229</td>\n",
       "      <td>0.369</td>\n",
       "      <td>-10.109</td>\n",
       "      <td>&lt;0.0005</td>\n",
       "      <td>77.389</td>\n",
       "    </tr>\n",
       "  </tbody>\n",
       "</table><div>\n",
       "<style scoped>\n",
       "    .dataframe tbody tr th:only-of-type {\n",
       "        vertical-align: middle;\n",
       "    }\n",
       "\n",
       "    .dataframe tbody tr th {\n",
       "        vertical-align: top;\n",
       "    }\n",
       "\n",
       "    .dataframe thead th {\n",
       "        text-align: right;\n",
       "    }\n",
       "</style>\n",
       "<table border=\"1\" class=\"dataframe\">\n",
       "  <tbody>\n",
       "    <tr>\n",
       "      <th>Concordance</th>\n",
       "      <td>0.673</td>\n",
       "    </tr>\n",
       "    <tr>\n",
       "      <th>Log-likelihood ratio test</th>\n",
       "      <td>20.688 on 1 df</td>\n",
       "    </tr>\n",
       "    <tr>\n",
       "      <th>-log2(p) of ll-ratio test</th>\n",
       "      <td>17.497</td>\n",
       "    </tr>\n",
       "  </tbody>\n",
       "</table>\n",
       "</div>"
      ],
      "text/plain": [
       "<IPython.core.display.HTML object>"
      ]
     },
     "metadata": {},
     "output_type": "display_data"
    }
   ],
   "source": [
    "# https://lifelines.readthedocs.io/en/latest/Survival%20Regression.html\n",
    "from lifelines import WeibullAFTFitter\n",
    "\n",
    "\n",
    "aft = WeibullAFTFitter()\n",
    "aft.fit(modelData[['lastTime', 'primaryOutcome', 'age']], 'lastTime', event_col='primaryOutcome')   ## Fit the data to train the model\n",
    "aft.print_summary(3)  # access the results using aft.summary"
   ]
  },
  {
   "cell_type": "code",
   "execution_count": 27,
   "metadata": {},
   "outputs": [
    {
     "data": {
      "text/plain": [
       "<matplotlib.axes._subplots.AxesSubplot at 0x1c318cd390>"
      ]
     },
     "execution_count": 27,
     "metadata": {},
     "output_type": "execute_result"
    },
    {
     "data": {
      "image/png": "[encoded data removed]",
      "text/plain": [
       "<Figure size 432x288 with 1 Axes>"
      ]
     },
     "metadata": {
      "needs_background": "light"
     },
     "output_type": "display_data"
    }
   ],
   "source": [
    "aft.predict_survival_function(nonCensored[['age']].iloc[7:9]).plot()"
   ]
  },
  {
   "cell_type": "code",
   "execution_count": 356,
   "metadata": {},
   "outputs": [
    {
     "name": "stdout",
     "output_type": "stream",
     "text": [
      "     fun: -1.6122431632688115\n",
      "     jac: array([ 2.17905490e+03,  4.09032686e+02,  9.37119432e+02,  8.14220708e+02,\n",
      "        1.28541327e+03,  2.91837457e+02,  4.03995064e+02,  1.11740383e+03,\n",
      "        3.79925225e+03,  1.69616675e+03,  8.01604070e+02,  4.13079816e+03,\n",
      "        2.71463967e+03,  2.10986334e+03,  3.30045065e+04,  0.00000000e+00,\n",
      "        0.00000000e+00,  0.00000000e+00,  0.00000000e+00,  0.00000000e+00,\n",
      "        0.00000000e+00,  0.00000000e+00,  0.00000000e+00,  3.13886637e+02,\n",
      "        1.15115949e+02, -6.94212527e+02,  0.00000000e+00,  5.08193766e+02,\n",
      "       -1.15974575e-01])\n",
      " message: 'Iteration limit exceeded'\n",
      "    nfev: 405\n",
      "     nit: 201\n",
      "    njev: 201\n",
      "  status: 9\n",
      " success: False\n",
      "       x: array([-2.28478225e-07,  8.28417095e-06, -2.80861066e-06,  1.21889233e-05,\n",
      "        1.79648640e-05,  5.28157927e-06,  6.43392608e-07,  7.59177222e-06,\n",
      "        2.40177417e-05,  2.66959504e-05, -1.91142211e-05, -2.24654210e-05,\n",
      "       -1.44602932e-06, -1.01223462e-05,  1.54287816e-06, -4.16271849e-16,\n",
      "        1.77799125e-16, -7.38578039e-15,  1.39771003e-14, -2.78283558e-15,\n",
      "        9.17434136e+00,  0.00000000e+00,  0.00000000e+00, -1.21757591e-05,\n",
      "        1.40707408e+00,  3.97918585e-01,  4.45841455e+01,  6.33669204e-01,\n",
      "        9.61403173e+00])\n"
     ]
    },
    {
     "name": "stderr",
     "output_type": "stream",
     "text": [
      "/Users/burke/opt/anaconda3/lib/python3.7/site-packages/lifelines/utils/__init__.py:1110: ConvergenceWarning: Column censored have very low variance when conditioned on death event present or not. This may harm convergence. This could be a form of 'complete separation'. For example, try the following code:\n",
      "\n",
      ">>> events = df['primaryOutcome'].astype(bool)\n",
      ">>> print(df.loc[events, 'censored'].var())\n",
      ">>> print(df.loc[~events, 'censored'].var())\n",
      "\n",
      "A very low variance means that the column censored completely determines whether a subject dies or not. See https://stats.stackexchange.com/questions/11109/how-to-deal-with-perfect-separation-in-logistic-regression.\n",
      "\n",
      "  warnings.warn(dedent(warning_text), ConvergenceWarning)\n",
      "/Users/burke/opt/anaconda3/lib/python3.7/site-packages/lifelines/utils/__init__.py:1150: ConvergenceWarning: Column time has high sample correlation with the duration column. This may harm convergence. This could be a form of 'complete separation'.     See https://stats.stackexchange.com/questions/11109/how-to-deal-with-perfect-separation-in-logistic-regression\n",
      "\n",
      "  warnings.warn(dedent(warning_text), ConvergenceWarning)\n",
      "/Users/burke/opt/anaconda3/lib/python3.7/site-packages/lifelines/utils/__init__.py:1150: ConvergenceWarning: Column timeStandardized has high sample correlation with the duration column. This may harm convergence. This could be a form of 'complete separation'.     See https://stats.stackexchange.com/questions/11109/how-to-deal-with-perfect-separation-in-logistic-regression\n",
      "\n",
      "  warnings.warn(dedent(warning_text), ConvergenceWarning)\n"
     ]
    },
    {
     "ename": "ConvergenceError",
     "evalue": "Fitting did not converge. Try checking the following:\n\n0. Are there any lifelines warnings outputted during the `fit`?\n1. Inspect your DataFrame: does everything look as expected?\n2. Is there high-collinearity in the dataset? Try using the variance inflation factor (VIF) to find redundant variables.\n3. Try using an alternate minimizer: ``fitter._scipy_fit_method = \"SLSQP\"``.\n4. Trying adding a small penalizer (or changing it, if already present). Example: `WeibullAFTFitter(penalizer=0.01).fit(...)`.\n5. Are there any extreme outliers? Try modeling them or dropping them to see if it helps convergence.\n",
     "output_type": "error",
     "traceback": [
      "\u001b[0;31m---------------------------------------------------------------------------\u001b[0m",
      "\u001b[0;31mConvergenceError\u001b[0m                          Traceback (most recent call last)",
      "\u001b[0;32m<ipython-input-356-8824bb40887f>\u001b[0m in \u001b[0;36m<module>\u001b[0;34m\u001b[0m\n\u001b[1;32m      3\u001b[0m \u001b[0;34m\u001b[0m\u001b[0m\n\u001b[1;32m      4\u001b[0m \u001b[0maft\u001b[0m \u001b[0;34m=\u001b[0m \u001b[0mWeibullAFTFitter\u001b[0m\u001b[0;34m(\u001b[0m\u001b[0;34m)\u001b[0m\u001b[0;34m\u001b[0m\u001b[0;34m\u001b[0m\u001b[0m\n\u001b[0;32m----> 5\u001b[0;31m \u001b[0maft\u001b[0m\u001b[0;34m.\u001b[0m\u001b[0mfit\u001b[0m\u001b[0;34m(\u001b[0m\u001b[0mmodelData\u001b[0m\u001b[0;34m,\u001b[0m \u001b[0;34m'lastTime'\u001b[0m\u001b[0;34m,\u001b[0m \u001b[0mevent_col\u001b[0m\u001b[0;34m=\u001b[0m\u001b[0;34m'primaryOutcome'\u001b[0m\u001b[0;34m)\u001b[0m   \u001b[0;31m## Fit the data to train the model\u001b[0m\u001b[0;34m\u001b[0m\u001b[0;34m\u001b[0m\u001b[0m\n\u001b[0m\u001b[1;32m      6\u001b[0m \u001b[0maft\u001b[0m\u001b[0;34m.\u001b[0m\u001b[0mprint_summary\u001b[0m\u001b[0;34m(\u001b[0m\u001b[0;36m3\u001b[0m\u001b[0;34m)\u001b[0m  \u001b[0;31m# access the results using aft.summary\u001b[0m\u001b[0;34m\u001b[0m\u001b[0;34m\u001b[0m\u001b[0m\n",
      "\u001b[0;32m~/opt/anaconda3/lib/python3.7/site-packages/lifelines/utils/__init__.py\u001b[0m in \u001b[0;36mf\u001b[0;34m(self, *args, **kwargs)\u001b[0m\n\u001b[1;32m     48\u001b[0m         \u001b[0;32mdef\u001b[0m \u001b[0mf\u001b[0m\u001b[0;34m(\u001b[0m\u001b[0mself\u001b[0m\u001b[0;34m,\u001b[0m \u001b[0;34m*\u001b[0m\u001b[0margs\u001b[0m\u001b[0;34m,\u001b[0m \u001b[0;34m**\u001b[0m\u001b[0mkwargs\u001b[0m\u001b[0;34m)\u001b[0m\u001b[0;34m:\u001b[0m\u001b[0;34m\u001b[0m\u001b[0;34m\u001b[0m\u001b[0m\n\u001b[1;32m     49\u001b[0m             \u001b[0mself\u001b[0m\u001b[0;34m.\u001b[0m\u001b[0m_censoring_type\u001b[0m \u001b[0;34m=\u001b[0m \u001b[0mcls\u001b[0m\u001b[0;34m.\u001b[0m\u001b[0mRIGHT\u001b[0m\u001b[0;34m\u001b[0m\u001b[0;34m\u001b[0m\u001b[0m\n\u001b[0;32m---> 50\u001b[0;31m             \u001b[0;32mreturn\u001b[0m \u001b[0mfunction\u001b[0m\u001b[0;34m(\u001b[0m\u001b[0mself\u001b[0m\u001b[0;34m,\u001b[0m \u001b[0;34m*\u001b[0m\u001b[0margs\u001b[0m\u001b[0;34m,\u001b[0m \u001b[0;34m**\u001b[0m\u001b[0mkwargs\u001b[0m\u001b[0;34m)\u001b[0m\u001b[0;34m\u001b[0m\u001b[0;34m\u001b[0m\u001b[0m\n\u001b[0m\u001b[1;32m     51\u001b[0m \u001b[0;34m\u001b[0m\u001b[0m\n\u001b[1;32m     52\u001b[0m         \u001b[0;32mreturn\u001b[0m \u001b[0mf\u001b[0m\u001b[0;34m\u001b[0m\u001b[0;34m\u001b[0m\u001b[0m\n",
      "\u001b[0;32m~/opt/anaconda3/lib/python3.7/site-packages/lifelines/fitters/__init__.py\u001b[0m in \u001b[0;36mfit\u001b[0;34m(self, df, duration_col, event_col, ancillary_df, fit_intercept, show_progress, timeline, weights_col, robust, initial_point, entry_col)\u001b[0m\n\u001b[1;32m   2697\u001b[0m             \u001b[0mrobust\u001b[0m\u001b[0;34m=\u001b[0m\u001b[0mrobust\u001b[0m\u001b[0;34m,\u001b[0m\u001b[0;34m\u001b[0m\u001b[0;34m\u001b[0m\u001b[0m\n\u001b[1;32m   2698\u001b[0m             \u001b[0minitial_point\u001b[0m\u001b[0;34m=\u001b[0m\u001b[0minitial_point\u001b[0m\u001b[0;34m,\u001b[0m\u001b[0;34m\u001b[0m\u001b[0;34m\u001b[0m\u001b[0m\n\u001b[0;32m-> 2699\u001b[0;31m             \u001b[0mentry_col\u001b[0m\u001b[0;34m=\u001b[0m\u001b[0mentry_col\u001b[0m\u001b[0;34m,\u001b[0m\u001b[0;34m\u001b[0m\u001b[0;34m\u001b[0m\u001b[0m\n\u001b[0m\u001b[1;32m   2700\u001b[0m         )\n\u001b[1;32m   2701\u001b[0m         \u001b[0;32mreturn\u001b[0m \u001b[0mself\u001b[0m\u001b[0;34m\u001b[0m\u001b[0;34m\u001b[0m\u001b[0m\n",
      "\u001b[0;32m~/opt/anaconda3/lib/python3.7/site-packages/lifelines/fitters/__init__.py\u001b[0m in \u001b[0;36m_fit\u001b[0;34m(self, log_likelihood_function, df, Ts, regressors, event_col, show_progress, timeline, weights_col, robust, initial_point, entry_col)\u001b[0m\n\u001b[1;32m   1733\u001b[0m             \u001b[0mentries\u001b[0m\u001b[0;34m.\u001b[0m\u001b[0mvalues\u001b[0m\u001b[0;34m,\u001b[0m\u001b[0;34m\u001b[0m\u001b[0;34m\u001b[0m\u001b[0m\n\u001b[1;32m   1734\u001b[0m             \u001b[0mshow_progress\u001b[0m\u001b[0;34m=\u001b[0m\u001b[0mshow_progress\u001b[0m\u001b[0;34m,\u001b[0m\u001b[0;34m\u001b[0m\u001b[0;34m\u001b[0m\u001b[0m\n\u001b[0;32m-> 1735\u001b[0;31m             \u001b[0muser_supplied_initial_point\u001b[0m\u001b[0;34m=\u001b[0m\u001b[0minitial_point\u001b[0m\u001b[0;34m,\u001b[0m\u001b[0;34m\u001b[0m\u001b[0;34m\u001b[0m\u001b[0m\n\u001b[0m\u001b[1;32m   1736\u001b[0m         )\n\u001b[1;32m   1737\u001b[0m \u001b[0;34m\u001b[0m\u001b[0m\n",
      "\u001b[0;32m~/opt/anaconda3/lib/python3.7/site-packages/lifelines/fitters/__init__.py\u001b[0m in \u001b[0;36m_fit_model\u001b[0;34m(self, likelihood, Ts, Xs, E, weights, entries, show_progress, user_supplied_initial_point)\u001b[0m\n\u001b[1;32m   1861\u001b[0m                 \u001b[0;36m5.\u001b[0m \u001b[0mAre\u001b[0m \u001b[0mthere\u001b[0m \u001b[0many\u001b[0m \u001b[0mextreme\u001b[0m \u001b[0moutliers\u001b[0m\u001b[0;31m?\u001b[0m \u001b[0mTry\u001b[0m \u001b[0mmodeling\u001b[0m \u001b[0mthem\u001b[0m \u001b[0;32mor\u001b[0m \u001b[0mdropping\u001b[0m \u001b[0mthem\u001b[0m \u001b[0mto\u001b[0m \u001b[0msee\u001b[0m \u001b[0;32mif\u001b[0m \u001b[0mit\u001b[0m \u001b[0mhelps\u001b[0m \u001b[0mconvergence\u001b[0m\u001b[0;34m.\u001b[0m\u001b[0;34m\u001b[0m\u001b[0;34m\u001b[0m\u001b[0m\n\u001b[1;32m   1862\u001b[0m             \"\"\"\n\u001b[0;32m-> 1863\u001b[0;31m                     \u001b[0;34m%\u001b[0m \u001b[0mself\u001b[0m\u001b[0;34m.\u001b[0m\u001b[0m_class_name\u001b[0m\u001b[0;34m\u001b[0m\u001b[0;34m\u001b[0m\u001b[0m\n\u001b[0m\u001b[1;32m   1864\u001b[0m                 )\n\u001b[1;32m   1865\u001b[0m             )\n",
      "\u001b[0;31mConvergenceError\u001b[0m: Fitting did not converge. Try checking the following:\n\n0. Are there any lifelines warnings outputted during the `fit`?\n1. Inspect your DataFrame: does everything look as expected?\n2. Is there high-collinearity in the dataset? Try using the variance inflation factor (VIF) to find redundant variables.\n3. Try using an alternate minimizer: ``fitter._scipy_fit_method = \"SLSQP\"``.\n4. Trying adding a small penalizer (or changing it, if already present). Example: `WeibullAFTFitter(penalizer=0.01).fit(...)`.\n5. Are there any extreme outliers? Try modeling them or dropping them to see if it helps convergence.\n"
     ]
    }
   ],
   "source": [
    "from lifelines import WeibullAFTFitter\n",
    "\n",
    "\n",
    "aft = WeibullAFTFitter()\n",
    "aft.fit(modelData, 'lastTime', event_col='primaryOutcome')   ## Fit the data to train the model\n",
    "aft.print_summary(3)  # access the results using aft.summary"
   ]
  },
  {
   "cell_type": "code",
   "execution_count": 357,
   "metadata": {},
   "outputs": [
    {
     "data": {
      "text/html": [
       "<div>\n",
       "<style scoped>\n",
       "    .dataframe tbody tr th:only-of-type {\n",
       "        vertical-align: middle;\n",
       "    }\n",
       "\n",
       "    .dataframe tbody tr th {\n",
       "        vertical-align: top;\n",
       "    }\n",
       "\n",
       "    .dataframe thead th {\n",
       "        text-align: right;\n",
       "    }\n",
       "</style>\n",
       "<table border=\"1\" class=\"dataframe\">\n",
       "  <thead>\n",
       "    <tr style=\"text-align: right;\">\n",
       "      <th></th>\n",
       "      <th>age</th>\n",
       "      <th>female</th>\n",
       "      <th>sofa</th>\n",
       "      <th>lymph</th>\n",
       "      <th>crp</th>\n",
       "      <th>dDimer</th>\n",
       "      <th>ferritin</th>\n",
       "      <th>hsTrop</th>\n",
       "      <th>hgb</th>\n",
       "      <th>lac</th>\n",
       "      <th>...</th>\n",
       "      <th>chronic_lung</th>\n",
       "      <th>home_o2</th>\n",
       "      <th>osa</th>\n",
       "      <th>immunocompromised</th>\n",
       "      <th>icu</th>\n",
       "      <th>primaryOutcome</th>\n",
       "      <th>lastTime</th>\n",
       "      <th>time</th>\n",
       "      <th>timeStandardized</th>\n",
       "      <th>censored</th>\n",
       "    </tr>\n",
       "  </thead>\n",
       "  <tbody>\n",
       "    <tr>\n",
       "      <td>0</td>\n",
       "      <td>58.529</td>\n",
       "      <td>0</td>\n",
       "      <td>4.2</td>\n",
       "      <td>26.2</td>\n",
       "      <td>0.5</td>\n",
       "      <td>3.09</td>\n",
       "      <td>100.0</td>\n",
       "      <td>25.0</td>\n",
       "      <td>15.8</td>\n",
       "      <td>2.9</td>\n",
       "      <td>...</td>\n",
       "      <td>False</td>\n",
       "      <td>False</td>\n",
       "      <td>False</td>\n",
       "      <td>False</td>\n",
       "      <td>False</td>\n",
       "      <td>False</td>\n",
       "      <td>43.0</td>\n",
       "      <td>3.761200</td>\n",
       "      <td>0.491203</td>\n",
       "      <td>True</td>\n",
       "    </tr>\n",
       "    <tr>\n",
       "      <td>1</td>\n",
       "      <td>57.913</td>\n",
       "      <td>0</td>\n",
       "      <td>3.2</td>\n",
       "      <td>19.1</td>\n",
       "      <td>0.1</td>\n",
       "      <td>1.71</td>\n",
       "      <td>289.9</td>\n",
       "      <td>18.0</td>\n",
       "      <td>12.1</td>\n",
       "      <td>1.9</td>\n",
       "      <td>...</td>\n",
       "      <td>False</td>\n",
       "      <td>False</td>\n",
       "      <td>False</td>\n",
       "      <td>False</td>\n",
       "      <td>True</td>\n",
       "      <td>False</td>\n",
       "      <td>43.0</td>\n",
       "      <td>3.761200</td>\n",
       "      <td>0.491203</td>\n",
       "      <td>True</td>\n",
       "    </tr>\n",
       "    <tr>\n",
       "      <td>2</td>\n",
       "      <td>58.966</td>\n",
       "      <td>0</td>\n",
       "      <td>2.2</td>\n",
       "      <td>18.2</td>\n",
       "      <td>19.0</td>\n",
       "      <td>1.76</td>\n",
       "      <td>356.8</td>\n",
       "      <td>33.0</td>\n",
       "      <td>9.5</td>\n",
       "      <td>0.8</td>\n",
       "      <td>...</td>\n",
       "      <td>False</td>\n",
       "      <td>False</td>\n",
       "      <td>False</td>\n",
       "      <td>False</td>\n",
       "      <td>False</td>\n",
       "      <td>True</td>\n",
       "      <td>6.0</td>\n",
       "      <td>1.791759</td>\n",
       "      <td>-0.599897</td>\n",
       "      <td>False</td>\n",
       "    </tr>\n",
       "    <tr>\n",
       "      <td>3</td>\n",
       "      <td>52.980</td>\n",
       "      <td>0</td>\n",
       "      <td>1.2</td>\n",
       "      <td>2.2</td>\n",
       "      <td>31.6</td>\n",
       "      <td>1.28</td>\n",
       "      <td>1366.2</td>\n",
       "      <td>33.0</td>\n",
       "      <td>14.9</td>\n",
       "      <td>2.4</td>\n",
       "      <td>...</td>\n",
       "      <td>False</td>\n",
       "      <td>False</td>\n",
       "      <td>False</td>\n",
       "      <td>False</td>\n",
       "      <td>True</td>\n",
       "      <td>True</td>\n",
       "      <td>6.0</td>\n",
       "      <td>1.791759</td>\n",
       "      <td>-0.599897</td>\n",
       "      <td>False</td>\n",
       "    </tr>\n",
       "    <tr>\n",
       "      <td>4</td>\n",
       "      <td>59.241</td>\n",
       "      <td>0</td>\n",
       "      <td>0.2</td>\n",
       "      <td>7.1</td>\n",
       "      <td>6.4</td>\n",
       "      <td>0.82</td>\n",
       "      <td>946.0</td>\n",
       "      <td>14.0</td>\n",
       "      <td>12.6</td>\n",
       "      <td>0.8</td>\n",
       "      <td>...</td>\n",
       "      <td>False</td>\n",
       "      <td>False</td>\n",
       "      <td>False</td>\n",
       "      <td>False</td>\n",
       "      <td>False</td>\n",
       "      <td>False</td>\n",
       "      <td>43.0</td>\n",
       "      <td>3.761200</td>\n",
       "      <td>0.491203</td>\n",
       "      <td>True</td>\n",
       "    </tr>\n",
       "    <tr>\n",
       "      <td>...</td>\n",
       "      <td>...</td>\n",
       "      <td>...</td>\n",
       "      <td>...</td>\n",
       "      <td>...</td>\n",
       "      <td>...</td>\n",
       "      <td>...</td>\n",
       "      <td>...</td>\n",
       "      <td>...</td>\n",
       "      <td>...</td>\n",
       "      <td>...</td>\n",
       "      <td>...</td>\n",
       "      <td>...</td>\n",
       "      <td>...</td>\n",
       "      <td>...</td>\n",
       "      <td>...</td>\n",
       "      <td>...</td>\n",
       "      <td>...</td>\n",
       "      <td>...</td>\n",
       "      <td>...</td>\n",
       "      <td>...</td>\n",
       "      <td>...</td>\n",
       "    </tr>\n",
       "    <tr>\n",
       "      <td>319</td>\n",
       "      <td>67.510</td>\n",
       "      <td>1</td>\n",
       "      <td>3.2</td>\n",
       "      <td>6.0</td>\n",
       "      <td>13.9</td>\n",
       "      <td>40.00</td>\n",
       "      <td>146.1</td>\n",
       "      <td>98.0</td>\n",
       "      <td>11.4</td>\n",
       "      <td>1.9</td>\n",
       "      <td>...</td>\n",
       "      <td>False</td>\n",
       "      <td>False</td>\n",
       "      <td>False</td>\n",
       "      <td>False</td>\n",
       "      <td>True</td>\n",
       "      <td>True</td>\n",
       "      <td>43.0</td>\n",
       "      <td>3.761200</td>\n",
       "      <td>0.491203</td>\n",
       "      <td>False</td>\n",
       "    </tr>\n",
       "    <tr>\n",
       "      <td>320</td>\n",
       "      <td>52.008</td>\n",
       "      <td>0</td>\n",
       "      <td>2.2</td>\n",
       "      <td>7.0</td>\n",
       "      <td>32.6</td>\n",
       "      <td>1.25</td>\n",
       "      <td>1874.8</td>\n",
       "      <td>72.0</td>\n",
       "      <td>15.9</td>\n",
       "      <td>3.5</td>\n",
       "      <td>...</td>\n",
       "      <td>False</td>\n",
       "      <td>False</td>\n",
       "      <td>False</td>\n",
       "      <td>False</td>\n",
       "      <td>True</td>\n",
       "      <td>True</td>\n",
       "      <td>0.1</td>\n",
       "      <td>-2.302585</td>\n",
       "      <td>-2.868226</td>\n",
       "      <td>False</td>\n",
       "    </tr>\n",
       "    <tr>\n",
       "      <td>321</td>\n",
       "      <td>65.540</td>\n",
       "      <td>0</td>\n",
       "      <td>1.2</td>\n",
       "      <td>10.0</td>\n",
       "      <td>5.2</td>\n",
       "      <td>0.58</td>\n",
       "      <td>1694.4</td>\n",
       "      <td>15.0</td>\n",
       "      <td>17.5</td>\n",
       "      <td>3.4</td>\n",
       "      <td>...</td>\n",
       "      <td>False</td>\n",
       "      <td>False</td>\n",
       "      <td>False</td>\n",
       "      <td>False</td>\n",
       "      <td>True</td>\n",
       "      <td>False</td>\n",
       "      <td>17.0</td>\n",
       "      <td>2.833213</td>\n",
       "      <td>-0.022916</td>\n",
       "      <td>True</td>\n",
       "    </tr>\n",
       "    <tr>\n",
       "      <td>322</td>\n",
       "      <td>83.924</td>\n",
       "      <td>1</td>\n",
       "      <td>1.2</td>\n",
       "      <td>17.9</td>\n",
       "      <td>3.5</td>\n",
       "      <td>1.71</td>\n",
       "      <td>1271.1</td>\n",
       "      <td>22.0</td>\n",
       "      <td>13.1</td>\n",
       "      <td>1.6</td>\n",
       "      <td>...</td>\n",
       "      <td>False</td>\n",
       "      <td>False</td>\n",
       "      <td>False</td>\n",
       "      <td>False</td>\n",
       "      <td>True</td>\n",
       "      <td>False</td>\n",
       "      <td>17.0</td>\n",
       "      <td>2.833213</td>\n",
       "      <td>-0.022916</td>\n",
       "      <td>True</td>\n",
       "    </tr>\n",
       "    <tr>\n",
       "      <td>323</td>\n",
       "      <td>58.846</td>\n",
       "      <td>0</td>\n",
       "      <td>6.2</td>\n",
       "      <td>6.8</td>\n",
       "      <td>7.4</td>\n",
       "      <td>1.47</td>\n",
       "      <td>1457.4</td>\n",
       "      <td>249.0</td>\n",
       "      <td>16.0</td>\n",
       "      <td>1.8</td>\n",
       "      <td>...</td>\n",
       "      <td>False</td>\n",
       "      <td>False</td>\n",
       "      <td>False</td>\n",
       "      <td>False</td>\n",
       "      <td>True</td>\n",
       "      <td>True</td>\n",
       "      <td>7.0</td>\n",
       "      <td>1.945910</td>\n",
       "      <td>-0.514495</td>\n",
       "      <td>False</td>\n",
       "    </tr>\n",
       "  </tbody>\n",
       "</table>\n",
       "<p>324 rows × 29 columns</p>\n",
       "</div>"
      ],
      "text/plain": [
       "        age  female  sofa  lymph   crp  dDimer  ferritin  hsTrop   hgb  lac  \\\n",
       "0    58.529       0   4.2   26.2   0.5    3.09     100.0    25.0  15.8  2.9   \n",
       "1    57.913       0   3.2   19.1   0.1    1.71     289.9    18.0  12.1  1.9   \n",
       "2    58.966       0   2.2   18.2  19.0    1.76     356.8    33.0   9.5  0.8   \n",
       "3    52.980       0   1.2    2.2  31.6    1.28    1366.2    33.0  14.9  2.4   \n",
       "4    59.241       0   0.2    7.1   6.4    0.82     946.0    14.0  12.6  0.8   \n",
       "..      ...     ...   ...    ...   ...     ...       ...     ...   ...  ...   \n",
       "319  67.510       1   3.2    6.0  13.9   40.00     146.1    98.0  11.4  1.9   \n",
       "320  52.008       0   2.2    7.0  32.6    1.25    1874.8    72.0  15.9  3.5   \n",
       "321  65.540       0   1.2   10.0   5.2    0.58    1694.4    15.0  17.5  3.4   \n",
       "322  83.924       1   1.2   17.9   3.5    1.71    1271.1    22.0  13.1  1.6   \n",
       "323  58.846       0   6.2    6.8   7.4    1.47    1457.4   249.0  16.0  1.8   \n",
       "\n",
       "     ...  chronic_lung  home_o2    osa  immunocompromised    icu  \\\n",
       "0    ...         False    False  False              False  False   \n",
       "1    ...         False    False  False              False   True   \n",
       "2    ...         False    False  False              False  False   \n",
       "3    ...         False    False  False              False   True   \n",
       "4    ...         False    False  False              False  False   \n",
       "..   ...           ...      ...    ...                ...    ...   \n",
       "319  ...         False    False  False              False   True   \n",
       "320  ...         False    False  False              False   True   \n",
       "321  ...         False    False  False              False   True   \n",
       "322  ...         False    False  False              False   True   \n",
       "323  ...         False    False  False              False   True   \n",
       "\n",
       "     primaryOutcome  lastTime      time  timeStandardized  censored  \n",
       "0             False      43.0  3.761200          0.491203      True  \n",
       "1             False      43.0  3.761200          0.491203      True  \n",
       "2              True       6.0  1.791759         -0.599897     False  \n",
       "3              True       6.0  1.791759         -0.599897     False  \n",
       "4             False      43.0  3.761200          0.491203      True  \n",
       "..              ...       ...       ...               ...       ...  \n",
       "319            True      43.0  3.761200          0.491203     False  \n",
       "320            True       0.1 -2.302585         -2.868226     False  \n",
       "321           False      17.0  2.833213         -0.022916      True  \n",
       "322           False      17.0  2.833213         -0.022916      True  \n",
       "323            True       7.0  1.945910         -0.514495     False  \n",
       "\n",
       "[324 rows x 29 columns]"
      ]
     },
     "execution_count": 357,
     "metadata": {},
     "output_type": "execute_result"
    }
   ],
   "source": [
    "modelData"
   ]
  },
  {
   "cell_type": "code",
   "execution_count": 36,
   "metadata": {},
   "outputs": [
    {
     "data": {
      "image/png": "[encoded data removed]",
      "text/plain": [
       "<Figure size 432x288 with 1 Axes>"
      ]
     },
     "metadata": {
      "needs_background": "light"
     },
     "output_type": "display_data"
    }
   ],
   "source": [
    "timeRange = np.linspace(0, 43, 10000)\n",
    "\n",
    "age = 50\n",
    "def getXb(age):\n",
    "    return np.exp(15.954 + -0.118*age)\n",
    "\n",
    "l = 1/getXb(age)\n",
    "\n",
    "# sign of p is correct...\n",
    "p = np.exp(-1.235)\n",
    "\n",
    "# from https://data.princeton.edu/pop509/ParametricSurvival.pdf\n",
    "def weibull_surv(l, p, t):\n",
    "    return np.exp(-1*(l*t)**p)\n",
    "\n",
    "survival = weibull_surv(l, p, timeRange)\n",
    "\n",
    "plt.plot(timeRange, survival)\n",
    "\n",
    "for t in timeRange:\n",
    "    if weibull_surv(l, p, t) < 0.50:\n",
    "        print(f\"median survival: {t:0.2f}\")\n",
    "        break\n",
    "\n"
   ]
  },
  {
   "cell_type": "code",
   "execution_count": 31,
   "metadata": {},
   "outputs": [
    {
     "data": {
      "application/vnd.plotly.v1+json": {
       "config": {
        "plotlyServerURL": "https://plot.ly"
       },
       "data": [
        {
         "mode": "lines",
         "name": "Entered Risk Parameters",
         "type": "scatter",
         "x": [
          0,
          0.1507537688442211,
          0.3015075376884422,
          0.4522613065326633,
          0.6030150753768844,
          0.7537688442211055,
          0.9045226130653266,
          1.0552763819095476,
          1.2060301507537687,
          1.3567839195979898,
          1.507537688442211,
          1.658291457286432,
          1.809045226130653,
          1.9597989949748742,
          2.1105527638190953,
          2.2613065326633164,
          2.4120603015075375,
          2.5628140703517586,
          2.7135678391959797,
          2.8643216080402008,
          3.015075376884422,
          3.165829145728643,
          3.316582914572864,
          3.467336683417085,
          3.618090452261306,
          3.7688442211055273,
          3.9195979899497484,
          4.0703517587939695,
          4.221105527638191,
          4.371859296482412,
          4.522613065326633,
          4.673366834170854,
          4.824120603015075,
          4.974874371859296,
          5.125628140703517,
          5.276381909547738,
          5.427135678391959,
          5.57788944723618,
          5.7286432160804015,
          5.879396984924623,
          6.030150753768844,
          6.180904522613065,
          6.331658291457286,
          6.482412060301507,
          6.633165829145728,
          6.783919597989949,
          6.93467336683417,
          7.085427135678391,
          7.236180904522612,
          7.3869346733668335,
          7.537688442211055,
          7.688442211055276,
          7.839195979899497,
          7.989949748743718,
          8.140703517587939,
          8.29145728643216,
          8.442211055276381,
          8.592964824120603,
          8.743718592964823,
          8.894472361809044,
          9.045226130653266,
          9.195979899497488,
          9.346733668341708,
          9.497487437185928,
          9.64824120603015,
          9.798994974874372,
          9.949748743718592,
          10.100502512562812,
          10.251256281407034,
          10.402010050251256,
          10.552763819095476,
          10.703517587939697,
          10.854271356783919,
          11.00502512562814,
          11.15577889447236,
          11.306532663316581,
          11.457286432160803,
          11.608040201005025,
          11.758793969849245,
          11.909547738693465,
          12.060301507537687,
          12.21105527638191,
          12.36180904522613,
          12.51256281407035,
          12.663316582914572,
          12.814070351758794,
          12.964824120603014,
          13.115577889447234,
          13.266331658291456,
          13.417085427135678,
          13.567839195979898,
          13.718592964824118,
          13.86934673366834,
          14.020100502512562,
          14.170854271356783,
          14.321608040201003,
          14.472361809045225,
          14.623115577889447,
          14.773869346733667,
          14.924623115577887,
          15.07537688442211,
          15.226130653266331,
          15.376884422110551,
          15.527638190954772,
          15.678391959798994,
          15.829145728643216,
          15.979899497487436,
          16.130653266331656,
          16.281407035175878,
          16.4321608040201,
          16.58291457286432,
          16.73366834170854,
          16.884422110552762,
          17.035175879396984,
          17.185929648241206,
          17.336683417085425,
          17.487437185929647,
          17.63819095477387,
          17.788944723618087,
          17.93969849246231,
          18.09045226130653,
          18.241206030150753,
          18.391959798994975,
          18.542713567839193,
          18.693467336683415,
          18.844221105527637,
          18.994974874371856,
          19.145728643216078,
          19.2964824120603,
          19.44723618090452,
          19.597989949748744,
          19.748743718592962,
          19.899497487437184,
          20.050251256281406,
          20.201005025125625,
          20.351758793969847,
          20.50251256281407,
          20.65326633165829,
          20.804020100502512,
          20.95477386934673,
          21.105527638190953,
          21.256281407035175,
          21.407035175879393,
          21.557788944723615,
          21.708542713567837,
          21.85929648241206,
          22.01005025125628,
          22.1608040201005,
          22.31155778894472,
          22.462311557788944,
          22.613065326633162,
          22.763819095477384,
          22.914572864321606,
          23.065326633165828,
          23.21608040201005,
          23.36683417085427,
          23.51758793969849,
          23.668341708542712,
          23.81909547738693,
          23.969849246231153,
          24.120603015075375,
          24.271356783919597,
          24.42211055276382,
          24.572864321608037,
          24.72361809045226,
          24.87437185929648,
          25.0251256281407,
          25.17587939698492,
          25.326633165829143,
          25.477386934673365,
          25.628140703517587,
          25.778894472361806,
          25.929648241206028,
          26.08040201005025,
          26.23115577889447,
          26.38190954773869,
          26.532663316582912,
          26.683417085427134,
          26.834170854271356,
          26.984924623115575,
          27.135678391959797,
          27.28643216080402,
          27.437185929648237,
          27.58793969849246,
          27.73869346733668,
          27.889447236180903,
          28.040201005025125,
          28.190954773869343,
          28.341708542713565,
          28.492462311557787,
          28.643216080402006,
          28.793969849246228,
          28.94472361809045,
          29.09547738693467,
          29.246231155778894,
          29.396984924623112,
          29.547738693467334,
          29.698492462311556,
          29.849246231155774,
          30
         ],
         "y": [
          1,
          0.9694928565216052,
          0.9628073142282336,
          0.9582508318580634,
          0.954691236095902,
          0.9517277757212551,
          0.9491669855064186,
          0.9468991479816344,
          0.9448554326303356,
          0.9429895394464922,
          0.9412686847854872,
          0.9396687230455348,
          0.9381713065075151,
          0.9367621346081114,
          0.9354298239939333,
          0.9341651511067356,
          0.9329605281110454,
          0.9318096303501917,
          0.9307071252825206,
          0.9296484712158342,
          0.9286297651802321,
          0.9276476261121577,
          0.9266991038802667,
          0.9257816075341129,
          0.9248928480634034,
          0.924030792257147,
          0.9231936251568107,
          0.92237971923709,
          0.9215876089067289,
          0.920815969255642,
          0.9200635982205377,
          0.9193294015246031,
          0.9186123798849946,
          0.9179116180870733,
          0.9172262756051567,
          0.9165555785122207,
          0.9158988124699605,
          0.9152553166291839,
          0.9146244783011106,
          0.9140057282845833,
          0.9133985367538364,
          0.9128024096273546,
          0.9122168853512623,
          0.9116415320412555,
          0.9110759449357604,
          0.9105197441201776,
          0.9099725724880168,
          0.9094340939096865,
          0.9089039915838508,
          0.9083819665497536,
          0.9078677363418529,
          0.9073610337705954,
          0.9068616058152799,
          0.9063692126167617,
          0.9058836265592917,
          0.9054046314321086,
          0.9049320216625427,
          0.9044656016133705,
          0.9040051849380106,
          0.9035505939878927,
          0.9031016592669673,
          0.9026582189288911,
          0.9022201183129066,
          0.9017872095148654,
          0.9013593509902231,
          0.9009364071861632,
          0.9005182482002977,
          0.9001047494636573,
          0.8996957914459027,
          0.8992912593809023,
          0.8988910430109917,
          0.8984950363483989,
          0.8981031374524573,
          0.8977152482213583,
          0.8973312741973098,
          0.8969511243840691,
          0.896574711075909,
          0.8962019496971638,
          0.8958327586515689,
          0.8954670591806809,
          0.8951047752307237,
          0.8947458333272592,
          0.8943901624571335,
          0.8940376939571928,
          0.8936883614093036,
          0.8933421005412511,
          0.89299884913312,
          0.8926585469287961,
          0.892321135552251,
          0.8919865584283035,
          0.8916547607075677,
          0.8913256891953242,
          0.8909992922840693,
          0.8906755198895125,
          0.8903543233898131,
          0.8900356555678574,
          0.8897194705563952,
          0.8894057237858665,
          0.8890943719347575,
          0.8887853728823427,
          0.8884786856636719,
          0.8881742704266767,
          0.8878720883912754,
          0.8875721018103654,
          0.8872742739325983,
          0.8869785689668391,
          0.8866849520482206,
          0.8863933892057028,
          0.8861038473310622,
          0.8858162941492316,
          0.8855306981899209,
          0.8852470287604539,
          0.8849652559197556,
          0.8846853504534349,
          0.8844072838499042,
          0.8841310282774866,
          0.8838565565624594,
          0.8835838421679906,
          0.8833128591739213,
          0.883043582257357,
          0.8827759866740252,
          0.8825100482403664,
          0.8822457433163213,
          0.8819830487887829,
          0.8817219420556817,
          0.8814624010106765,
          0.8812044040284219,
          0.8809479299503858,
          0.880692958071194,
          0.8804394681254764,
          0.8801874402751949,
          0.8799368550974299,
          0.8796876935726051,
          0.8794399370731346,
          0.8791935673524706,
          0.8789485665345368,
          0.8787049171035307,
          0.8784626018940792,
          0.8782216040817329,
          0.8779819071737842,
          0.8777434950003984,
          0.8775063517060412,
          0.8772704617411948,
          0.8770358098543474,
          0.8768023810842475,
          0.8765701607524115,
          0.8763391344558747,
          0.8761092880601771,
          0.8758806076925726,
          0.875653079735456,
          0.8754266908199971,
          0.8752014278199751,
          0.8749772778458055,
          0.8747542282387523,
          0.8745322665653179,
          0.8743113806118059,
          0.8740915583790485,
          0.8738727880772931,
          0.8736550581212428,
          0.873438357125245,
          0.8732226738986225,
          0.8730079974411421,
          0.8727943169386156,
          0.8725816217586301,
          0.8723699014463997,
          0.872159145720739,
          0.8719493444701494,
          0.8717404877490178,
          0.8715325657739227,
          0.8713255689200429,
          0.8711194877176679,
          0.8709143128488043,
          0.870710035143875,
          0.8705066455785111,
          0.8703041352704285,
          0.8701024954763917,
          0.8699017175892575,
          0.8697017931350992,
          0.8695027137704067,
          0.8693044712793611,
          0.8691070575711807,
          0.8689104646775375,
          0.8687146847500401,
          0.8685197100577818,
          0.8683255329849529,
          0.8681321460285126,
          0.8679395417959225,
          0.8677477130029349,
          0.8675566524714392,
          0.8673663531273612,
          0.8671768079986149,
          0.866988010213105,
          0.8667999529967799,
          0.8666126296717309,
          0.8664260336543389,
          0.8662401584534657,
          0.8660549976686895,
          0.8658705449885827,
          0.8656867941890307,
          0.8655037391315906
         ]
        }
       ],
       "layout": {
        "template": {
         "data": {
          "bar": [
           {
            "error_x": {
             "color": "#2a3f5f"
            },
            "error_y": {
             "color": "#2a3f5f"
            },
            "marker": {
             "line": {
              "color": "#E5ECF6",
              "width": 0.5
             }
            },
            "type": "bar"
           }
          ],
          "barpolar": [
           {
            "marker": {
             "line": {
              "color": "#E5ECF6",
              "width": 0.5
             }
            },
            "type": "barpolar"
           }
          ],
          "carpet": [
           {
            "aaxis": {
             "endlinecolor": "#2a3f5f",
             "gridcolor": "white",
             "linecolor": "white",
             "minorgridcolor": "white",
             "startlinecolor": "#2a3f5f"
            },
            "baxis": {
             "endlinecolor": "#2a3f5f",
             "gridcolor": "white",
             "linecolor": "white",
             "minorgridcolor": "white",
             "startlinecolor": "#2a3f5f"
            },
            "type": "carpet"
           }
          ],
          "choropleth": [
           {
            "colorbar": {
             "outlinewidth": 0,
             "ticks": ""
            },
            "type": "choropleth"
           }
          ],
          "contour": [
           {
            "colorbar": {
             "outlinewidth": 0,
             "ticks": ""
            },
            "colorscale": [
             [
              0,
              "#0d0887"
             ],
             [
              0.1111111111111111,
              "#46039f"
             ],
             [
              0.2222222222222222,
              "#7201a8"
             ],
             [
              0.3333333333333333,
              "#9c179e"
             ],
             [
              0.4444444444444444,
              "#bd3786"
             ],
             [
              0.5555555555555556,
              "#d8576b"
             ],
             [
              0.6666666666666666,
              "#ed7953"
             ],
             [
              0.7777777777777778,
              "#fb9f3a"
             ],
             [
              0.8888888888888888,
              "#fdca26"
             ],
             [
              1,
              "#f0f921"
             ]
            ],
            "type": "contour"
           }
          ],
          "contourcarpet": [
           {
            "colorbar": {
             "outlinewidth": 0,
             "ticks": ""
            },
            "type": "contourcarpet"
           }
          ],
          "heatmap": [
           {
            "colorbar": {
             "outlinewidth": 0,
             "ticks": ""
            },
            "colorscale": [
             [
              0,
              "#0d0887"
             ],
             [
              0.1111111111111111,
              "#46039f"
             ],
             [
              0.2222222222222222,
              "#7201a8"
             ],
             [
              0.3333333333333333,
              "#9c179e"
             ],
             [
              0.4444444444444444,
              "#bd3786"
             ],
             [
              0.5555555555555556,
              "#d8576b"
             ],
             [
              0.6666666666666666,
              "#ed7953"
             ],
             [
              0.7777777777777778,
              "#fb9f3a"
             ],
             [
              0.8888888888888888,
              "#fdca26"
             ],
             [
              1,
              "#f0f921"
             ]
            ],
            "type": "heatmap"
           }
          ],
          "heatmapgl": [
           {
            "colorbar": {
             "outlinewidth": 0,
             "ticks": ""
            },
            "colorscale": [
             [
              0,
              "#0d0887"
             ],
             [
              0.1111111111111111,
              "#46039f"
             ],
             [
              0.2222222222222222,
              "#7201a8"
             ],
             [
              0.3333333333333333,
              "#9c179e"
             ],
             [
              0.4444444444444444,
              "#bd3786"
             ],
             [
              0.5555555555555556,
              "#d8576b"
             ],
             [
              0.6666666666666666,
              "#ed7953"
             ],
             [
              0.7777777777777778,
              "#fb9f3a"
             ],
             [
              0.8888888888888888,
              "#fdca26"
             ],
             [
              1,
              "#f0f921"
             ]
            ],
            "type": "heatmapgl"
           }
          ],
          "histogram": [
           {
            "marker": {
             "colorbar": {
              "outlinewidth": 0,
              "ticks": ""
             }
            },
            "type": "histogram"
           }
          ],
          "histogram2d": [
           {
            "colorbar": {
             "outlinewidth": 0,
             "ticks": ""
            },
            "colorscale": [
             [
              0,
              "#0d0887"
             ],
             [
              0.1111111111111111,
              "#46039f"
             ],
             [
              0.2222222222222222,
              "#7201a8"
             ],
             [
              0.3333333333333333,
              "#9c179e"
             ],
             [
              0.4444444444444444,
              "#bd3786"
             ],
             [
              0.5555555555555556,
              "#d8576b"
             ],
             [
              0.6666666666666666,
              "#ed7953"
             ],
             [
              0.7777777777777778,
              "#fb9f3a"
             ],
             [
              0.8888888888888888,
              "#fdca26"
             ],
             [
              1,
              "#f0f921"
             ]
            ],
            "type": "histogram2d"
           }
          ],
          "histogram2dcontour": [
           {
            "colorbar": {
             "outlinewidth": 0,
             "ticks": ""
            },
            "colorscale": [
             [
              0,
              "#0d0887"
             ],
             [
              0.1111111111111111,
              "#46039f"
             ],
             [
              0.2222222222222222,
              "#7201a8"
             ],
             [
              0.3333333333333333,
              "#9c179e"
             ],
             [
              0.4444444444444444,
              "#bd3786"
             ],
             [
              0.5555555555555556,
              "#d8576b"
             ],
             [
              0.6666666666666666,
              "#ed7953"
             ],
             [
              0.7777777777777778,
              "#fb9f3a"
             ],
             [
              0.8888888888888888,
              "#fdca26"
             ],
             [
              1,
              "#f0f921"
             ]
            ],
            "type": "histogram2dcontour"
           }
          ],
          "mesh3d": [
           {
            "colorbar": {
             "outlinewidth": 0,
             "ticks": ""
            },
            "type": "mesh3d"
           }
          ],
          "parcoords": [
           {
            "line": {
             "colorbar": {
              "outlinewidth": 0,
              "ticks": ""
             }
            },
            "type": "parcoords"
           }
          ],
          "pie": [
           {
            "automargin": true,
            "type": "pie"
           }
          ],
          "scatter": [
           {
            "marker": {
             "colorbar": {
              "outlinewidth": 0,
              "ticks": ""
             }
            },
            "type": "scatter"
           }
          ],
          "scatter3d": [
           {
            "line": {
             "colorbar": {
              "outlinewidth": 0,
              "ticks": ""
             }
            },
            "marker": {
             "colorbar": {
              "outlinewidth": 0,
              "ticks": ""
             }
            },
            "type": "scatter3d"
           }
          ],
          "scattercarpet": [
           {
            "marker": {
             "colorbar": {
              "outlinewidth": 0,
              "ticks": ""
             }
            },
            "type": "scattercarpet"
           }
          ],
          "scattergeo": [
           {
            "marker": {
             "colorbar": {
              "outlinewidth": 0,
              "ticks": ""
             }
            },
            "type": "scattergeo"
           }
          ],
          "scattergl": [
           {
            "marker": {
             "colorbar": {
              "outlinewidth": 0,
              "ticks": ""
             }
            },
            "type": "scattergl"
           }
          ],
          "scattermapbox": [
           {
            "marker": {
             "colorbar": {
              "outlinewidth": 0,
              "ticks": ""
             }
            },
            "type": "scattermapbox"
           }
          ],
          "scatterpolar": [
           {
            "marker": {
             "colorbar": {
              "outlinewidth": 0,
              "ticks": ""
             }
            },
            "type": "scatterpolar"
           }
          ],
          "scatterpolargl": [
           {
            "marker": {
             "colorbar": {
              "outlinewidth": 0,
              "ticks": ""
             }
            },
            "type": "scatterpolargl"
           }
          ],
          "scatterternary": [
           {
            "marker": {
             "colorbar": {
              "outlinewidth": 0,
              "ticks": ""
             }
            },
            "type": "scatterternary"
           }
          ],
          "surface": [
           {
            "colorbar": {
             "outlinewidth": 0,
             "ticks": ""
            },
            "colorscale": [
             [
              0,
              "#0d0887"
             ],
             [
              0.1111111111111111,
              "#46039f"
             ],
             [
              0.2222222222222222,
              "#7201a8"
             ],
             [
              0.3333333333333333,
              "#9c179e"
             ],
             [
              0.4444444444444444,
              "#bd3786"
             ],
             [
              0.5555555555555556,
              "#d8576b"
             ],
             [
              0.6666666666666666,
              "#ed7953"
             ],
             [
              0.7777777777777778,
              "#fb9f3a"
             ],
             [
              0.8888888888888888,
              "#fdca26"
             ],
             [
              1,
              "#f0f921"
             ]
            ],
            "type": "surface"
           }
          ],
          "table": [
           {
            "cells": {
             "fill": {
              "color": "#EBF0F8"
             },
             "line": {
              "color": "white"
             }
            },
            "header": {
             "fill": {
              "color": "#C8D4E3"
             },
             "line": {
              "color": "white"
             }
            },
            "type": "table"
           }
          ]
         },
         "layout": {
          "annotationdefaults": {
           "arrowcolor": "#2a3f5f",
           "arrowhead": 0,
           "arrowwidth": 1
          },
          "coloraxis": {
           "colorbar": {
            "outlinewidth": 0,
            "ticks": ""
           }
          },
          "colorscale": {
           "diverging": [
            [
             0,
             "#8e0152"
            ],
            [
             0.1,
             "#c51b7d"
            ],
            [
             0.2,
             "#de77ae"
            ],
            [
             0.3,
             "#f1b6da"
            ],
            [
             0.4,
             "#fde0ef"
            ],
            [
             0.5,
             "#f7f7f7"
            ],
            [
             0.6,
             "#e6f5d0"
            ],
            [
             0.7,
             "#b8e186"
            ],
            [
             0.8,
             "#7fbc41"
            ],
            [
             0.9,
             "#4d9221"
            ],
            [
             1,
             "#276419"
            ]
           ],
           "sequential": [
            [
             0,
             "#0d0887"
            ],
            [
             0.1111111111111111,
             "#46039f"
            ],
            [
             0.2222222222222222,
             "#7201a8"
            ],
            [
             0.3333333333333333,
             "#9c179e"
            ],
            [
             0.4444444444444444,
             "#bd3786"
            ],
            [
             0.5555555555555556,
             "#d8576b"
            ],
            [
             0.6666666666666666,
             "#ed7953"
            ],
            [
             0.7777777777777778,
             "#fb9f3a"
            ],
            [
             0.8888888888888888,
             "#fdca26"
            ],
            [
             1,
             "#f0f921"
            ]
           ],
           "sequentialminus": [
            [
             0,
             "#0d0887"
            ],
            [
             0.1111111111111111,
             "#46039f"
            ],
            [
             0.2222222222222222,
             "#7201a8"
            ],
            [
             0.3333333333333333,
             "#9c179e"
            ],
            [
             0.4444444444444444,
             "#bd3786"
            ],
            [
             0.5555555555555556,
             "#d8576b"
            ],
            [
             0.6666666666666666,
             "#ed7953"
            ],
            [
             0.7777777777777778,
             "#fb9f3a"
            ],
            [
             0.8888888888888888,
             "#fdca26"
            ],
            [
             1,
             "#f0f921"
            ]
           ]
          },
          "colorway": [
           "#636efa",
           "#EF553B",
           "#00cc96",
           "#ab63fa",
           "#FFA15A",
           "#19d3f3",
           "#FF6692",
           "#B6E880",
           "#FF97FF",
           "#FECB52"
          ],
          "font": {
           "color": "#2a3f5f"
          },
          "geo": {
           "bgcolor": "white",
           "lakecolor": "white",
           "landcolor": "#E5ECF6",
           "showlakes": true,
           "showland": true,
           "subunitcolor": "white"
          },
          "hoverlabel": {
           "align": "left"
          },
          "hovermode": "closest",
          "mapbox": {
           "style": "light"
          },
          "paper_bgcolor": "white",
          "plot_bgcolor": "#E5ECF6",
          "polar": {
           "angularaxis": {
            "gridcolor": "white",
            "linecolor": "white",
            "ticks": ""
           },
           "bgcolor": "#E5ECF6",
           "radialaxis": {
            "gridcolor": "white",
            "linecolor": "white",
            "ticks": ""
           }
          },
          "scene": {
           "xaxis": {
            "backgroundcolor": "#E5ECF6",
            "gridcolor": "white",
            "gridwidth": 2,
            "linecolor": "white",
            "showbackground": true,
            "ticks": "",
            "zerolinecolor": "white"
           },
           "yaxis": {
            "backgroundcolor": "#E5ECF6",
            "gridcolor": "white",
            "gridwidth": 2,
            "linecolor": "white",
            "showbackground": true,
            "ticks": "",
            "zerolinecolor": "white"
           },
           "zaxis": {
            "backgroundcolor": "#E5ECF6",
            "gridcolor": "white",
            "gridwidth": 2,
            "linecolor": "white",
            "showbackground": true,
            "ticks": "",
            "zerolinecolor": "white"
           }
          },
          "shapedefaults": {
           "line": {
            "color": "#2a3f5f"
           }
          },
          "ternary": {
           "aaxis": {
            "gridcolor": "white",
            "linecolor": "white",
            "ticks": ""
           },
           "baxis": {
            "gridcolor": "white",
            "linecolor": "white",
            "ticks": ""
           },
           "bgcolor": "#E5ECF6",
           "caxis": {
            "gridcolor": "white",
            "linecolor": "white",
            "ticks": ""
           }
          },
          "title": {
           "x": 0.05
          },
          "xaxis": {
           "automargin": true,
           "gridcolor": "white",
           "linecolor": "white",
           "ticks": "",
           "title": {
            "standoff": 15
           },
           "zerolinecolor": "white",
           "zerolinewidth": 2
          },
          "yaxis": {
           "automargin": true,
           "gridcolor": "white",
           "linecolor": "white",
           "ticks": "",
           "title": {
            "standoff": 15
           },
           "zerolinecolor": "white",
           "zerolinewidth": 2
          }
         }
        },
        "title": {
         "text": "Average Survival Free of Primary Outcome for Entered Parameters"
        },
        "xaxis": {
         "title": {
          "text": "Days from ED presentation"
         }
        },
        "yaxis": {
         "title": {
          "text": "Probability of Survival Free of Primary Outcome"
         }
        }
       }
      },
      "text/html": [
       "<div>\n",
       "        \n",
       "        \n",
       "            <div id=\"b10c1240-86be-4de1-afb4-1379bc2b6cc2\" class=\"plotly-graph-div\" style=\"height:525px; width:100%;\"></div>\n",
       "            <script type=\"text/javascript\">\n",
       "                require([\"plotly\"], function(Plotly) {\n",
       "                    window.PLOTLYENV=window.PLOTLYENV || {};\n",
       "                    \n",
       "                if (document.getElementById(\"b10c1240-86be-4de1-afb4-1379bc2b6cc2\")) {\n",
       "                    Plotly.newPlot(\n",
       "                        'b10c1240-86be-4de1-afb4-1379bc2b6cc2',\n",
       "                        [{\"mode\": \"lines\", \"name\": \"Entered Risk Parameters\", \"type\": \"scatter\", \"x\": [0.0, 0.1507537688442211, 0.3015075376884422, 0.4522613065326633, 0.6030150753768844, 0.7537688442211055, 0.9045226130653266, 1.0552763819095476, 1.2060301507537687, 1.3567839195979898, 1.507537688442211, 1.658291457286432, 1.809045226130653, 1.9597989949748742, 2.1105527638190953, 2.2613065326633164, 2.4120603015075375, 2.5628140703517586, 2.7135678391959797, 2.8643216080402008, 3.015075376884422, 3.165829145728643, 3.316582914572864, 3.467336683417085, 3.618090452261306, 3.7688442211055273, 3.9195979899497484, 4.0703517587939695, 4.221105527638191, 4.371859296482412, 4.522613065326633, 4.673366834170854, 4.824120603015075, 4.974874371859296, 5.125628140703517, 5.276381909547738, 5.427135678391959, 5.57788944723618, 5.7286432160804015, 5.879396984924623, 6.030150753768844, 6.180904522613065, 6.331658291457286, 6.482412060301507, 6.633165829145728, 6.783919597989949, 6.93467336683417, 7.085427135678391, 7.236180904522612, 7.3869346733668335, 7.537688442211055, 7.688442211055276, 7.839195979899497, 7.989949748743718, 8.140703517587939, 8.29145728643216, 8.442211055276381, 8.592964824120603, 8.743718592964823, 8.894472361809044, 9.045226130653266, 9.195979899497488, 9.346733668341708, 9.497487437185928, 9.64824120603015, 9.798994974874372, 9.949748743718592, 10.100502512562812, 10.251256281407034, 10.402010050251256, 10.552763819095476, 10.703517587939697, 10.854271356783919, 11.00502512562814, 11.15577889447236, 11.306532663316581, 11.457286432160803, 11.608040201005025, 11.758793969849245, 11.909547738693465, 12.060301507537687, 12.21105527638191, 12.36180904522613, 12.51256281407035, 12.663316582914572, 12.814070351758794, 12.964824120603014, 13.115577889447234, 13.266331658291456, 13.417085427135678, 13.567839195979898, 13.718592964824118, 13.86934673366834, 14.020100502512562, 14.170854271356783, 14.321608040201003, 14.472361809045225, 14.623115577889447, 14.773869346733667, 14.924623115577887, 15.07537688442211, 15.226130653266331, 15.376884422110551, 15.527638190954772, 15.678391959798994, 15.829145728643216, 15.979899497487436, 16.130653266331656, 16.281407035175878, 16.4321608040201, 16.58291457286432, 16.73366834170854, 16.884422110552762, 17.035175879396984, 17.185929648241206, 17.336683417085425, 17.487437185929647, 17.63819095477387, 17.788944723618087, 17.93969849246231, 18.09045226130653, 18.241206030150753, 18.391959798994975, 18.542713567839193, 18.693467336683415, 18.844221105527637, 18.994974874371856, 19.145728643216078, 19.2964824120603, 19.44723618090452, 19.597989949748744, 19.748743718592962, 19.899497487437184, 20.050251256281406, 20.201005025125625, 20.351758793969847, 20.50251256281407, 20.65326633165829, 20.804020100502512, 20.95477386934673, 21.105527638190953, 21.256281407035175, 21.407035175879393, 21.557788944723615, 21.708542713567837, 21.85929648241206, 22.01005025125628, 22.1608040201005, 22.31155778894472, 22.462311557788944, 22.613065326633162, 22.763819095477384, 22.914572864321606, 23.065326633165828, 23.21608040201005, 23.36683417085427, 23.51758793969849, 23.668341708542712, 23.81909547738693, 23.969849246231153, 24.120603015075375, 24.271356783919597, 24.42211055276382, 24.572864321608037, 24.72361809045226, 24.87437185929648, 25.0251256281407, 25.17587939698492, 25.326633165829143, 25.477386934673365, 25.628140703517587, 25.778894472361806, 25.929648241206028, 26.08040201005025, 26.23115577889447, 26.38190954773869, 26.532663316582912, 26.683417085427134, 26.834170854271356, 26.984924623115575, 27.135678391959797, 27.28643216080402, 27.437185929648237, 27.58793969849246, 27.73869346733668, 27.889447236180903, 28.040201005025125, 28.190954773869343, 28.341708542713565, 28.492462311557787, 28.643216080402006, 28.793969849246228, 28.94472361809045, 29.09547738693467, 29.246231155778894, 29.396984924623112, 29.547738693467334, 29.698492462311556, 29.849246231155774, 30.0], \"y\": [1.0, 0.9694928565216052, 0.9628073142282336, 0.9582508318580634, 0.954691236095902, 0.9517277757212551, 0.9491669855064186, 0.9468991479816344, 0.9448554326303356, 0.9429895394464922, 0.9412686847854872, 0.9396687230455348, 0.9381713065075151, 0.9367621346081114, 0.9354298239939333, 0.9341651511067356, 0.9329605281110454, 0.9318096303501917, 0.9307071252825206, 0.9296484712158342, 0.9286297651802321, 0.9276476261121577, 0.9266991038802667, 0.9257816075341129, 0.9248928480634034, 0.924030792257147, 0.9231936251568107, 0.92237971923709, 0.9215876089067289, 0.920815969255642, 0.9200635982205377, 0.9193294015246031, 0.9186123798849946, 0.9179116180870733, 0.9172262756051567, 0.9165555785122207, 0.9158988124699605, 0.9152553166291839, 0.9146244783011106, 0.9140057282845833, 0.9133985367538364, 0.9128024096273546, 0.9122168853512623, 0.9116415320412555, 0.9110759449357604, 0.9105197441201776, 0.9099725724880168, 0.9094340939096865, 0.9089039915838508, 0.9083819665497536, 0.9078677363418529, 0.9073610337705954, 0.9068616058152799, 0.9063692126167617, 0.9058836265592917, 0.9054046314321086, 0.9049320216625427, 0.9044656016133705, 0.9040051849380106, 0.9035505939878927, 0.9031016592669673, 0.9026582189288911, 0.9022201183129066, 0.9017872095148654, 0.9013593509902231, 0.9009364071861632, 0.9005182482002977, 0.9001047494636573, 0.8996957914459027, 0.8992912593809023, 0.8988910430109917, 0.8984950363483989, 0.8981031374524573, 0.8977152482213583, 0.8973312741973098, 0.8969511243840691, 0.896574711075909, 0.8962019496971638, 0.8958327586515689, 0.8954670591806809, 0.8951047752307237, 0.8947458333272592, 0.8943901624571335, 0.8940376939571928, 0.8936883614093036, 0.8933421005412511, 0.89299884913312, 0.8926585469287961, 0.892321135552251, 0.8919865584283035, 0.8916547607075677, 0.8913256891953242, 0.8909992922840693, 0.8906755198895125, 0.8903543233898131, 0.8900356555678574, 0.8897194705563952, 0.8894057237858665, 0.8890943719347575, 0.8887853728823427, 0.8884786856636719, 0.8881742704266767, 0.8878720883912754, 0.8875721018103654, 0.8872742739325983, 0.8869785689668391, 0.8866849520482206, 0.8863933892057028, 0.8861038473310622, 0.8858162941492316, 0.8855306981899209, 0.8852470287604539, 0.8849652559197556, 0.8846853504534349, 0.8844072838499042, 0.8841310282774866, 0.8838565565624594, 0.8835838421679906, 0.8833128591739213, 0.883043582257357, 0.8827759866740252, 0.8825100482403664, 0.8822457433163213, 0.8819830487887829, 0.8817219420556817, 0.8814624010106765, 0.8812044040284219, 0.8809479299503858, 0.880692958071194, 0.8804394681254764, 0.8801874402751949, 0.8799368550974299, 0.8796876935726051, 0.8794399370731346, 0.8791935673524706, 0.8789485665345368, 0.8787049171035307, 0.8784626018940792, 0.8782216040817329, 0.8779819071737842, 0.8777434950003984, 0.8775063517060412, 0.8772704617411948, 0.8770358098543474, 0.8768023810842475, 0.8765701607524115, 0.8763391344558747, 0.8761092880601771, 0.8758806076925726, 0.875653079735456, 0.8754266908199971, 0.8752014278199751, 0.8749772778458055, 0.8747542282387523, 0.8745322665653179, 0.8743113806118059, 0.8740915583790485, 0.8738727880772931, 0.8736550581212428, 0.873438357125245, 0.8732226738986225, 0.8730079974411421, 0.8727943169386156, 0.8725816217586301, 0.8723699014463997, 0.872159145720739, 0.8719493444701494, 0.8717404877490178, 0.8715325657739227, 0.8713255689200429, 0.8711194877176679, 0.8709143128488043, 0.870710035143875, 0.8705066455785111, 0.8703041352704285, 0.8701024954763917, 0.8699017175892575, 0.8697017931350992, 0.8695027137704067, 0.8693044712793611, 0.8691070575711807, 0.8689104646775375, 0.8687146847500401, 0.8685197100577818, 0.8683255329849529, 0.8681321460285126, 0.8679395417959225, 0.8677477130029349, 0.8675566524714392, 0.8673663531273612, 0.8671768079986149, 0.866988010213105, 0.8667999529967799, 0.8666126296717309, 0.8664260336543389, 0.8662401584534657, 0.8660549976686895, 0.8658705449885827, 0.8656867941890307, 0.8655037391315906]}],\n",
       "                        {\"template\": {\"data\": {\"bar\": [{\"error_x\": {\"color\": \"#2a3f5f\"}, \"error_y\": {\"color\": \"#2a3f5f\"}, \"marker\": {\"line\": {\"color\": \"#E5ECF6\", \"width\": 0.5}}, \"type\": \"bar\"}], \"barpolar\": [{\"marker\": {\"line\": {\"color\": \"#E5ECF6\", \"width\": 0.5}}, \"type\": \"barpolar\"}], \"carpet\": [{\"aaxis\": {\"endlinecolor\": \"#2a3f5f\", \"gridcolor\": \"white\", \"linecolor\": \"white\", \"minorgridcolor\": \"white\", \"startlinecolor\": \"#2a3f5f\"}, \"baxis\": {\"endlinecolor\": \"#2a3f5f\", \"gridcolor\": \"white\", \"linecolor\": \"white\", \"minorgridcolor\": \"white\", \"startlinecolor\": \"#2a3f5f\"}, \"type\": \"carpet\"}], \"choropleth\": [{\"colorbar\": {\"outlinewidth\": 0, \"ticks\": \"\"}, \"type\": \"choropleth\"}], \"contour\": [{\"colorbar\": {\"outlinewidth\": 0, \"ticks\": \"\"}, \"colorscale\": [[0.0, \"#0d0887\"], [0.1111111111111111, \"#46039f\"], [0.2222222222222222, \"#7201a8\"], [0.3333333333333333, \"#9c179e\"], [0.4444444444444444, \"#bd3786\"], [0.5555555555555556, \"#d8576b\"], [0.6666666666666666, \"#ed7953\"], [0.7777777777777778, \"#fb9f3a\"], [0.8888888888888888, \"#fdca26\"], [1.0, \"#f0f921\"]], \"type\": \"contour\"}], \"contourcarpet\": [{\"colorbar\": {\"outlinewidth\": 0, \"ticks\": \"\"}, \"type\": \"contourcarpet\"}], \"heatmap\": [{\"colorbar\": {\"outlinewidth\": 0, \"ticks\": \"\"}, \"colorscale\": [[0.0, \"#0d0887\"], [0.1111111111111111, \"#46039f\"], [0.2222222222222222, \"#7201a8\"], [0.3333333333333333, \"#9c179e\"], [0.4444444444444444, \"#bd3786\"], [0.5555555555555556, \"#d8576b\"], [0.6666666666666666, \"#ed7953\"], [0.7777777777777778, \"#fb9f3a\"], [0.8888888888888888, \"#fdca26\"], [1.0, \"#f0f921\"]], \"type\": \"heatmap\"}], \"heatmapgl\": [{\"colorbar\": {\"outlinewidth\": 0, \"ticks\": \"\"}, \"colorscale\": [[0.0, \"#0d0887\"], [0.1111111111111111, \"#46039f\"], [0.2222222222222222, \"#7201a8\"], [0.3333333333333333, \"#9c179e\"], [0.4444444444444444, \"#bd3786\"], [0.5555555555555556, \"#d8576b\"], [0.6666666666666666, \"#ed7953\"], [0.7777777777777778, \"#fb9f3a\"], [0.8888888888888888, \"#fdca26\"], [1.0, \"#f0f921\"]], \"type\": \"heatmapgl\"}], \"histogram\": [{\"marker\": {\"colorbar\": {\"outlinewidth\": 0, \"ticks\": \"\"}}, \"type\": \"histogram\"}], \"histogram2d\": [{\"colorbar\": {\"outlinewidth\": 0, \"ticks\": \"\"}, \"colorscale\": [[0.0, \"#0d0887\"], [0.1111111111111111, \"#46039f\"], [0.2222222222222222, \"#7201a8\"], [0.3333333333333333, \"#9c179e\"], [0.4444444444444444, \"#bd3786\"], [0.5555555555555556, \"#d8576b\"], [0.6666666666666666, \"#ed7953\"], [0.7777777777777778, \"#fb9f3a\"], [0.8888888888888888, \"#fdca26\"], [1.0, \"#f0f921\"]], \"type\": \"histogram2d\"}], \"histogram2dcontour\": [{\"colorbar\": {\"outlinewidth\": 0, \"ticks\": \"\"}, \"colorscale\": [[0.0, \"#0d0887\"], [0.1111111111111111, \"#46039f\"], [0.2222222222222222, \"#7201a8\"], [0.3333333333333333, \"#9c179e\"], [0.4444444444444444, \"#bd3786\"], [0.5555555555555556, \"#d8576b\"], [0.6666666666666666, \"#ed7953\"], [0.7777777777777778, \"#fb9f3a\"], [0.8888888888888888, \"#fdca26\"], [1.0, \"#f0f921\"]], \"type\": \"histogram2dcontour\"}], \"mesh3d\": [{\"colorbar\": {\"outlinewidth\": 0, \"ticks\": \"\"}, \"type\": \"mesh3d\"}], \"parcoords\": [{\"line\": {\"colorbar\": {\"outlinewidth\": 0, \"ticks\": \"\"}}, \"type\": \"parcoords\"}], \"pie\": [{\"automargin\": true, \"type\": \"pie\"}], \"scatter\": [{\"marker\": {\"colorbar\": {\"outlinewidth\": 0, \"ticks\": \"\"}}, \"type\": \"scatter\"}], \"scatter3d\": [{\"line\": {\"colorbar\": {\"outlinewidth\": 0, \"ticks\": \"\"}}, \"marker\": {\"colorbar\": {\"outlinewidth\": 0, \"ticks\": \"\"}}, \"type\": \"scatter3d\"}], \"scattercarpet\": [{\"marker\": {\"colorbar\": {\"outlinewidth\": 0, \"ticks\": \"\"}}, \"type\": \"scattercarpet\"}], \"scattergeo\": [{\"marker\": {\"colorbar\": {\"outlinewidth\": 0, \"ticks\": \"\"}}, \"type\": \"scattergeo\"}], \"scattergl\": [{\"marker\": {\"colorbar\": {\"outlinewidth\": 0, \"ticks\": \"\"}}, \"type\": \"scattergl\"}], \"scattermapbox\": [{\"marker\": {\"colorbar\": {\"outlinewidth\": 0, \"ticks\": \"\"}}, \"type\": \"scattermapbox\"}], \"scatterpolar\": [{\"marker\": {\"colorbar\": {\"outlinewidth\": 0, \"ticks\": \"\"}}, \"type\": \"scatterpolar\"}], \"scatterpolargl\": [{\"marker\": {\"colorbar\": {\"outlinewidth\": 0, \"ticks\": \"\"}}, \"type\": \"scatterpolargl\"}], \"scatterternary\": [{\"marker\": {\"colorbar\": {\"outlinewidth\": 0, \"ticks\": \"\"}}, \"type\": \"scatterternary\"}], \"surface\": [{\"colorbar\": {\"outlinewidth\": 0, \"ticks\": \"\"}, \"colorscale\": [[0.0, \"#0d0887\"], [0.1111111111111111, \"#46039f\"], [0.2222222222222222, \"#7201a8\"], [0.3333333333333333, \"#9c179e\"], [0.4444444444444444, \"#bd3786\"], [0.5555555555555556, \"#d8576b\"], [0.6666666666666666, \"#ed7953\"], [0.7777777777777778, \"#fb9f3a\"], [0.8888888888888888, \"#fdca26\"], [1.0, \"#f0f921\"]], \"type\": \"surface\"}], \"table\": [{\"cells\": {\"fill\": {\"color\": \"#EBF0F8\"}, \"line\": {\"color\": \"white\"}}, \"header\": {\"fill\": {\"color\": \"#C8D4E3\"}, \"line\": {\"color\": \"white\"}}, \"type\": \"table\"}]}, \"layout\": {\"annotationdefaults\": {\"arrowcolor\": \"#2a3f5f\", \"arrowhead\": 0, \"arrowwidth\": 1}, \"coloraxis\": {\"colorbar\": {\"outlinewidth\": 0, \"ticks\": \"\"}}, \"colorscale\": {\"diverging\": [[0, \"#8e0152\"], [0.1, \"#c51b7d\"], [0.2, \"#de77ae\"], [0.3, \"#f1b6da\"], [0.4, \"#fde0ef\"], [0.5, \"#f7f7f7\"], [0.6, \"#e6f5d0\"], [0.7, \"#b8e186\"], [0.8, \"#7fbc41\"], [0.9, \"#4d9221\"], [1, \"#276419\"]], \"sequential\": [[0.0, \"#0d0887\"], [0.1111111111111111, \"#46039f\"], [0.2222222222222222, \"#7201a8\"], [0.3333333333333333, \"#9c179e\"], [0.4444444444444444, \"#bd3786\"], [0.5555555555555556, \"#d8576b\"], [0.6666666666666666, \"#ed7953\"], [0.7777777777777778, \"#fb9f3a\"], [0.8888888888888888, \"#fdca26\"], [1.0, \"#f0f921\"]], \"sequentialminus\": [[0.0, \"#0d0887\"], [0.1111111111111111, \"#46039f\"], [0.2222222222222222, \"#7201a8\"], [0.3333333333333333, \"#9c179e\"], [0.4444444444444444, \"#bd3786\"], [0.5555555555555556, \"#d8576b\"], [0.6666666666666666, \"#ed7953\"], [0.7777777777777778, \"#fb9f3a\"], [0.8888888888888888, \"#fdca26\"], [1.0, \"#f0f921\"]]}, \"colorway\": [\"#636efa\", \"#EF553B\", \"#00cc96\", \"#ab63fa\", \"#FFA15A\", \"#19d3f3\", \"#FF6692\", \"#B6E880\", \"#FF97FF\", \"#FECB52\"], \"font\": {\"color\": \"#2a3f5f\"}, \"geo\": {\"bgcolor\": \"white\", \"lakecolor\": \"white\", \"landcolor\": \"#E5ECF6\", \"showlakes\": true, \"showland\": true, \"subunitcolor\": \"white\"}, \"hoverlabel\": {\"align\": \"left\"}, \"hovermode\": \"closest\", \"mapbox\": {\"style\": \"light\"}, \"paper_bgcolor\": \"white\", \"plot_bgcolor\": \"#E5ECF6\", \"polar\": {\"angularaxis\": {\"gridcolor\": \"white\", \"linecolor\": \"white\", \"ticks\": \"\"}, \"bgcolor\": \"#E5ECF6\", \"radialaxis\": {\"gridcolor\": \"white\", \"linecolor\": \"white\", \"ticks\": \"\"}}, \"scene\": {\"xaxis\": {\"backgroundcolor\": \"#E5ECF6\", \"gridcolor\": \"white\", \"gridwidth\": 2, \"linecolor\": \"white\", \"showbackground\": true, \"ticks\": \"\", \"zerolinecolor\": \"white\"}, \"yaxis\": {\"backgroundcolor\": \"#E5ECF6\", \"gridcolor\": \"white\", \"gridwidth\": 2, \"linecolor\": \"white\", \"showbackground\": true, \"ticks\": \"\", \"zerolinecolor\": \"white\"}, \"zaxis\": {\"backgroundcolor\": \"#E5ECF6\", \"gridcolor\": \"white\", \"gridwidth\": 2, \"linecolor\": \"white\", \"showbackground\": true, \"ticks\": \"\", \"zerolinecolor\": \"white\"}}, \"shapedefaults\": {\"line\": {\"color\": \"#2a3f5f\"}}, \"ternary\": {\"aaxis\": {\"gridcolor\": \"white\", \"linecolor\": \"white\", \"ticks\": \"\"}, \"baxis\": {\"gridcolor\": \"white\", \"linecolor\": \"white\", \"ticks\": \"\"}, \"bgcolor\": \"#E5ECF6\", \"caxis\": {\"gridcolor\": \"white\", \"linecolor\": \"white\", \"ticks\": \"\"}}, \"title\": {\"x\": 0.05}, \"xaxis\": {\"automargin\": true, \"gridcolor\": \"white\", \"linecolor\": \"white\", \"ticks\": \"\", \"title\": {\"standoff\": 15}, \"zerolinecolor\": \"white\", \"zerolinewidth\": 2}, \"yaxis\": {\"automargin\": true, \"gridcolor\": \"white\", \"linecolor\": \"white\", \"ticks\": \"\", \"title\": {\"standoff\": 15}, \"zerolinecolor\": \"white\", \"zerolinewidth\": 2}}}, \"title\": {\"text\": \"Average Survival Free of Primary Outcome for Entered Parameters\"}, \"xaxis\": {\"title\": {\"text\": \"Days from ED presentation\"}}, \"yaxis\": {\"title\": {\"text\": \"Probability of Survival Free of Primary Outcome\"}}},\n",
       "                        {\"responsive\": true}\n",
       "                    ).then(function(){\n",
       "                            \n",
       "var gd = document.getElementById('b10c1240-86be-4de1-afb4-1379bc2b6cc2');\n",
       "var x = new MutationObserver(function (mutations, observer) {{\n",
       "        var display = window.getComputedStyle(gd).display;\n",
       "        if (!display || display === 'none') {{\n",
       "            console.log([gd, 'removed!']);\n",
       "            Plotly.purge(gd);\n",
       "            observer.disconnect();\n",
       "        }}\n",
       "}});\n",
       "\n",
       "// Listen for the removal of the full notebook cells\n",
       "var notebookContainer = gd.closest('#notebook-container');\n",
       "if (notebookContainer) {{\n",
       "    x.observe(notebookContainer, {childList: true});\n",
       "}}\n",
       "\n",
       "// Listen for the clearing of the current output cell\n",
       "var outputEl = gd.closest('.output');\n",
       "if (outputEl) {{\n",
       "    x.observe(outputEl, {childList: true});\n",
       "}}\n",
       "\n",
       "                        })\n",
       "                };\n",
       "                });\n",
       "            </script>\n",
       "        </div>"
      ]
     },
     "metadata": {},
     "output_type": "display_data"
    }
   ],
   "source": [
    "import plotly.express as px\n",
    "\n",
    "times=np.linspace(0, 30, 200)\n",
    "outcomes = [weibull_surv(1/getXb(50), np.exp(-1.235), t) for t in times]\n",
    "\n",
    "fig = go.Figure()\n",
    "\n",
    "fig.add_trace(go.Scatter(mode='lines', y=outcomes, x=times, name='Entered Risk Parameters'))\n",
    "\n",
    "fig.update_layout(title='Average Survival Free of Primary Outcome for Entered Parameters',\n",
    "                  xaxis_title='Days from ED presentation', \n",
    "                  yaxis_title='Probability of Survival Free of Primary Outcome')\n",
    "fig.show()"
   ]
  },
  {
   "cell_type": "code",
   "execution_count": 32,
   "metadata": {},
   "outputs": [
    {
     "data": {
      "text/plain": [
       "0.29083476236785155"
      ]
     },
     "execution_count": 32,
     "metadata": {},
     "output_type": "execute_result"
    }
   ],
   "source": [
    "np.exp(-1.235)"
   ]
  },
  {
   "cell_type": "code",
   "execution_count": 35,
   "metadata": {},
   "outputs": [
    {
     "data": {
      "text/plain": [
       "1.358409157630355"
      ]
     },
     "execution_count": 35,
     "metadata": {},
     "output_type": "execute_result"
    }
   ],
   "source": [
    "np.log(3.89)"
   ]
  },
  {
   "cell_type": "code",
   "execution_count": 317,
   "metadata": {
    "collapsed": true
   },
   "outputs": [
    {
     "ename": "KeyError",
     "evalue": "'covariate `age` is not present in the original dataset'",
     "output_type": "error",
     "traceback": [
      "\u001b[0;31m---------------------------------------------------------------------------\u001b[0m",
      "\u001b[0;31mKeyError\u001b[0m                                  Traceback (most recent call last)",
      "\u001b[0;32m<ipython-input-317-8ebd4c43648a>\u001b[0m in \u001b[0;36m<module>\u001b[0;34m\u001b[0m\n\u001b[0;32m----> 1\u001b[0;31m \u001b[0maft\u001b[0m\u001b[0;34m.\u001b[0m\u001b[0mplot_covariate_groups\u001b[0m\u001b[0;34m(\u001b[0m\u001b[0;34m'age'\u001b[0m\u001b[0;34m,\u001b[0m \u001b[0mvalues\u001b[0m\u001b[0;34m=\u001b[0m\u001b[0;34m[\u001b[0m\u001b[0;36m41\u001b[0m\u001b[0;34m]\u001b[0m\u001b[0;34m)\u001b[0m\u001b[0;34m\u001b[0m\u001b[0;34m\u001b[0m\u001b[0m\n\u001b[0m",
      "\u001b[0;32m~/opt/anaconda3/lib/python3.7/site-packages/lifelines/fitters/__init__.py\u001b[0m in \u001b[0;36mplot_covariate_groups\u001b[0;34m(self, covariates, values, plot_baseline, ax, times, **kwargs)\u001b[0m\n\u001b[1;32m   3195\u001b[0m         \u001b[0;32mfor\u001b[0m \u001b[0mcovariate\u001b[0m \u001b[0;32min\u001b[0m \u001b[0mcovariates\u001b[0m\u001b[0;34m:\u001b[0m\u001b[0;34m\u001b[0m\u001b[0;34m\u001b[0m\u001b[0m\n\u001b[1;32m   3196\u001b[0m             \u001b[0;32mif\u001b[0m \u001b[0mcovariate\u001b[0m \u001b[0;32mnot\u001b[0m \u001b[0;32min\u001b[0m \u001b[0moriginal_columns\u001b[0m\u001b[0;34m:\u001b[0m\u001b[0;34m\u001b[0m\u001b[0;34m\u001b[0m\u001b[0m\n\u001b[0;32m-> 3197\u001b[0;31m                 \u001b[0;32mraise\u001b[0m \u001b[0mKeyError\u001b[0m\u001b[0;34m(\u001b[0m\u001b[0;34m\"covariate `%s` is not present in the original dataset\"\u001b[0m \u001b[0;34m%\u001b[0m \u001b[0mcovariate\u001b[0m\u001b[0;34m)\u001b[0m\u001b[0;34m\u001b[0m\u001b[0;34m\u001b[0m\u001b[0m\n\u001b[0m\u001b[1;32m   3198\u001b[0m \u001b[0;34m\u001b[0m\u001b[0m\n\u001b[1;32m   3199\u001b[0m         \u001b[0;32mif\u001b[0m \u001b[0max\u001b[0m \u001b[0;32mis\u001b[0m \u001b[0;32mNone\u001b[0m\u001b[0;34m:\u001b[0m\u001b[0;34m\u001b[0m\u001b[0;34m\u001b[0m\u001b[0m\n",
      "\u001b[0;31mKeyError\u001b[0m: 'covariate `age` is not present in the original dataset'"
     ]
    }
   ],
   "source": [
    "aft.plot_covariate_groups('age', values=[41])"
   ]
  },
  {
   "cell_type": "code",
   "execution_count": 200,
   "metadata": {},
   "outputs": [
    {
     "ename": "NameError",
     "evalue": "name 'age' is not defined",
     "output_type": "error",
     "traceback": [
      "\u001b[0;31m---------------------------------------------------------------------------\u001b[0m",
      "\u001b[0;31mNameError\u001b[0m                                 Traceback (most recent call last)",
      "\u001b[0;32m<ipython-input-200-5bb8670dd361>\u001b[0m in \u001b[0;36m<module>\u001b[0;34m\u001b[0m\n\u001b[0;32m----> 1\u001b[0;31m \u001b[0mxb\u001b[0m \u001b[0;34m=\u001b[0m \u001b[0;34m-\u001b[0m\u001b[0;36m.118\u001b[0m\u001b[0;34m*\u001b[0m\u001b[0mage\u001b[0m \u001b[0;34m+\u001b[0m \u001b[0;36m15.954\u001b[0m\u001b[0;34m\u001b[0m\u001b[0;34m\u001b[0m\u001b[0m\n\u001b[0m",
      "\u001b[0;31mNameError\u001b[0m: name 'age' is not defined"
     ]
    }
   ],
   "source": []
  },
  {
   "cell_type": "code",
   "execution_count": null,
   "metadata": {},
   "outputs": [],
   "source": []
  }
 ],
 "metadata": {
  "kernelspec": {
   "display_name": "Python 3",
   "language": "python",
   "name": "python3"
  },
  "language_info": {
   "codemirror_mode": {
    "name": "ipython",
    "version": 3
   },
   "file_extension": ".py",
   "mimetype": "text/x-python",
   "name": "python",
   "nbconvert_exporter": "python",
   "pygments_lexer": "ipython3",
   "version": "3.7.4"
  }
 },
 "nbformat": 4,
 "nbformat_minor": 2
}
